{
 "cells": [
  {
   "cell_type": "code",
   "execution_count": 1,
   "id": "ec1741ec",
   "metadata": {},
   "outputs": [],
   "source": [
    "import pandas as pd\n",
    "import matplotlib.pyplot as plt\n",
    "from xgboost import XGBClassifier\n",
    "from xgboost import plot_importance\n",
    "from imblearn.under_sampling import RandomUnderSampler\n",
    "import sklearn as sk\n",
    "import pickle"
   ]
  },
  {
   "cell_type": "code",
   "execution_count": 2,
   "id": "61de3d74",
   "metadata": {},
   "outputs": [],
   "source": [
    "def df_transformation(df):\n",
    "    df_temp = df[features]\n",
    "    df_temp['datetime'] = df_temp.datetime.dt.strftime('%Y-%m-%d %H:%M:%S').astype('datetime64[ns]')\n",
    "\n",
    "    output = df_temp.groupby(by=[\"datetime\"], dropna=False).mean().reset_index()\n",
    "    \n",
    "    return output "
   ]
  },
  {
   "cell_type": "code",
   "execution_count": 3,
   "id": "dd975ea0",
   "metadata": {},
   "outputs": [],
   "source": [
    "# Create a custom function for data transformation\n",
    "# May as well import all of these features into the initial dataframe, you can cut it down..\n",
    "# ..when you do the X,y train/test split\n",
    "features = ['datetime',\n",
    "            'latitude',\n",
    "            'longitude',\n",
    "            'absoluteAltitude',\n",
    "            'magneticHeading',\n",
    "            'trueHeading',\n",
    "            'groundSpeed',\n",
    "            'trueAirspeed',\n",
    "            'pitch',\n",
    "            'roll',\n",
    "            'yaw',\n",
    "            'angleOfAttack',\n",
    "            'flightPathAngle',\n",
    "            'verticalFlightPathAngle',\n",
    "            'horizontalFlightPathAngle',\n",
    "            'rollAcceleration',\n",
    "            'pitchAcceleration',\n",
    "            'yawAcceleration',\n",
    "            'e1N1ng',\n",
    "            'e2N1ng',\n",
    "            'e1N2nf',\n",
    "            'e2N2nf',\n",
    "            'mainRotorRpm',\n",
    "            'tailRotorRpm',\n",
    "            'mainRotorTorque',\n",
    "            'e1Itt',\n",
    "            'e2Itt',\n",
    "            'mainRotorInducedInflow',\n",
    "            'flightDirectorPitch',\n",
    "            'flightDirectorRoll',\n",
    "            'climbOrDescentRate',\n",
    "            'hasWeightOnWheels',\n",
    "            'turnRate to degPerSec',\n",
    "            'cyclicPositionPitch',\n",
    "            'cyclicPositionRoll',\n",
    "            'collectivePosition',\n",
    "            'antiTorquePedalPosition',\n",
    "            'throttlePosition',\n",
    "            'e1Torque',\n",
    "            'e2Torque'\n",
    "           ]"
   ]
  },
  {
   "cell_type": "code",
   "execution_count": 26,
   "id": "4b52ca35",
   "metadata": {},
   "outputs": [],
   "source": [
    "# reading files from 9/19 dataset\n",
    "df1 = pd.read_csv('SimData_2022.09.19_16.00.36.csv.roar.csv',\n",
    "                parse_dates = {'datetime': ['date', 'time']},\n",
    "                low_memory=False)\n",
    "# df1 = df_transformation(df1)\n",
    "\n",
    "\n",
    "df2 = pd.read_csv('SimData_2022.09.19_16.38.20.csv.roar.csv',\n",
    "                parse_dates = {'datetime': ['date', 'time']},\n",
    "                low_memory=False)\n",
    "# df2 = df_transformation(df2)\n",
    "\n",
    "\n",
    "df3 = pd.read_csv('SimData_2022.09.19_17.51.37.csv.roar.csv',\n",
    "                parse_dates = {'datetime': ['date', 'time']},\n",
    "                low_memory=False)\n",
    "# df3 = df_transformation(df3)\n",
    "\n",
    "\n",
    "\n",
    "# reading files from 9/20 dataset\n",
    "df4 = pd.read_csv('SimData_2022.09.20_16.22.07.csv.roar.csv',\n",
    "                parse_dates = {'datetime': ['date', 'time']},\n",
    "                low_memory=False)\n",
    "# df4 = df_transformation(df4)\n",
    "\n",
    "\n",
    "df5 = pd.read_csv('SimData_2022.09.20_16.28.31.csv.roar.csv',\n",
    "                parse_dates = {'datetime': ['date', 'time']},\n",
    "                low_memory=False)\n",
    "# df5 = df_transformation(df5)\n",
    "\n",
    "\n",
    "# reading file from 9/22 dataset\n",
    "df6 = pd.read_csv('SimData_2022.09.22_17.11.56.csv.roar.csv',\n",
    "                parse_dates = {'datetime': ['date', 'time']},\n",
    "                low_memory=False)\n",
    "# df6 = df_transformation(df6)\n",
    "\n",
    "\n",
    "# reading file from 10/06 dataset\n",
    "df7 = pd.read_csv('SimData_2022.10.06_09.47.22.csv.roar.csv',\n",
    "                parse_dates = {'datetime': ['date', 'time']},\n",
    "                low_memory=False)\n",
    "# df7 = df_transformation(df7)"
   ]
  },
  {
   "cell_type": "code",
   "execution_count": 27,
   "id": "8129236e",
   "metadata": {},
   "outputs": [
    {
     "data": {
      "text/plain": [
       "306780"
      ]
     },
     "execution_count": 27,
     "metadata": {},
     "output_type": "execute_result"
    }
   ],
   "source": [
    "#Combine files\n",
    "df = pd.concat([df1, df2, df3, df4, df5, df6, df7]).reset_index()\n",
    "len(df)"
   ]
  },
  {
   "cell_type": "code",
   "execution_count": 28,
   "id": "777f3db3",
   "metadata": {},
   "outputs": [
    {
     "data": {
      "text/html": [
       "<div>\n",
       "<style scoped>\n",
       "    .dataframe tbody tr th:only-of-type {\n",
       "        vertical-align: middle;\n",
       "    }\n",
       "\n",
       "    .dataframe tbody tr th {\n",
       "        vertical-align: top;\n",
       "    }\n",
       "\n",
       "    .dataframe thead th {\n",
       "        text-align: right;\n",
       "    }\n",
       "</style>\n",
       "<table border=\"1\" class=\"dataframe\">\n",
       "  <thead>\n",
       "    <tr style=\"text-align: right;\">\n",
       "      <th></th>\n",
       "      <th>index</th>\n",
       "      <th>datetime</th>\n",
       "      <th>_id</th>\n",
       "      <th>latitude</th>\n",
       "      <th>longitude</th>\n",
       "      <th>gpsAltitude</th>\n",
       "      <th>absoluteAltitude</th>\n",
       "      <th>magneticHeading</th>\n",
       "      <th>trueHeading</th>\n",
       "      <th>pitch</th>\n",
       "      <th>...</th>\n",
       "      <th>hasMainRotorLowRpmWarning</th>\n",
       "      <th>hasMainRotorHighRpmWarning</th>\n",
       "      <th>hasTailRotorChipWarning</th>\n",
       "      <th>hasTransmissionChipCaution</th>\n",
       "      <th>hasTransmissionOilTemperatureWarning</th>\n",
       "      <th>hasTransmissionOilPressureWarning</th>\n",
       "      <th>timestamp</th>\n",
       "      <th>gpsDateTime</th>\n",
       "      <th>seconds</th>\n",
       "      <th>vil</th>\n",
       "    </tr>\n",
       "  </thead>\n",
       "  <tbody>\n",
       "    <tr>\n",
       "      <th>0</th>\n",
       "      <td>0</td>\n",
       "      <td>2022-09-19 20:01:09.844</td>\n",
       "      <td>::1663632069.844</td>\n",
       "      <td>39.358996</td>\n",
       "      <td>-74.434692</td>\n",
       "      <td>162.29</td>\n",
       "      <td>0.03</td>\n",
       "      <td>343.894</td>\n",
       "      <td>331.555</td>\n",
       "      <td>0.480</td>\n",
       "      <td>...</td>\n",
       "      <td>False</td>\n",
       "      <td>False</td>\n",
       "      <td>False</td>\n",
       "      <td>False</td>\n",
       "      <td>False</td>\n",
       "      <td>False</td>\n",
       "      <td>2022-09-19T20:01:09.844Z</td>\n",
       "      <td>2022-09-19T20:01:09.844Z</td>\n",
       "      <td>1.663632e+09</td>\n",
       "      <td>-2</td>\n",
       "    </tr>\n",
       "    <tr>\n",
       "      <th>1</th>\n",
       "      <td>1</td>\n",
       "      <td>2022-09-19 20:01:09.861</td>\n",
       "      <td>::1663632069.861</td>\n",
       "      <td>39.358996</td>\n",
       "      <td>-74.434692</td>\n",
       "      <td>162.30</td>\n",
       "      <td>0.03</td>\n",
       "      <td>343.808</td>\n",
       "      <td>331.470</td>\n",
       "      <td>0.436</td>\n",
       "      <td>...</td>\n",
       "      <td>False</td>\n",
       "      <td>False</td>\n",
       "      <td>False</td>\n",
       "      <td>False</td>\n",
       "      <td>False</td>\n",
       "      <td>False</td>\n",
       "      <td>2022-09-19T20:01:09.861Z</td>\n",
       "      <td>2022-09-19T20:01:09.861Z</td>\n",
       "      <td>1.663632e+09</td>\n",
       "      <td>-2</td>\n",
       "    </tr>\n",
       "    <tr>\n",
       "      <th>2</th>\n",
       "      <td>2</td>\n",
       "      <td>2022-09-19 20:01:09.878</td>\n",
       "      <td>::1663632069.878</td>\n",
       "      <td>39.358996</td>\n",
       "      <td>-74.434692</td>\n",
       "      <td>162.30</td>\n",
       "      <td>0.04</td>\n",
       "      <td>343.693</td>\n",
       "      <td>331.355</td>\n",
       "      <td>0.374</td>\n",
       "      <td>...</td>\n",
       "      <td>False</td>\n",
       "      <td>False</td>\n",
       "      <td>False</td>\n",
       "      <td>False</td>\n",
       "      <td>False</td>\n",
       "      <td>False</td>\n",
       "      <td>2022-09-19T20:01:09.878Z</td>\n",
       "      <td>2022-09-19T20:01:09.878Z</td>\n",
       "      <td>1.663632e+09</td>\n",
       "      <td>-2</td>\n",
       "    </tr>\n",
       "    <tr>\n",
       "      <th>3</th>\n",
       "      <td>3</td>\n",
       "      <td>2022-09-19 20:01:09.907</td>\n",
       "      <td>::1663632069.907</td>\n",
       "      <td>39.358996</td>\n",
       "      <td>-74.434692</td>\n",
       "      <td>162.30</td>\n",
       "      <td>0.04</td>\n",
       "      <td>343.464</td>\n",
       "      <td>331.126</td>\n",
       "      <td>0.243</td>\n",
       "      <td>...</td>\n",
       "      <td>False</td>\n",
       "      <td>False</td>\n",
       "      <td>False</td>\n",
       "      <td>False</td>\n",
       "      <td>False</td>\n",
       "      <td>False</td>\n",
       "      <td>2022-09-19T20:01:09.907Z</td>\n",
       "      <td>2022-09-19T20:01:09.907Z</td>\n",
       "      <td>1.663632e+09</td>\n",
       "      <td>-2</td>\n",
       "    </tr>\n",
       "    <tr>\n",
       "      <th>4</th>\n",
       "      <td>4</td>\n",
       "      <td>2022-09-19 20:01:09.927</td>\n",
       "      <td>::1663632069.927</td>\n",
       "      <td>39.358996</td>\n",
       "      <td>-74.434692</td>\n",
       "      <td>162.30</td>\n",
       "      <td>0.04</td>\n",
       "      <td>343.370</td>\n",
       "      <td>331.031</td>\n",
       "      <td>0.187</td>\n",
       "      <td>...</td>\n",
       "      <td>False</td>\n",
       "      <td>False</td>\n",
       "      <td>False</td>\n",
       "      <td>False</td>\n",
       "      <td>False</td>\n",
       "      <td>False</td>\n",
       "      <td>2022-09-19T20:01:09.927Z</td>\n",
       "      <td>2022-09-19T20:01:09.927Z</td>\n",
       "      <td>1.663632e+09</td>\n",
       "      <td>-2</td>\n",
       "    </tr>\n",
       "  </tbody>\n",
       "</table>\n",
       "<p>5 rows × 108 columns</p>\n",
       "</div>"
      ],
      "text/plain": [
       "   index                datetime               _id   latitude  longitude  \\\n",
       "0      0 2022-09-19 20:01:09.844  ::1663632069.844  39.358996 -74.434692   \n",
       "1      1 2022-09-19 20:01:09.861  ::1663632069.861  39.358996 -74.434692   \n",
       "2      2 2022-09-19 20:01:09.878  ::1663632069.878  39.358996 -74.434692   \n",
       "3      3 2022-09-19 20:01:09.907  ::1663632069.907  39.358996 -74.434692   \n",
       "4      4 2022-09-19 20:01:09.927  ::1663632069.927  39.358996 -74.434692   \n",
       "\n",
       "   gpsAltitude  absoluteAltitude  magneticHeading  trueHeading  pitch  ...  \\\n",
       "0       162.29              0.03          343.894      331.555  0.480  ...   \n",
       "1       162.30              0.03          343.808      331.470  0.436  ...   \n",
       "2       162.30              0.04          343.693      331.355  0.374  ...   \n",
       "3       162.30              0.04          343.464      331.126  0.243  ...   \n",
       "4       162.30              0.04          343.370      331.031  0.187  ...   \n",
       "\n",
       "   hasMainRotorLowRpmWarning  hasMainRotorHighRpmWarning  \\\n",
       "0                      False                       False   \n",
       "1                      False                       False   \n",
       "2                      False                       False   \n",
       "3                      False                       False   \n",
       "4                      False                       False   \n",
       "\n",
       "   hasTailRotorChipWarning  hasTransmissionChipCaution  \\\n",
       "0                    False                       False   \n",
       "1                    False                       False   \n",
       "2                    False                       False   \n",
       "3                    False                       False   \n",
       "4                    False                       False   \n",
       "\n",
       "   hasTransmissionOilTemperatureWarning  hasTransmissionOilPressureWarning  \\\n",
       "0                                 False                              False   \n",
       "1                                 False                              False   \n",
       "2                                 False                              False   \n",
       "3                                 False                              False   \n",
       "4                                 False                              False   \n",
       "\n",
       "                  timestamp               gpsDateTime       seconds  vil  \n",
       "0  2022-09-19T20:01:09.844Z  2022-09-19T20:01:09.844Z  1.663632e+09   -2  \n",
       "1  2022-09-19T20:01:09.861Z  2022-09-19T20:01:09.861Z  1.663632e+09   -2  \n",
       "2  2022-09-19T20:01:09.878Z  2022-09-19T20:01:09.878Z  1.663632e+09   -2  \n",
       "3  2022-09-19T20:01:09.907Z  2022-09-19T20:01:09.907Z  1.663632e+09   -2  \n",
       "4  2022-09-19T20:01:09.927Z  2022-09-19T20:01:09.927Z  1.663632e+09   -2  \n",
       "\n",
       "[5 rows x 108 columns]"
      ]
     },
     "execution_count": 28,
     "metadata": {},
     "output_type": "execute_result"
    }
   ],
   "source": [
    "df.head()"
   ]
  },
  {
   "cell_type": "markdown",
   "id": "689f5fa2",
   "metadata": {},
   "source": [
    "# Surface Taxi - DataFrame Labelling"
   ]
  },
  {
   "cell_type": "code",
   "execution_count": 6,
   "id": "f827b719",
   "metadata": {},
   "outputs": [],
   "source": [
    "df_s = df.copy()\n",
    "df_s['surface'] = 0\n",
    "\n",
    "df_s.loc[(df_s['datetime'].between('2022-09-19 21:53:50' , '2022-09-19 21:55:55' , inclusive='both')),['surface']] = 1\n",
    "df_s.loc[(df_s['datetime'].between('2022-09-19 22:04:00' , '2022-09-19 22:06:39' , inclusive='both')),['surface']] = 1\n",
    "df_s.loc[(df_s['datetime'].between('2022-09-20 20:25:50' , '2022-09-20 20:27:54' , inclusive='both')),['surface']] = 1\n",
    "df_s.loc[(df_s['datetime'].between('2022-09-22 21:16:37' , '2022-09-22 21:19:56' , inclusive='both')),['surface']] = 1\n",
    "df_s.loc[(df_s['datetime'].between('2022-09-22 21:43:16' , '2022-09-22 21:43:41' , inclusive='both')),['surface']] = 1\n",
    "df_s.loc[(df_s['datetime'].between('2022-10-06 13:52:16' , '2022-10-06 13:56:00' , inclusive='both')),['surface']] = 1"
   ]
  },
  {
   "cell_type": "code",
   "execution_count": 7,
   "id": "3ad71e80",
   "metadata": {},
   "outputs": [
    {
     "data": {
      "text/plain": [
       "0    6583\n",
       "1     637\n",
       "Name: surface, dtype: int64"
      ]
     },
     "execution_count": 7,
     "metadata": {},
     "output_type": "execute_result"
    }
   ],
   "source": [
    "#orginal class imbalance\n",
    "df_s['surface'].value_counts()"
   ]
  },
  {
   "cell_type": "code",
   "execution_count": 8,
   "id": "f649b76a",
   "metadata": {},
   "outputs": [],
   "source": [
    "#call features used in model\n",
    "model_features = ['hasWeightOnWheels',\n",
    "                  'absoluteAltitude',\n",
    "                  'groundSpeed',\n",
    "                  'climbOrDescentRate',\n",
    "                  'cyclicPositionPitch',\n",
    "                  'cyclicPositionRoll',\n",
    "                  'collectivePosition',\n",
    "                  'antiTorquePedalPosition',\n",
    "                  'throttlePosition',\n",
    "                  'e1Torque',\n",
    "                  'e2Torque'\n",
    "                 ]"
   ]
  },
  {
   "cell_type": "code",
   "execution_count": 9,
   "id": "1bc19254",
   "metadata": {},
   "outputs": [],
   "source": [
    "#call OverSampler using 'majority' \n",
    "rus = RandomUnderSampler(sampling_strategy='majority')"
   ]
  },
  {
   "cell_type": "code",
   "execution_count": 10,
   "id": "176b8174",
   "metadata": {},
   "outputs": [],
   "source": [
    "#set x and y to respective features\n",
    "surface_x, surface_y = df_s[model_features], df_s['surface']"
   ]
  },
  {
   "cell_type": "code",
   "execution_count": 11,
   "id": "81cfc1a5",
   "metadata": {},
   "outputs": [],
   "source": [
    "#resample\n",
    "surface_x, surface_y = rus.fit_resample(surface_x, surface_y)"
   ]
  },
  {
   "cell_type": "code",
   "execution_count": 12,
   "id": "b41362b7",
   "metadata": {},
   "outputs": [
    {
     "data": {
      "text/plain": [
       "0    637\n",
       "1    637\n",
       "Name: surface, dtype: int64"
      ]
     },
     "execution_count": 12,
     "metadata": {},
     "output_type": "execute_result"
    }
   ],
   "source": [
    "#new class balance\n",
    "surface_y.value_counts()"
   ]
  },
  {
   "cell_type": "markdown",
   "id": "c502cf37",
   "metadata": {},
   "source": [
    "# Surface Taxi - XGBoost Model"
   ]
  },
  {
   "cell_type": "code",
   "execution_count": 13,
   "id": "f681887f",
   "metadata": {},
   "outputs": [],
   "source": [
    "#train and test split for model\n",
    "surface_x_train, surface_x_test, surface_y_train, surface_y_test = sk.model_selection.train_test_split(surface_x,surface_y,test_size=0.33,random_state=777)"
   ]
  },
  {
   "cell_type": "code",
   "execution_count": 14,
   "id": "ca8da785",
   "metadata": {},
   "outputs": [
    {
     "data": {
      "text/html": [
       "<style>#sk-container-id-1 {color: black;background-color: white;}#sk-container-id-1 pre{padding: 0;}#sk-container-id-1 div.sk-toggleable {background-color: white;}#sk-container-id-1 label.sk-toggleable__label {cursor: pointer;display: block;width: 100%;margin-bottom: 0;padding: 0.3em;box-sizing: border-box;text-align: center;}#sk-container-id-1 label.sk-toggleable__label-arrow:before {content: \"▸\";float: left;margin-right: 0.25em;color: #696969;}#sk-container-id-1 label.sk-toggleable__label-arrow:hover:before {color: black;}#sk-container-id-1 div.sk-estimator:hover label.sk-toggleable__label-arrow:before {color: black;}#sk-container-id-1 div.sk-toggleable__content {max-height: 0;max-width: 0;overflow: hidden;text-align: left;background-color: #f0f8ff;}#sk-container-id-1 div.sk-toggleable__content pre {margin: 0.2em;color: black;border-radius: 0.25em;background-color: #f0f8ff;}#sk-container-id-1 input.sk-toggleable__control:checked~div.sk-toggleable__content {max-height: 200px;max-width: 100%;overflow: auto;}#sk-container-id-1 input.sk-toggleable__control:checked~label.sk-toggleable__label-arrow:before {content: \"▾\";}#sk-container-id-1 div.sk-estimator input.sk-toggleable__control:checked~label.sk-toggleable__label {background-color: #d4ebff;}#sk-container-id-1 div.sk-label input.sk-toggleable__control:checked~label.sk-toggleable__label {background-color: #d4ebff;}#sk-container-id-1 input.sk-hidden--visually {border: 0;clip: rect(1px 1px 1px 1px);clip: rect(1px, 1px, 1px, 1px);height: 1px;margin: -1px;overflow: hidden;padding: 0;position: absolute;width: 1px;}#sk-container-id-1 div.sk-estimator {font-family: monospace;background-color: #f0f8ff;border: 1px dotted black;border-radius: 0.25em;box-sizing: border-box;margin-bottom: 0.5em;}#sk-container-id-1 div.sk-estimator:hover {background-color: #d4ebff;}#sk-container-id-1 div.sk-parallel-item::after {content: \"\";width: 100%;border-bottom: 1px solid gray;flex-grow: 1;}#sk-container-id-1 div.sk-label:hover label.sk-toggleable__label {background-color: #d4ebff;}#sk-container-id-1 div.sk-serial::before {content: \"\";position: absolute;border-left: 1px solid gray;box-sizing: border-box;top: 0;bottom: 0;left: 50%;z-index: 0;}#sk-container-id-1 div.sk-serial {display: flex;flex-direction: column;align-items: center;background-color: white;padding-right: 0.2em;padding-left: 0.2em;position: relative;}#sk-container-id-1 div.sk-item {position: relative;z-index: 1;}#sk-container-id-1 div.sk-parallel {display: flex;align-items: stretch;justify-content: center;background-color: white;position: relative;}#sk-container-id-1 div.sk-item::before, #sk-container-id-1 div.sk-parallel-item::before {content: \"\";position: absolute;border-left: 1px solid gray;box-sizing: border-box;top: 0;bottom: 0;left: 50%;z-index: -1;}#sk-container-id-1 div.sk-parallel-item {display: flex;flex-direction: column;z-index: 1;position: relative;background-color: white;}#sk-container-id-1 div.sk-parallel-item:first-child::after {align-self: flex-end;width: 50%;}#sk-container-id-1 div.sk-parallel-item:last-child::after {align-self: flex-start;width: 50%;}#sk-container-id-1 div.sk-parallel-item:only-child::after {width: 0;}#sk-container-id-1 div.sk-dashed-wrapped {border: 1px dashed gray;margin: 0 0.4em 0.5em 0.4em;box-sizing: border-box;padding-bottom: 0.4em;background-color: white;}#sk-container-id-1 div.sk-label label {font-family: monospace;font-weight: bold;display: inline-block;line-height: 1.2em;}#sk-container-id-1 div.sk-label-container {text-align: center;}#sk-container-id-1 div.sk-container {/* jupyter's `normalize.less` sets `[hidden] { display: none; }` but bootstrap.min.css set `[hidden] { display: none !important; }` so we also need the `!important` here to be able to override the default hidden behavior on the sphinx rendered scikit-learn.org. See: https://github.com/scikit-learn/scikit-learn/issues/21755 */display: inline-block !important;position: relative;}#sk-container-id-1 div.sk-text-repr-fallback {display: none;}</style><div id=\"sk-container-id-1\" class=\"sk-top-container\"><div class=\"sk-text-repr-fallback\"><pre>XGBClassifier(base_score=0.5, booster=&#x27;gbtree&#x27;, callbacks=None,\n",
       "              colsample_bylevel=1, colsample_bynode=1, colsample_bytree=1,\n",
       "              early_stopping_rounds=None, enable_categorical=False, eta=0.075,\n",
       "              eval_metric=None, gamma=0, gpu_id=-1, grow_policy=&#x27;depthwise&#x27;,\n",
       "              importance_type=None, interaction_constraints=&#x27;&#x27;,\n",
       "              learning_rate=0.075000003, max_bin=256, max_cat_to_onehot=4,\n",
       "              max_delta_step=0, max_depth=4, max_leaves=0, min_child_weight=1,\n",
       "              missing=nan, monotone_constraints=&#x27;()&#x27;, n_estimators=100,\n",
       "              n_jobs=0, num_parallel_tree=1, predictor=&#x27;auto&#x27;, random_state=0,\n",
       "              reg_alpha=0, ...)</pre><b>In a Jupyter environment, please rerun this cell to show the HTML representation or trust the notebook. <br />On GitHub, the HTML representation is unable to render, please try loading this page with nbviewer.org.</b></div><div class=\"sk-container\" hidden><div class=\"sk-item\"><div class=\"sk-estimator sk-toggleable\"><input class=\"sk-toggleable__control sk-hidden--visually\" id=\"sk-estimator-id-1\" type=\"checkbox\" checked><label for=\"sk-estimator-id-1\" class=\"sk-toggleable__label sk-toggleable__label-arrow\">XGBClassifier</label><div class=\"sk-toggleable__content\"><pre>XGBClassifier(base_score=0.5, booster=&#x27;gbtree&#x27;, callbacks=None,\n",
       "              colsample_bylevel=1, colsample_bynode=1, colsample_bytree=1,\n",
       "              early_stopping_rounds=None, enable_categorical=False, eta=0.075,\n",
       "              eval_metric=None, gamma=0, gpu_id=-1, grow_policy=&#x27;depthwise&#x27;,\n",
       "              importance_type=None, interaction_constraints=&#x27;&#x27;,\n",
       "              learning_rate=0.075000003, max_bin=256, max_cat_to_onehot=4,\n",
       "              max_delta_step=0, max_depth=4, max_leaves=0, min_child_weight=1,\n",
       "              missing=nan, monotone_constraints=&#x27;()&#x27;, n_estimators=100,\n",
       "              n_jobs=0, num_parallel_tree=1, predictor=&#x27;auto&#x27;, random_state=0,\n",
       "              reg_alpha=0, ...)</pre></div></div></div></div></div>"
      ],
      "text/plain": [
       "XGBClassifier(base_score=0.5, booster='gbtree', callbacks=None,\n",
       "              colsample_bylevel=1, colsample_bynode=1, colsample_bytree=1,\n",
       "              early_stopping_rounds=None, enable_categorical=False, eta=0.075,\n",
       "              eval_metric=None, gamma=0, gpu_id=-1, grow_policy='depthwise',\n",
       "              importance_type=None, interaction_constraints='',\n",
       "              learning_rate=0.075000003, max_bin=256, max_cat_to_onehot=4,\n",
       "              max_delta_step=0, max_depth=4, max_leaves=0, min_child_weight=1,\n",
       "              missing=nan, monotone_constraints='()', n_estimators=100,\n",
       "              n_jobs=0, num_parallel_tree=1, predictor='auto', random_state=0,\n",
       "              reg_alpha=0, ...)"
      ]
     },
     "execution_count": 14,
     "metadata": {},
     "output_type": "execute_result"
    }
   ],
   "source": [
    "#call XG Boost model and fit to data\n",
    "surface_model = XGBClassifier(use_label_encoder=False, max_depth = 4, eta = .075)\n",
    "surface_model.fit(surface_x_train, surface_y_train)"
   ]
  },
  {
   "cell_type": "code",
   "execution_count": 15,
   "id": "e4a38655",
   "metadata": {},
   "outputs": [],
   "source": [
    "#training model prediction\n",
    "surface_train_pred = surface_model.predict(surface_x_train)"
   ]
  },
  {
   "cell_type": "code",
   "execution_count": 16,
   "id": "859dea4e",
   "metadata": {},
   "outputs": [],
   "source": [
    "#test model prediction\n",
    "surface_pred = surface_model.predict(surface_x_test)"
   ]
  },
  {
   "cell_type": "code",
   "execution_count": 17,
   "id": "768afddd",
   "metadata": {},
   "outputs": [],
   "source": [
    "#accuracy scores\n",
    "surface_train_acc = sk.metrics.accuracy_score(surface_y_train, surface_train_pred)\n",
    "surface_test_acc = sk.metrics.accuracy_score(surface_y_test, surface_pred)"
   ]
  },
  {
   "cell_type": "code",
   "execution_count": 18,
   "id": "d0ef687a",
   "metadata": {},
   "outputs": [
    {
     "name": "stdout",
     "output_type": "stream",
     "text": [
      "Train Accuracy: 99.88%\n",
      "Test Accuracy: 98.10%\n"
     ]
    }
   ],
   "source": [
    "print(\"Train Accuracy: %.2f%%\" % (surface_train_acc * 100.0))\n",
    "print(\"Test Accuracy: %.2f%%\" % (surface_test_acc * 100.0))"
   ]
  },
  {
   "cell_type": "code",
   "execution_count": 19,
   "id": "a0a9ae97",
   "metadata": {},
   "outputs": [],
   "source": [
    "#auc roc scores\n",
    "surface_train_roc = sk.metrics.roc_auc_score(surface_y_train, surface_train_pred)\n",
    "surface_test_roc = sk.metrics.roc_auc_score(surface_y_test, surface_pred)"
   ]
  },
  {
   "cell_type": "code",
   "execution_count": 20,
   "id": "44a5153a",
   "metadata": {},
   "outputs": [
    {
     "name": "stdout",
     "output_type": "stream",
     "text": [
      "Train ROC AUC Score: 99.88%\n",
      "Test ROC AUC Score: 98.10%\n"
     ]
    }
   ],
   "source": [
    "print(\"Train ROC AUC Score: %.2f%%\" % (surface_train_roc * 100.0))\n",
    "print(\"Test ROC AUC Score: %.2f%%\" % (surface_test_roc * 100.0))"
   ]
  },
  {
   "cell_type": "code",
   "execution_count": 21,
   "id": "90207a2c",
   "metadata": {},
   "outputs": [
    {
     "data": {
      "image/png": "[encoded data removed]",
      "text/plain": [
       "<Figure size 800x500 with 2 Axes>"
      ]
     },
     "metadata": {},
     "output_type": "display_data"
    }
   ],
   "source": [
    "#confusion matrix\n",
    "fig, ax = plt.subplots(figsize=(8, 5))\n",
    "cmp = sk.metrics.ConfusionMatrixDisplay(sk.metrics.confusion_matrix(surface_y_test, surface_pred),)\n",
    "cmp.plot(ax=ax)\n",
    "plt.show()"
   ]
  },
  {
   "cell_type": "code",
   "execution_count": 22,
   "id": "ccdcbbc1",
   "metadata": {},
   "outputs": [
    {
     "name": "stderr",
     "output_type": "stream",
     "text": [
      "C:\\Users\\kanev\\anaconda3\\lib\\site-packages\\sklearn\\utils\\deprecation.py:87: FutureWarning: Function plot_roc_curve is deprecated; Function :func:`plot_roc_curve` is deprecated in 1.0 and will be removed in 1.2. Use one of the class methods: :meth:`sklearn.metrics.RocCurveDisplay.from_predictions` or :meth:`sklearn.metrics.RocCurveDisplay.from_estimator`.\n",
      "  warnings.warn(msg, category=FutureWarning)\n"
     ]
    },
    {
     "data": {
      "image/png": "[encoded data removed]",
      "text/plain": [
       "<Figure size 640x480 with 1 Axes>"
      ]
     },
     "metadata": {},
     "output_type": "display_data"
    }
   ],
   "source": [
    "#auc roc plot\n",
    "sk.metrics.plot_roc_curve(surface_model, surface_x_test, surface_y_test)\n",
    "plt.show()"
   ]
  },
  {
   "cell_type": "code",
   "execution_count": 23,
   "id": "63359937",
   "metadata": {},
   "outputs": [
    {
     "data": {
      "image/png": "[encoded data removed]",
      "text/plain": [
       "<Figure size 640x480 with 1 Axes>"
      ]
     },
     "metadata": {},
     "output_type": "display_data"
    }
   ],
   "source": [
    "plot_importance(surface_model)\n",
    "plt.show()"
   ]
  },
  {
   "cell_type": "code",
   "execution_count": 24,
   "id": "adc7f310",
   "metadata": {},
   "outputs": [],
   "source": [
    "filename = 'final_surface_model.sav'\n",
    "pickle.dump(surface_model, open(filename, 'wb'))"
   ]
  },
  {
   "cell_type": "code",
   "execution_count": null,
   "id": "7c71d55b",
   "metadata": {},
   "outputs": [],
   "source": []
  },
  {
   "cell_type": "code",
   "execution_count": null,
   "id": "733784f8",
   "metadata": {},
   "outputs": [],
   "source": []
  },
  {
   "cell_type": "code",
   "execution_count": null,
   "id": "5de1fc47",
   "metadata": {},
   "outputs": [],
   "source": []
  }
 ],
 "metadata": {
  "kernelspec": {
   "display_name": "Python 3 (ipykernel)",
   "language": "python",
   "name": "python3"
  },
  "language_info": {
   "codemirror_mode": {
    "name": "ipython",
    "version": 3
   },
   "file_extension": ".py",
   "mimetype": "text/x-python",
   "name": "python",
   "nbconvert_exporter": "python",
   "pygments_lexer": "ipython3",
   "version": "3.9.12"
  }
 },
 "nbformat": 4,
 "nbformat_minor": 5
}
