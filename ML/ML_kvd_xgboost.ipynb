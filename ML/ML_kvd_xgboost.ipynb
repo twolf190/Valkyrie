{
 "cells": [
  {
   "cell_type": "code",
   "execution_count": 10,
   "id": "13edd284",
   "metadata": {},
   "outputs": [],
   "source": [
    "import pandas as pd\n",
    "import matplotlib.pyplot as plt\n",
    "import seaborn as sns\n",
    "import os\n",
    "import numpy as np\n",
    "from xgboost import XGBClassifier\n",
    "from imblearn.over_sampling import RandomOverSampler\n",
    "import sklearn as sk"
   ]
  },
  {
   "cell_type": "code",
   "execution_count": 11,
   "id": "33ccec46",
   "metadata": {},
   "outputs": [],
   "source": [
    "def df_transformation(df):\n",
    "    df_temp = df[features]\n",
    "    df_temp['datetime'] = df_temp.datetime.dt.strftime('%Y-%m-%d %H:%M:%S').astype('datetime64[ns]')\n",
    "\n",
    "    output = df_temp.groupby(by=[\"datetime\"], dropna=False).mean().reset_index()\n",
    "    \n",
    "    return output "
   ]
  },
  {
   "cell_type": "code",
   "execution_count": 12,
   "id": "4a300001",
   "metadata": {},
   "outputs": [],
   "source": [
    "# Create a custom function for data transformation\n",
    "# May as well import all of these features into the initial dataframe, you can cut it down..\n",
    "# ..when you do the X,y train/test split\n",
    "features = ['datetime',\n",
    "            'latitude',\n",
    "            'longitude',\n",
    "            'absoluteAltitude',\n",
    "            'magneticHeading',\n",
    "            'trueHeading',\n",
    "            'groundSpeed',\n",
    "            'trueAirspeed',\n",
    "            'pitch',\n",
    "            'roll',\n",
    "            'yaw',\n",
    "            'angleOfAttack',\n",
    "            'flightPathAngle',\n",
    "            'verticalFlightPathAngle',\n",
    "            'horizontalFlightPathAngle',\n",
    "            'rollAcceleration',\n",
    "            'pitchAcceleration',\n",
    "            'yawAcceleration',\n",
    "            'e1N1ng',\n",
    "            'e2N1ng',\n",
    "            'e1N2nf',\n",
    "            'e2N2nf',\n",
    "            'mainRotorRpm',\n",
    "            'tailRotorRpm',\n",
    "            'mainRotorTorque',\n",
    "            'e1Itt',\n",
    "            'e2Itt',\n",
    "            'mainRotorInducedInflow',\n",
    "            'flightDirectorPitch',\n",
    "            'flightDirectorRoll',\n",
    "            'climbOrDescentRate',\n",
    "            'hasWeightOnWheels',\n",
    "            'turnRate to degPerSec',\n",
    "            'cyclicPositionPitch',\n",
    "            'cyclicPositionRoll',\n",
    "            'collectivePosition',\n",
    "            'antiTorquePedalPosition',\n",
    "            'throttlePosition',\n",
    "            'e1Torque',\n",
    "            'e2Torque'\n",
    "           ]\n"
   ]
  },
  {
   "cell_type": "code",
   "execution_count": 13,
   "id": "cd366e86",
   "metadata": {},
   "outputs": [
    {
     "name": "stderr",
     "output_type": "stream",
     "text": [
      "C:\\Users\\kanev\\AppData\\Local\\Temp\\ipykernel_716\\17026926.py:3: SettingWithCopyWarning: \n",
      "A value is trying to be set on a copy of a slice from a DataFrame.\n",
      "Try using .loc[row_indexer,col_indexer] = value instead\n",
      "\n",
      "See the caveats in the documentation: https://pandas.pydata.org/pandas-docs/stable/user_guide/indexing.html#returning-a-view-versus-a-copy\n",
      "  df_temp['datetime'] = df_temp.datetime.dt.strftime('%Y-%m-%d %H:%M:%S').astype('datetime64[ns]')\n",
      "C:\\Users\\kanev\\AppData\\Local\\Temp\\ipykernel_716\\17026926.py:3: SettingWithCopyWarning: \n",
      "A value is trying to be set on a copy of a slice from a DataFrame.\n",
      "Try using .loc[row_indexer,col_indexer] = value instead\n",
      "\n",
      "See the caveats in the documentation: https://pandas.pydata.org/pandas-docs/stable/user_guide/indexing.html#returning-a-view-versus-a-copy\n",
      "  df_temp['datetime'] = df_temp.datetime.dt.strftime('%Y-%m-%d %H:%M:%S').astype('datetime64[ns]')\n",
      "C:\\Users\\kanev\\AppData\\Local\\Temp\\ipykernel_716\\17026926.py:3: SettingWithCopyWarning: \n",
      "A value is trying to be set on a copy of a slice from a DataFrame.\n",
      "Try using .loc[row_indexer,col_indexer] = value instead\n",
      "\n",
      "See the caveats in the documentation: https://pandas.pydata.org/pandas-docs/stable/user_guide/indexing.html#returning-a-view-versus-a-copy\n",
      "  df_temp['datetime'] = df_temp.datetime.dt.strftime('%Y-%m-%d %H:%M:%S').astype('datetime64[ns]')\n",
      "C:\\Users\\kanev\\AppData\\Local\\Temp\\ipykernel_716\\17026926.py:3: SettingWithCopyWarning: \n",
      "A value is trying to be set on a copy of a slice from a DataFrame.\n",
      "Try using .loc[row_indexer,col_indexer] = value instead\n",
      "\n",
      "See the caveats in the documentation: https://pandas.pydata.org/pandas-docs/stable/user_guide/indexing.html#returning-a-view-versus-a-copy\n",
      "  df_temp['datetime'] = df_temp.datetime.dt.strftime('%Y-%m-%d %H:%M:%S').astype('datetime64[ns]')\n",
      "C:\\Users\\kanev\\AppData\\Local\\Temp\\ipykernel_716\\17026926.py:3: SettingWithCopyWarning: \n",
      "A value is trying to be set on a copy of a slice from a DataFrame.\n",
      "Try using .loc[row_indexer,col_indexer] = value instead\n",
      "\n",
      "See the caveats in the documentation: https://pandas.pydata.org/pandas-docs/stable/user_guide/indexing.html#returning-a-view-versus-a-copy\n",
      "  df_temp['datetime'] = df_temp.datetime.dt.strftime('%Y-%m-%d %H:%M:%S').astype('datetime64[ns]')\n"
     ]
    }
   ],
   "source": [
    "# reading files from 9/19 dataset\n",
    "df1 = pd.read_csv('SimData_2022.09.19_16.00.36.csv.roar.csv',\n",
    "                parse_dates = {'datetime': ['date', 'time']},\n",
    "                low_memory=False)\n",
    "df1 = df_transformation(df1)\n",
    "\n",
    "\n",
    "df2 = pd.read_csv('SimData_2022.09.19_16.38.20.csv.roar.csv',\n",
    "                parse_dates = {'datetime': ['date', 'time']},\n",
    "                low_memory=False)\n",
    "df2 = df_transformation(df2)\n",
    "\n",
    "\n",
    "df3 = pd.read_csv('SimData_2022.09.19_17.51.37.csv.roar.csv',\n",
    "                parse_dates = {'datetime': ['date', 'time']},\n",
    "                low_memory=False)\n",
    "df3 = df_transformation(df3)\n",
    "\n",
    "\n",
    "\n",
    "# reading files from 9/20 dataset\n",
    "first_file = pd.read_csv('SimData_2022.09.20_16.22.07.csv.roar.csv',\n",
    "                parse_dates = {'datetime': ['date', 'time']},\n",
    "                low_memory=False)\n",
    "first_file = df_transformation(first_file)\n",
    "\n",
    "\n",
    "second_file = pd.read_csv('SimData_2022.09.20_16.28.31.csv.roar.csv',\n",
    "                parse_dates = {'datetime': ['date', 'time']},\n",
    "                low_memory=False)\n",
    "second_file = df_transformation(second_file)\n",
    "\n",
    "\n",
    "# reading file from 9/22 dataset\n",
    "#df4 = pd.read_csv('SimData_2022.09.22_17.11.56.csv.roar.csv',\n",
    "#                parse_dates = {'datetime': ['date', 'time']},\n",
    "#                low_memory=False)\n",
    "#df4 = df_transformation(df4)"
   ]
  },
  {
   "cell_type": "code",
   "execution_count": 14,
   "id": "e5d962e9",
   "metadata": {},
   "outputs": [
    {
     "data": {
      "text/plain": [
       "5133"
      ]
     },
     "execution_count": 14,
     "metadata": {},
     "output_type": "execute_result"
    }
   ],
   "source": [
    "#Combine files\n",
    "df = pd.concat([first_file,second_file, df1, df2, df3]).reset_index()\n",
    "len(df)"
   ]
  },
  {
   "cell_type": "markdown",
   "id": "3a427499",
   "metadata": {},
   "source": [
    "# Hover Taxi - DataFrame Labelling"
   ]
  },
  {
   "cell_type": "code",
   "execution_count": 15,
   "id": "ea2fc6c2",
   "metadata": {},
   "outputs": [],
   "source": [
    "df_h = df.copy()\n",
    "df_h['hover'] = 0\n",
    "\n",
    "df_h.loc[(df_h['datetime'].between('2022-09-19 21:57:07' , '2022-09-19 21:59:20' , inclusive='both')),['hover']] = 1\n",
    "df_h.loc[(df_h['datetime'].between('2022-09-19 22:08:15' , '2022-09-19 22:10:24' , inclusive='both')),['hover']] = 1\n",
    "df_h.loc[(df_h['datetime'].between('2022-09-20 20:28:44' , '2022-09-20 20:30:06' , inclusive='both')),['hover']] = 1\n",
    "df_h.loc[(df_h['datetime'].between('2022-09-20 20:30:31' , '2022-09-20 20:32:16' , inclusive='both')),['hover']] = 1\n",
    "df_h.loc[(df_h['datetime'].between('2022-09-20 20:32:39' , '2022-09-20 20:34:06' , inclusive='both')),['hover']] = 1\n",
    "df_h.loc[(df_h['datetime'].between('2022-09-20 20:34:50' , '2022-09-20 20:36:51' , inclusive='both')),['hover']] = 1\n",
    "df_h.loc[(df_h['datetime'].between('2022-09-22 21:20:41' , '2022-09-22 21:23:56' , inclusive='both')),['hover']] = 1\n",
    "df_h.loc[(df_h['datetime'].between('2022-09-22 21:28:35' , '2022-09-22 21:29:46' , inclusive='both')),['hover']] = 1\n",
    "df_h.loc[(df_h['datetime'].between('2022-09-22 21:44:09' , '2022-09-22 21:45:31' , inclusive='both')),['hover']] = 1\n"
   ]
  },
  {
   "cell_type": "markdown",
   "id": "2ca0a658",
   "metadata": {},
   "source": [
    "# Hover Taxi - Model Features and Class Balance"
   ]
  },
  {
   "cell_type": "code",
   "execution_count": 16,
   "id": "eed81e69",
   "metadata": {},
   "outputs": [],
   "source": [
    "#Edit the model features to whatever you want to include in your model\n",
    "all_features = ['hasWeightOnWheels',\n",
    "                  'absoluteAltitude',\n",
    "                  'magneticHeading',\n",
    "                  'groundSpeed',\n",
    "                  'climbOrDescentRate',\n",
    "                  'turnRate to degPerSec',\n",
    "                  'cyclicPositionPitch',\n",
    "                  'cyclicPositionRoll',\n",
    "                  'collectivePosition',\n",
    "                  'antiTorquePedalPosition',\n",
    "                  'throttlePosition',\n",
    "                  'e1Torque',\n",
    "                  'e2Torque',\n",
    "                  'hover'\n",
    "               ]\n",
    "\n",
    "df_h = df_h[all_features]"
   ]
  },
  {
   "cell_type": "code",
   "execution_count": 17,
   "id": "4eae061f",
   "metadata": {},
   "outputs": [
    {
     "data": {
      "text/plain": [
       "0    4470\n",
       "1     663\n",
       "Name: hover, dtype: int64"
      ]
     },
     "execution_count": 17,
     "metadata": {},
     "output_type": "execute_result"
    }
   ],
   "source": [
    "#orginal class imbalance\n",
    "df_h['hover'].value_counts()"
   ]
  },
  {
   "cell_type": "code",
   "execution_count": 18,
   "id": "6d4ea4a2",
   "metadata": {},
   "outputs": [],
   "source": [
    "#call features used in model\n",
    "model_features = ['hasWeightOnWheels',\n",
    "                  'absoluteAltitude',\n",
    "                  'magneticHeading',\n",
    "                  'groundSpeed',\n",
    "                  'climbOrDescentRate',\n",
    "                  'turnRate to degPerSec',\n",
    "                  'cyclicPositionPitch',\n",
    "                  'cyclicPositionRoll',\n",
    "                  'collectivePosition',\n",
    "                  'antiTorquePedalPosition',\n",
    "                  'throttlePosition',\n",
    "                  'e1Torque',\n",
    "                  'e2Torque'\n",
    "                 ]"
   ]
  },
  {
   "cell_type": "code",
   "execution_count": 19,
   "id": "20a9509d",
   "metadata": {},
   "outputs": [],
   "source": [
    "#call OverSampler using 'minority' to \n",
    "ros = RandomOverSampler(sampling_strategy='minority')"
   ]
  },
  {
   "cell_type": "code",
   "execution_count": 20,
   "id": "976f2c96",
   "metadata": {},
   "outputs": [],
   "source": [
    "#set x and y to respective features\n",
    "hover_x, hover_y = df_h[model_features], df_h['hover']"
   ]
  },
  {
   "cell_type": "code",
   "execution_count": 21,
   "id": "befb7d52",
   "metadata": {},
   "outputs": [],
   "source": [
    "#resample\n",
    "hover_x, hover_y = ros.fit_resample(hover_x, hover_y)"
   ]
  },
  {
   "cell_type": "code",
   "execution_count": 22,
   "id": "1f8d62f9",
   "metadata": {},
   "outputs": [
    {
     "data": {
      "text/plain": [
       "0    4470\n",
       "1    4470\n",
       "Name: hover, dtype: int64"
      ]
     },
     "execution_count": 22,
     "metadata": {},
     "output_type": "execute_result"
    }
   ],
   "source": [
    "#new class balance\n",
    "hover_y.value_counts()"
   ]
  },
  {
   "cell_type": "markdown",
   "id": "8ad28b34",
   "metadata": {},
   "source": [
    "# Hover Taxi - XGBoost Model"
   ]
  },
  {
   "cell_type": "code",
   "execution_count": 27,
   "id": "f4038f0c",
   "metadata": {},
   "outputs": [],
   "source": [
    "#train and test split for model\n",
    "hover_x_train, hover_x_test, hover_y_train, hover_y_test = sk.model_selection.train_test_split(hover_x,hover_y,test_size=0.2,random_state=777)"
   ]
  },
  {
   "cell_type": "code",
   "execution_count": 28,
   "id": "eeea1c86",
   "metadata": {},
   "outputs": [
    {
     "name": "stdout",
     "output_type": "stream",
     "text": [
      "[12:57:03] WARNING: C:\\Windows\\Temp\\abs_557yfx631l\\croots\\recipe\\xgboost-split_1659548953302\\work\\src\\learner.cc:1115: Starting in XGBoost 1.3.0, the default evaluation metric used with the objective 'binary:logistic' was changed from 'error' to 'logloss'. Explicitly set eval_metric if you'd like to restore the old behavior.\n"
     ]
    },
    {
     "data": {
      "text/html": [
       "<style>#sk-container-id-2 {color: black;background-color: white;}#sk-container-id-2 pre{padding: 0;}#sk-container-id-2 div.sk-toggleable {background-color: white;}#sk-container-id-2 label.sk-toggleable__label {cursor: pointer;display: block;width: 100%;margin-bottom: 0;padding: 0.3em;box-sizing: border-box;text-align: center;}#sk-container-id-2 label.sk-toggleable__label-arrow:before {content: \"▸\";float: left;margin-right: 0.25em;color: #696969;}#sk-container-id-2 label.sk-toggleable__label-arrow:hover:before {color: black;}#sk-container-id-2 div.sk-estimator:hover label.sk-toggleable__label-arrow:before {color: black;}#sk-container-id-2 div.sk-toggleable__content {max-height: 0;max-width: 0;overflow: hidden;text-align: left;background-color: #f0f8ff;}#sk-container-id-2 div.sk-toggleable__content pre {margin: 0.2em;color: black;border-radius: 0.25em;background-color: #f0f8ff;}#sk-container-id-2 input.sk-toggleable__control:checked~div.sk-toggleable__content {max-height: 200px;max-width: 100%;overflow: auto;}#sk-container-id-2 input.sk-toggleable__control:checked~label.sk-toggleable__label-arrow:before {content: \"▾\";}#sk-container-id-2 div.sk-estimator input.sk-toggleable__control:checked~label.sk-toggleable__label {background-color: #d4ebff;}#sk-container-id-2 div.sk-label input.sk-toggleable__control:checked~label.sk-toggleable__label {background-color: #d4ebff;}#sk-container-id-2 input.sk-hidden--visually {border: 0;clip: rect(1px 1px 1px 1px);clip: rect(1px, 1px, 1px, 1px);height: 1px;margin: -1px;overflow: hidden;padding: 0;position: absolute;width: 1px;}#sk-container-id-2 div.sk-estimator {font-family: monospace;background-color: #f0f8ff;border: 1px dotted black;border-radius: 0.25em;box-sizing: border-box;margin-bottom: 0.5em;}#sk-container-id-2 div.sk-estimator:hover {background-color: #d4ebff;}#sk-container-id-2 div.sk-parallel-item::after {content: \"\";width: 100%;border-bottom: 1px solid gray;flex-grow: 1;}#sk-container-id-2 div.sk-label:hover label.sk-toggleable__label {background-color: #d4ebff;}#sk-container-id-2 div.sk-serial::before {content: \"\";position: absolute;border-left: 1px solid gray;box-sizing: border-box;top: 0;bottom: 0;left: 50%;z-index: 0;}#sk-container-id-2 div.sk-serial {display: flex;flex-direction: column;align-items: center;background-color: white;padding-right: 0.2em;padding-left: 0.2em;position: relative;}#sk-container-id-2 div.sk-item {position: relative;z-index: 1;}#sk-container-id-2 div.sk-parallel {display: flex;align-items: stretch;justify-content: center;background-color: white;position: relative;}#sk-container-id-2 div.sk-item::before, #sk-container-id-2 div.sk-parallel-item::before {content: \"\";position: absolute;border-left: 1px solid gray;box-sizing: border-box;top: 0;bottom: 0;left: 50%;z-index: -1;}#sk-container-id-2 div.sk-parallel-item {display: flex;flex-direction: column;z-index: 1;position: relative;background-color: white;}#sk-container-id-2 div.sk-parallel-item:first-child::after {align-self: flex-end;width: 50%;}#sk-container-id-2 div.sk-parallel-item:last-child::after {align-self: flex-start;width: 50%;}#sk-container-id-2 div.sk-parallel-item:only-child::after {width: 0;}#sk-container-id-2 div.sk-dashed-wrapped {border: 1px dashed gray;margin: 0 0.4em 0.5em 0.4em;box-sizing: border-box;padding-bottom: 0.4em;background-color: white;}#sk-container-id-2 div.sk-label label {font-family: monospace;font-weight: bold;display: inline-block;line-height: 1.2em;}#sk-container-id-2 div.sk-label-container {text-align: center;}#sk-container-id-2 div.sk-container {/* jupyter's `normalize.less` sets `[hidden] { display: none; }` but bootstrap.min.css set `[hidden] { display: none !important; }` so we also need the `!important` here to be able to override the default hidden behavior on the sphinx rendered scikit-learn.org. See: https://github.com/scikit-learn/scikit-learn/issues/21755 */display: inline-block !important;position: relative;}#sk-container-id-2 div.sk-text-repr-fallback {display: none;}</style><div id=\"sk-container-id-2\" class=\"sk-top-container\"><div class=\"sk-text-repr-fallback\"><pre>XGBClassifier(base_score=0.5, booster=&#x27;gbtree&#x27;, colsample_bylevel=1,\n",
       "              colsample_bynode=1, colsample_bytree=1, enable_categorical=False,\n",
       "              gamma=0, gpu_id=-1, importance_type=None,\n",
       "              interaction_constraints=&#x27;&#x27;, learning_rate=0.300000012,\n",
       "              max_delta_step=0, max_depth=6, min_child_weight=1, missing=nan,\n",
       "              monotone_constraints=&#x27;()&#x27;, n_estimators=100, n_jobs=16,\n",
       "              num_parallel_tree=1, predictor=&#x27;auto&#x27;, random_state=0,\n",
       "              reg_alpha=0, reg_lambda=1, scale_pos_weight=1, subsample=1,\n",
       "              tree_method=&#x27;exact&#x27;, use_label_encoder=False,\n",
       "              validate_parameters=1, verbosity=None)</pre><b>In a Jupyter environment, please rerun this cell to show the HTML representation or trust the notebook. <br />On GitHub, the HTML representation is unable to render, please try loading this page with nbviewer.org.</b></div><div class=\"sk-container\" hidden><div class=\"sk-item\"><div class=\"sk-estimator sk-toggleable\"><input class=\"sk-toggleable__control sk-hidden--visually\" id=\"sk-estimator-id-2\" type=\"checkbox\" checked><label for=\"sk-estimator-id-2\" class=\"sk-toggleable__label sk-toggleable__label-arrow\">XGBClassifier</label><div class=\"sk-toggleable__content\"><pre>XGBClassifier(base_score=0.5, booster=&#x27;gbtree&#x27;, colsample_bylevel=1,\n",
       "              colsample_bynode=1, colsample_bytree=1, enable_categorical=False,\n",
       "              gamma=0, gpu_id=-1, importance_type=None,\n",
       "              interaction_constraints=&#x27;&#x27;, learning_rate=0.300000012,\n",
       "              max_delta_step=0, max_depth=6, min_child_weight=1, missing=nan,\n",
       "              monotone_constraints=&#x27;()&#x27;, n_estimators=100, n_jobs=16,\n",
       "              num_parallel_tree=1, predictor=&#x27;auto&#x27;, random_state=0,\n",
       "              reg_alpha=0, reg_lambda=1, scale_pos_weight=1, subsample=1,\n",
       "              tree_method=&#x27;exact&#x27;, use_label_encoder=False,\n",
       "              validate_parameters=1, verbosity=None)</pre></div></div></div></div></div>"
      ],
      "text/plain": [
       "XGBClassifier(base_score=0.5, booster='gbtree', colsample_bylevel=1,\n",
       "              colsample_bynode=1, colsample_bytree=1, enable_categorical=False,\n",
       "              gamma=0, gpu_id=-1, importance_type=None,\n",
       "              interaction_constraints='', learning_rate=0.300000012,\n",
       "              max_delta_step=0, max_depth=6, min_child_weight=1, missing=nan,\n",
       "              monotone_constraints='()', n_estimators=100, n_jobs=16,\n",
       "              num_parallel_tree=1, predictor='auto', random_state=0,\n",
       "              reg_alpha=0, reg_lambda=1, scale_pos_weight=1, subsample=1,\n",
       "              tree_method='exact', use_label_encoder=False,\n",
       "              validate_parameters=1, verbosity=None)"
      ]
     },
     "execution_count": 28,
     "metadata": {},
     "output_type": "execute_result"
    }
   ],
   "source": [
    "#call XG Boost model and fit to data\n",
    "hover_model = XGBClassifier(use_label_encoder=False)\n",
    "hover_model.fit(hover_x_train, hover_y_train)"
   ]
  },
  {
   "cell_type": "code",
   "execution_count": 29,
   "id": "bcadd05b",
   "metadata": {},
   "outputs": [],
   "source": [
    "#training model prediction\n",
    "hover_train_pred = hover_model.predict(hover_x_train)"
   ]
  },
  {
   "cell_type": "code",
   "execution_count": 30,
   "id": "f6cff965",
   "metadata": {},
   "outputs": [],
   "source": [
    "#test model prediction\n",
    "hover_pred = hover_model.predict(hover_x_test)"
   ]
  },
  {
   "cell_type": "code",
   "execution_count": 31,
   "id": "f7c5ea77",
   "metadata": {},
   "outputs": [],
   "source": [
    "#accuracy scores\n",
    "hover_train_acc = sk.metrics.accuracy_score(hover_y_train, hover_train_pred)\n",
    "hover_test_acc = sk.metrics.accuracy_score(hover_y_test, hover_pred)"
   ]
  },
  {
   "cell_type": "code",
   "execution_count": 32,
   "id": "9aa85c5b",
   "metadata": {},
   "outputs": [
    {
     "name": "stdout",
     "output_type": "stream",
     "text": [
      "Train Accuracy: 100.00%\n",
      "Test Accuracy: 99.61%\n"
     ]
    }
   ],
   "source": [
    "print(\"Train Accuracy: %.2f%%\" % (hover_train_acc * 100.0))\n",
    "print(\"Test Accuracy: %.2f%%\" % (hover_test_acc * 100.0))"
   ]
  },
  {
   "cell_type": "code",
   "execution_count": 33,
   "id": "984b13a7",
   "metadata": {},
   "outputs": [],
   "source": [
    "#auc roc scores\n",
    "hover_train_roc = sk.metrics.roc_auc_score(hover_y_train, hover_train_pred)\n",
    "hover_test_roc = sk.metrics.roc_auc_score(hover_y_test, hover_pred)"
   ]
  },
  {
   "cell_type": "code",
   "execution_count": 34,
   "id": "ac4aa7ce",
   "metadata": {},
   "outputs": [
    {
     "name": "stdout",
     "output_type": "stream",
     "text": [
      "Train ROC AUC Score: 100.00%\n",
      "Test ROC AUC Score: 99.59%\n"
     ]
    }
   ],
   "source": [
    "print(\"Train ROC AUC Score: %.2f%%\" % (hover_train_roc * 100.0))\n",
    "print(\"Test ROC AUC Score: %.2f%%\" % (hover_test_roc * 100.0))"
   ]
  },
  {
   "cell_type": "code",
   "execution_count": 35,
   "id": "feaf5b9c",
   "metadata": {},
   "outputs": [
    {
     "data": {
      "image/png": "[encoded data removed]",
      "text/plain": [
       "<Figure size 576x360 with 2 Axes>"
      ]
     },
     "metadata": {
      "needs_background": "light"
     },
     "output_type": "display_data"
    }
   ],
   "source": [
    "#confusion matrix\n",
    "fig, ax = plt.subplots(figsize=(8, 5))\n",
    "cmp = sk.metrics.ConfusionMatrixDisplay(sk.metrics.confusion_matrix(hover_y_test, hover_pred),)\n",
    "cmp.plot(ax=ax)\n",
    "plt.show()"
   ]
  },
  {
   "cell_type": "code",
   "execution_count": 36,
   "id": "70ec644c",
   "metadata": {},
   "outputs": [
    {
     "name": "stderr",
     "output_type": "stream",
     "text": [
      "C:\\Users\\kanev\\anaconda3\\lib\\site-packages\\sklearn\\utils\\deprecation.py:87: FutureWarning: Function plot_roc_curve is deprecated; Function :func:`plot_roc_curve` is deprecated in 1.0 and will be removed in 1.2. Use one of the class methods: :meth:`sklearn.metrics.RocCurveDisplay.from_predictions` or :meth:`sklearn.metrics.RocCurveDisplay.from_estimator`.\n",
      "  warnings.warn(msg, category=FutureWarning)\n"
     ]
    },
    {
     "data": {
      "image/png": "[encoded data removed]",
      "text/plain": [
       "<Figure size 432x288 with 1 Axes>"
      ]
     },
     "metadata": {
      "needs_background": "light"
     },
     "output_type": "display_data"
    }
   ],
   "source": [
    "#auc roc plot\n",
    "sk.metrics.plot_roc_curve(hover_model, hover_x_test, hover_y_test)\n",
    "plt.show()"
   ]
  },
  {
   "cell_type": "markdown",
   "id": "689f5fa2",
   "metadata": {},
   "source": [
    "# Surface Taxi - DataFrame Labelling"
   ]
  },
  {
   "cell_type": "code",
   "execution_count": 37,
   "id": "04ba5648",
   "metadata": {},
   "outputs": [],
   "source": [
    "df_s = df.copy()\n",
    "df_s['surface'] = 0\n",
    "\n",
    "df_s.loc[(df_s['datetime'].between('2022-09-19 21:53:50' , '2022-09-19 21:55:55' , inclusive='both')),['surface']] = 1\n",
    "df_s.loc[(df_s['datetime'].between('2022-09-19 22:04:00' , '2022-09-19 22:06:39' , inclusive='both')),['surface']] = 1\n",
    "df_s.loc[(df_s['datetime'].between('2022-09-20 20:25:50' , '2022-09-20 20:27:54' , inclusive='both')),['surface']] = 1\n",
    "df_s.loc[(df_s['datetime'].between('2022-09-22 21:16:37' , '2022-09-22 21:19:56' , inclusive='both')),['surface']] = 1\n",
    "df_s.loc[(df_s['datetime'].between('2022-09-22 21:43:16' , '2022-09-22 21:43:41' , inclusive='both')),['surface']] = 1"
   ]
  },
  {
   "cell_type": "code",
   "execution_count": 41,
   "id": "323684f4",
   "metadata": {},
   "outputs": [
    {
     "data": {
      "text/plain": [
       "0    4722\n",
       "1     411\n",
       "Name: surface, dtype: int64"
      ]
     },
     "execution_count": 41,
     "metadata": {},
     "output_type": "execute_result"
    }
   ],
   "source": [
    "#orginal class imbalance\n",
    "df_s['surface'].value_counts()"
   ]
  },
  {
   "cell_type": "markdown",
   "id": "95e05b71",
   "metadata": {},
   "source": [
    "# Surface Taxi - Model Features and Class Balance"
   ]
  },
  {
   "cell_type": "code",
   "execution_count": 45,
   "id": "a6f4e9db",
   "metadata": {},
   "outputs": [],
   "source": [
    "#set x and y to respective features\n",
    "surface_x, surface_y = df_s[model_features], df_s['surface']"
   ]
  },
  {
   "cell_type": "code",
   "execution_count": 46,
   "id": "a9d6419e",
   "metadata": {},
   "outputs": [],
   "source": [
    "#resample\n",
    "surface_x, surface_y = ros.fit_resample(surface_x, surface_y)"
   ]
  },
  {
   "cell_type": "code",
   "execution_count": 47,
   "id": "b196999e",
   "metadata": {},
   "outputs": [
    {
     "data": {
      "text/plain": [
       "0    4722\n",
       "1    4722\n",
       "Name: surface, dtype: int64"
      ]
     },
     "execution_count": 47,
     "metadata": {},
     "output_type": "execute_result"
    }
   ],
   "source": [
    "#new class balance\n",
    "surface_y.value_counts()"
   ]
  },
  {
   "cell_type": "markdown",
   "id": "c502cf37",
   "metadata": {},
   "source": [
    "# Surface Taxi - XGBoost Model"
   ]
  },
  {
   "cell_type": "code",
   "execution_count": 50,
   "id": "83e64228",
   "metadata": {},
   "outputs": [],
   "source": [
    "#train and test split for model\n",
    "surface_x_train, surface_x_test, surface_y_train, surface_y_test = sk.model_selection.train_test_split(surface_x,surface_y,test_size=0.2,random_state=777)"
   ]
  },
  {
   "cell_type": "code",
   "execution_count": 51,
   "id": "1893e793",
   "metadata": {},
   "outputs": [
    {
     "name": "stdout",
     "output_type": "stream",
     "text": [
      "[13:02:33] WARNING: C:\\Windows\\Temp\\abs_557yfx631l\\croots\\recipe\\xgboost-split_1659548953302\\work\\src\\learner.cc:1115: Starting in XGBoost 1.3.0, the default evaluation metric used with the objective 'binary:logistic' was changed from 'error' to 'logloss'. Explicitly set eval_metric if you'd like to restore the old behavior.\n"
     ]
    },
    {
     "data": {
      "text/html": [
       "<style>#sk-container-id-4 {color: black;background-color: white;}#sk-container-id-4 pre{padding: 0;}#sk-container-id-4 div.sk-toggleable {background-color: white;}#sk-container-id-4 label.sk-toggleable__label {cursor: pointer;display: block;width: 100%;margin-bottom: 0;padding: 0.3em;box-sizing: border-box;text-align: center;}#sk-container-id-4 label.sk-toggleable__label-arrow:before {content: \"▸\";float: left;margin-right: 0.25em;color: #696969;}#sk-container-id-4 label.sk-toggleable__label-arrow:hover:before {color: black;}#sk-container-id-4 div.sk-estimator:hover label.sk-toggleable__label-arrow:before {color: black;}#sk-container-id-4 div.sk-toggleable__content {max-height: 0;max-width: 0;overflow: hidden;text-align: left;background-color: #f0f8ff;}#sk-container-id-4 div.sk-toggleable__content pre {margin: 0.2em;color: black;border-radius: 0.25em;background-color: #f0f8ff;}#sk-container-id-4 input.sk-toggleable__control:checked~div.sk-toggleable__content {max-height: 200px;max-width: 100%;overflow: auto;}#sk-container-id-4 input.sk-toggleable__control:checked~label.sk-toggleable__label-arrow:before {content: \"▾\";}#sk-container-id-4 div.sk-estimator input.sk-toggleable__control:checked~label.sk-toggleable__label {background-color: #d4ebff;}#sk-container-id-4 div.sk-label input.sk-toggleable__control:checked~label.sk-toggleable__label {background-color: #d4ebff;}#sk-container-id-4 input.sk-hidden--visually {border: 0;clip: rect(1px 1px 1px 1px);clip: rect(1px, 1px, 1px, 1px);height: 1px;margin: -1px;overflow: hidden;padding: 0;position: absolute;width: 1px;}#sk-container-id-4 div.sk-estimator {font-family: monospace;background-color: #f0f8ff;border: 1px dotted black;border-radius: 0.25em;box-sizing: border-box;margin-bottom: 0.5em;}#sk-container-id-4 div.sk-estimator:hover {background-color: #d4ebff;}#sk-container-id-4 div.sk-parallel-item::after {content: \"\";width: 100%;border-bottom: 1px solid gray;flex-grow: 1;}#sk-container-id-4 div.sk-label:hover label.sk-toggleable__label {background-color: #d4ebff;}#sk-container-id-4 div.sk-serial::before {content: \"\";position: absolute;border-left: 1px solid gray;box-sizing: border-box;top: 0;bottom: 0;left: 50%;z-index: 0;}#sk-container-id-4 div.sk-serial {display: flex;flex-direction: column;align-items: center;background-color: white;padding-right: 0.2em;padding-left: 0.2em;position: relative;}#sk-container-id-4 div.sk-item {position: relative;z-index: 1;}#sk-container-id-4 div.sk-parallel {display: flex;align-items: stretch;justify-content: center;background-color: white;position: relative;}#sk-container-id-4 div.sk-item::before, #sk-container-id-4 div.sk-parallel-item::before {content: \"\";position: absolute;border-left: 1px solid gray;box-sizing: border-box;top: 0;bottom: 0;left: 50%;z-index: -1;}#sk-container-id-4 div.sk-parallel-item {display: flex;flex-direction: column;z-index: 1;position: relative;background-color: white;}#sk-container-id-4 div.sk-parallel-item:first-child::after {align-self: flex-end;width: 50%;}#sk-container-id-4 div.sk-parallel-item:last-child::after {align-self: flex-start;width: 50%;}#sk-container-id-4 div.sk-parallel-item:only-child::after {width: 0;}#sk-container-id-4 div.sk-dashed-wrapped {border: 1px dashed gray;margin: 0 0.4em 0.5em 0.4em;box-sizing: border-box;padding-bottom: 0.4em;background-color: white;}#sk-container-id-4 div.sk-label label {font-family: monospace;font-weight: bold;display: inline-block;line-height: 1.2em;}#sk-container-id-4 div.sk-label-container {text-align: center;}#sk-container-id-4 div.sk-container {/* jupyter's `normalize.less` sets `[hidden] { display: none; }` but bootstrap.min.css set `[hidden] { display: none !important; }` so we also need the `!important` here to be able to override the default hidden behavior on the sphinx rendered scikit-learn.org. See: https://github.com/scikit-learn/scikit-learn/issues/21755 */display: inline-block !important;position: relative;}#sk-container-id-4 div.sk-text-repr-fallback {display: none;}</style><div id=\"sk-container-id-4\" class=\"sk-top-container\"><div class=\"sk-text-repr-fallback\"><pre>XGBClassifier(base_score=0.5, booster=&#x27;gbtree&#x27;, colsample_bylevel=1,\n",
       "              colsample_bynode=1, colsample_bytree=1, enable_categorical=False,\n",
       "              gamma=0, gpu_id=-1, importance_type=None,\n",
       "              interaction_constraints=&#x27;&#x27;, learning_rate=0.300000012,\n",
       "              max_delta_step=0, max_depth=6, min_child_weight=1, missing=nan,\n",
       "              monotone_constraints=&#x27;()&#x27;, n_estimators=100, n_jobs=16,\n",
       "              num_parallel_tree=1, predictor=&#x27;auto&#x27;, random_state=0,\n",
       "              reg_alpha=0, reg_lambda=1, scale_pos_weight=1, subsample=1,\n",
       "              tree_method=&#x27;exact&#x27;, use_label_encoder=False,\n",
       "              validate_parameters=1, verbosity=None)</pre><b>In a Jupyter environment, please rerun this cell to show the HTML representation or trust the notebook. <br />On GitHub, the HTML representation is unable to render, please try loading this page with nbviewer.org.</b></div><div class=\"sk-container\" hidden><div class=\"sk-item\"><div class=\"sk-estimator sk-toggleable\"><input class=\"sk-toggleable__control sk-hidden--visually\" id=\"sk-estimator-id-4\" type=\"checkbox\" checked><label for=\"sk-estimator-id-4\" class=\"sk-toggleable__label sk-toggleable__label-arrow\">XGBClassifier</label><div class=\"sk-toggleable__content\"><pre>XGBClassifier(base_score=0.5, booster=&#x27;gbtree&#x27;, colsample_bylevel=1,\n",
       "              colsample_bynode=1, colsample_bytree=1, enable_categorical=False,\n",
       "              gamma=0, gpu_id=-1, importance_type=None,\n",
       "              interaction_constraints=&#x27;&#x27;, learning_rate=0.300000012,\n",
       "              max_delta_step=0, max_depth=6, min_child_weight=1, missing=nan,\n",
       "              monotone_constraints=&#x27;()&#x27;, n_estimators=100, n_jobs=16,\n",
       "              num_parallel_tree=1, predictor=&#x27;auto&#x27;, random_state=0,\n",
       "              reg_alpha=0, reg_lambda=1, scale_pos_weight=1, subsample=1,\n",
       "              tree_method=&#x27;exact&#x27;, use_label_encoder=False,\n",
       "              validate_parameters=1, verbosity=None)</pre></div></div></div></div></div>"
      ],
      "text/plain": [
       "XGBClassifier(base_score=0.5, booster='gbtree', colsample_bylevel=1,\n",
       "              colsample_bynode=1, colsample_bytree=1, enable_categorical=False,\n",
       "              gamma=0, gpu_id=-1, importance_type=None,\n",
       "              interaction_constraints='', learning_rate=0.300000012,\n",
       "              max_delta_step=0, max_depth=6, min_child_weight=1, missing=nan,\n",
       "              monotone_constraints='()', n_estimators=100, n_jobs=16,\n",
       "              num_parallel_tree=1, predictor='auto', random_state=0,\n",
       "              reg_alpha=0, reg_lambda=1, scale_pos_weight=1, subsample=1,\n",
       "              tree_method='exact', use_label_encoder=False,\n",
       "              validate_parameters=1, verbosity=None)"
      ]
     },
     "execution_count": 51,
     "metadata": {},
     "output_type": "execute_result"
    }
   ],
   "source": [
    "#call XG Boost model and fit to data\n",
    "surface_model = XGBClassifier(use_label_encoder=False)\n",
    "surface_model.fit(surface_x_train, surface_y_train)"
   ]
  },
  {
   "cell_type": "code",
   "execution_count": 52,
   "id": "0c70cf8b",
   "metadata": {},
   "outputs": [],
   "source": [
    "#training model prediction\n",
    "surface_train_pred = surface_model.predict(surface_x_train)"
   ]
  },
  {
   "cell_type": "code",
   "execution_count": 53,
   "id": "c8d356ed",
   "metadata": {},
   "outputs": [],
   "source": [
    "#test model prediction\n",
    "surface_pred = surface_model.predict(surface_x_test)"
   ]
  },
  {
   "cell_type": "code",
   "execution_count": 54,
   "id": "612e7087",
   "metadata": {},
   "outputs": [],
   "source": [
    "#accuracy scores\n",
    "surface_train_acc = sk.metrics.accuracy_score(surface_y_train, surface_train_pred)\n",
    "surface_test_acc = sk.metrics.accuracy_score(surface_y_test, surface_pred)"
   ]
  },
  {
   "cell_type": "code",
   "execution_count": 55,
   "id": "527d3a4e",
   "metadata": {},
   "outputs": [
    {
     "name": "stdout",
     "output_type": "stream",
     "text": [
      "Train Accuracy: 100.00%\n",
      "Test Accuracy: 99.79%\n"
     ]
    }
   ],
   "source": [
    "print(\"Train Accuracy: %.2f%%\" % (surface_train_acc * 100.0))\n",
    "print(\"Test Accuracy: %.2f%%\" % (surface_test_acc * 100.0))"
   ]
  },
  {
   "cell_type": "code",
   "execution_count": 56,
   "id": "efd6678d",
   "metadata": {},
   "outputs": [],
   "source": [
    "#auc roc scores\n",
    "surface_train_roc = sk.metrics.roc_auc_score(surface_y_train, surface_train_pred)\n",
    "surface_test_roc = sk.metrics.roc_auc_score(surface_y_test, surface_pred)"
   ]
  },
  {
   "cell_type": "code",
   "execution_count": 57,
   "id": "90357096",
   "metadata": {},
   "outputs": [
    {
     "name": "stdout",
     "output_type": "stream",
     "text": [
      "Train ROC AUC Score: 100.00%\n",
      "Test ROC AUC Score: 99.79%\n"
     ]
    }
   ],
   "source": [
    "print(\"Train ROC AUC Score: %.2f%%\" % (surface_train_roc * 100.0))\n",
    "print(\"Test ROC AUC Score: %.2f%%\" % (surface_test_roc * 100.0))"
   ]
  },
  {
   "cell_type": "code",
   "execution_count": 58,
   "id": "12806e56",
   "metadata": {},
   "outputs": [
    {
     "data": {
      "image/png": "[encoded data removed]",
      "text/plain": [
       "<Figure size 576x360 with 2 Axes>"
      ]
     },
     "metadata": {
      "needs_background": "light"
     },
     "output_type": "display_data"
    }
   ],
   "source": [
    "#confusion matrix\n",
    "fig, ax = plt.subplots(figsize=(8, 5))\n",
    "cmp = sk.metrics.ConfusionMatrixDisplay(sk.metrics.confusion_matrix(surface_y_test, surface_pred),)\n",
    "cmp.plot(ax=ax)\n",
    "plt.show()"
   ]
  },
  {
   "cell_type": "code",
   "execution_count": 59,
   "id": "d3c45209",
   "metadata": {},
   "outputs": [
    {
     "name": "stderr",
     "output_type": "stream",
     "text": [
      "C:\\Users\\kanev\\anaconda3\\lib\\site-packages\\sklearn\\utils\\deprecation.py:87: FutureWarning: Function plot_roc_curve is deprecated; Function :func:`plot_roc_curve` is deprecated in 1.0 and will be removed in 1.2. Use one of the class methods: :meth:`sklearn.metrics.RocCurveDisplay.from_predictions` or :meth:`sklearn.metrics.RocCurveDisplay.from_estimator`.\n",
      "  warnings.warn(msg, category=FutureWarning)\n"
     ]
    },
    {
     "data": {
      "image/png": "[encoded data removed]",
      "text/plain": [
       "<Figure size 432x288 with 1 Axes>"
      ]
     },
     "metadata": {
      "needs_background": "light"
     },
     "output_type": "display_data"
    }
   ],
   "source": [
    "#auc roc plot\n",
    "sk.metrics.plot_roc_curve(surface_model, surface_x_test, surface_y_test)\n",
    "plt.show()"
   ]
  },
  {
   "cell_type": "code",
   "execution_count": null,
   "id": "efa8c4cc",
   "metadata": {},
   "outputs": [],
   "source": []
  },
  {
   "cell_type": "code",
   "execution_count": null,
   "id": "fcb83d44",
   "metadata": {},
   "outputs": [],
   "source": []
  },
  {
   "cell_type": "code",
   "execution_count": null,
   "id": "78555826",
   "metadata": {},
   "outputs": [],
   "source": []
  },
  {
   "cell_type": "code",
   "execution_count": null,
   "id": "0c0e06d4",
   "metadata": {},
   "outputs": [],
   "source": []
  },
  {
   "cell_type": "code",
   "execution_count": null,
   "id": "6445d153",
   "metadata": {},
   "outputs": [],
   "source": []
  },
  {
   "cell_type": "code",
   "execution_count": null,
   "id": "80e79c14",
   "metadata": {},
   "outputs": [],
   "source": []
  }
 ],
 "metadata": {
  "kernelspec": {
   "display_name": "Python 3 (ipykernel)",
   "language": "python",
   "name": "python3"
  },
  "language_info": {
   "codemirror_mode": {
    "name": "ipython",
    "version": 3
   },
   "file_extension": ".py",
   "mimetype": "text/x-python",
   "name": "python",
   "nbconvert_exporter": "python",
   "pygments_lexer": "ipython3",
   "version": "3.9.12"
  }
 },
 "nbformat": 4,
 "nbformat_minor": 5
}
