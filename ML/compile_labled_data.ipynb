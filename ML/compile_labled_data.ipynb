{
 "cells": [
  {
   "cell_type": "markdown",
   "id": "85612b73",
   "metadata": {},
   "source": [
    "in this notebook i want to compile all of our labeled data into a bil 'ol df for ML"
   ]
  },
  {
   "cell_type": "code",
   "execution_count": 1,
   "id": "6db8968f",
   "metadata": {},
   "outputs": [],
   "source": [
    "import pandas as pd\n",
    "import matplotlib.pyplot as plt\n",
    "import seaborn as sns\n",
    "import os"
   ]
  },
  {
   "cell_type": "code",
   "execution_count": 2,
   "id": "45661297",
   "metadata": {},
   "outputs": [],
   "source": [
    "# Create a custom function for data transformation\n",
    "features = ['datetime',\n",
    "         'hasWeightOnWheels',\n",
    "            'absoluteAltitude',\n",
    "                 'magneticHeading', \n",
    "                 'groundSpeed', \n",
    "                 'climbOrDescentRate',\n",
    "                 'turnRate to degPerSec',\n",
    "                 'cyclicPositionPitch',\n",
    "                 'cyclicPositionRoll',\n",
    "                 'collectivePosition',\n",
    "                 'antiTorquePedalPosition',\n",
    "                 'throttlePosition',\n",
    "                 'e1Torque',\n",
    "                 'e2Torque'\n",
    "]\n",
    "\n",
    "def df_transformation(df):\n",
    "    df_temp = df[features]\n",
    "    df_temp['datetime'] = df_temp.datetime.dt.strftime('%Y-%m-%d %H:%M:%S').astype('datetime64[ns]')\n",
    "\n",
    "    output = df_temp.groupby(by=[\"datetime\"], dropna=False).mean().reset_index()\n",
    "    \n",
    "    return output "
   ]
  },
  {
   "cell_type": "code",
   "execution_count": 3,
   "id": "9a3557e1",
   "metadata": {},
   "outputs": [
    {
     "name": "stderr",
     "output_type": "stream",
     "text": [
      "C:\\Users\\twolf\\AppData\\Local\\Temp\\ipykernel_18052\\304158065.py:20: SettingWithCopyWarning: \n",
      "A value is trying to be set on a copy of a slice from a DataFrame.\n",
      "Try using .loc[row_indexer,col_indexer] = value instead\n",
      "\n",
      "See the caveats in the documentation: https://pandas.pydata.org/pandas-docs/stable/user_guide/indexing.html#returning-a-view-versus-a-copy\n",
      "  df_temp['datetime'] = df_temp.datetime.dt.strftime('%Y-%m-%d %H:%M:%S').astype('datetime64[ns]')\n",
      "C:\\Users\\twolf\\AppData\\Local\\Temp\\ipykernel_18052\\304158065.py:20: SettingWithCopyWarning: \n",
      "A value is trying to be set on a copy of a slice from a DataFrame.\n",
      "Try using .loc[row_indexer,col_indexer] = value instead\n",
      "\n",
      "See the caveats in the documentation: https://pandas.pydata.org/pandas-docs/stable/user_guide/indexing.html#returning-a-view-versus-a-copy\n",
      "  df_temp['datetime'] = df_temp.datetime.dt.strftime('%Y-%m-%d %H:%M:%S').astype('datetime64[ns]')\n",
      "C:\\Users\\twolf\\AppData\\Local\\Temp\\ipykernel_18052\\304158065.py:20: SettingWithCopyWarning: \n",
      "A value is trying to be set on a copy of a slice from a DataFrame.\n",
      "Try using .loc[row_indexer,col_indexer] = value instead\n",
      "\n",
      "See the caveats in the documentation: https://pandas.pydata.org/pandas-docs/stable/user_guide/indexing.html#returning-a-view-versus-a-copy\n",
      "  df_temp['datetime'] = df_temp.datetime.dt.strftime('%Y-%m-%d %H:%M:%S').astype('datetime64[ns]')\n",
      "C:\\Users\\twolf\\AppData\\Local\\Temp\\ipykernel_18052\\304158065.py:20: SettingWithCopyWarning: \n",
      "A value is trying to be set on a copy of a slice from a DataFrame.\n",
      "Try using .loc[row_indexer,col_indexer] = value instead\n",
      "\n",
      "See the caveats in the documentation: https://pandas.pydata.org/pandas-docs/stable/user_guide/indexing.html#returning-a-view-versus-a-copy\n",
      "  df_temp['datetime'] = df_temp.datetime.dt.strftime('%Y-%m-%d %H:%M:%S').astype('datetime64[ns]')\n",
      "C:\\Users\\twolf\\AppData\\Local\\Temp\\ipykernel_18052\\304158065.py:20: SettingWithCopyWarning: \n",
      "A value is trying to be set on a copy of a slice from a DataFrame.\n",
      "Try using .loc[row_indexer,col_indexer] = value instead\n",
      "\n",
      "See the caveats in the documentation: https://pandas.pydata.org/pandas-docs/stable/user_guide/indexing.html#returning-a-view-versus-a-copy\n",
      "  df_temp['datetime'] = df_temp.datetime.dt.strftime('%Y-%m-%d %H:%M:%S').astype('datetime64[ns]')\n"
     ]
    }
   ],
   "source": [
    "# reading files from 9/19 dataset\n",
    "df1 = pd.read_csv('SimData_2022.09.19_16.00.36.csv.roar.csv',\n",
    "                parse_dates = {'datetime': ['date', 'time']},\n",
    "                low_memory=False)\n",
    "df1 = df_transformation(df1)\n",
    "\n",
    "\n",
    "df2 = pd.read_csv('SimData_2022.09.19_16.38.20.csv.roar.csv',\n",
    "                parse_dates = {'datetime': ['date', 'time']},\n",
    "                low_memory=False)\n",
    "df2 = df_transformation(df2)\n",
    "\n",
    "\n",
    "df3 = pd.read_csv('SimData_2022.09.19_17.51.37.csv.roar.csv',\n",
    "                parse_dates = {'datetime': ['date', 'time']},\n",
    "                low_memory=False)\n",
    "df3 = df_transformation(df3)\n",
    "\n",
    "\n",
    "\n",
    "# reading files from 9/20 dataset\n",
    "first_file = pd.read_csv('SimData_2022.09.20_16.22.07.csv.roar.csv',\n",
    "                parse_dates = {'datetime': ['date', 'time']},\n",
    "                low_memory=False)\n",
    "first_file = df_transformation(first_file)\n",
    "\n",
    "\n",
    "second_file = pd.read_csv('SimData_2022.09.20_16.28.31.csv.roar.csv',\n",
    "                parse_dates = {'datetime': ['date', 'time']},\n",
    "                low_memory=False)\n",
    "second_file = df_transformation(second_file)"
   ]
  },
  {
   "cell_type": "code",
   "execution_count": 4,
   "id": "cd2cb464",
   "metadata": {},
   "outputs": [],
   "source": [
    "#Combine files\n",
    "df = pd.concat([first_file,second_file, df1, df2, df3]).reset_index()\n"
   ]
  },
  {
   "cell_type": "code",
   "execution_count": 5,
   "id": "9a2aa40a",
   "metadata": {},
   "outputs": [],
   "source": [
    "# highlight cells and: ctrl,+,/ to comment and uncomment \n",
    "# #Add columns for surface and hover taxi maneuvers and default set value to zero\n",
    "# df['Surface_Taxi'] = 0\n",
    "# df['Hover_Taxi'] = 0\n",
    "# df['Quick_Stop'] = 0"
   ]
  },
  {
   "cell_type": "code",
   "execution_count": 6,
   "id": "3fb5d2ce",
   "metadata": {},
   "outputs": [],
   "source": [
    "\n",
    "# #label data points from 9/19 set \n",
    "# df.loc[(df['datetime'].between('2022-09-19 21:53:50' , '2022-09-19 21:55:55' , inclusive='both')),['Surface_Taxi']] = 1\n",
    "# df.loc[(df['datetime'].between('2022-09-19 21:57:07' , '2022-09-19 21:59:20' , inclusive='both')),['Hover_Taxi']] = 1\n",
    "# df.loc[(df['datetime'].between('2022-09-19 22:00:35' , '2022-09-19 22:01:44' , inclusive='both')),['Quick_Stop']] = 1\n",
    "# df.loc[(df['datetime'].between('2022-09-19 22:04:00' , '2022-09-19 22:06:39' , inclusive='both')),['Surface_Taxi']] = 1\n",
    "# df.loc[(df['datetime'].between('2022-09-19 22:08:15' , '2022-09-19 22:10:24' , inclusive='both')),['Hover_Taxi']] = 1\n",
    "# df.loc[(df['datetime'].between('2022-09-19 22:11:55' , '2022-09-19 22:13:21' , inclusive='both')),['Quick_Stop']] = 1\n",
    "\n",
    "# #label data points from 9/20 set\n",
    "# df.loc[(df['datetime'].between('2022-09-20 20:25:50' , '2022-09-20 20:27:54' , inclusive='both')),['Surface_Taxi']] = 1\n",
    "# df.loc[(df['datetime'].between('2022-09-20 20:28:44' , '2022-09-20 20:30:06' , inclusive='both')),['Hover_Taxi']] = 1\n",
    "# df.loc[(df['datetime'].between('2022-09-20 20:30:31' , '2022-09-20 20:32:16' , inclusive='both')),['Hover_Taxi']] = 1\n",
    "# df.loc[(df['datetime'].between('2022-09-20 20:32:39' , '2022-09-20 20:34:06' , inclusive='both')),['Hover_Taxi']] = 1\n",
    "# df.loc[(df['datetime'].between('2022-09-20 20:34:50' , '2022-09-20 20:36:51' , inclusive='both')),['Hover_Taxi']] = 1\n"
   ]
  },
  {
   "cell_type": "code",
   "execution_count": 7,
   "id": "111e1818",
   "metadata": {},
   "outputs": [],
   "source": [
    "#just make maneuver col\n",
    "\n",
    "df['maneuver'] = 0\n",
    "\n",
    "#label data points from 9/19 set \n",
    "df.loc[(df['datetime'].between('2022-09-19 21:53:50' , '2022-09-19 21:55:55' , inclusive='both')),['maneuver']] = 'surface'\n",
    "df.loc[(df['datetime'].between('2022-09-19 21:57:07' , '2022-09-19 21:59:20' , inclusive='both')),['maneuver']] = 'hover'\n",
    "df.loc[(df['datetime'].between('2022-09-19 22:00:35' , '2022-09-19 22:01:44' , inclusive='both')),['maneuver']] = 'quick'\n",
    "df.loc[(df['datetime'].between('2022-09-19 22:04:00' , '2022-09-19 22:06:39' , inclusive='both')),['maneuver']] = 'surface'\n",
    "df.loc[(df['datetime'].between('2022-09-19 22:08:15' , '2022-09-19 22:10:24' , inclusive='both')),['maneuver']] = 'hover'\n",
    "df.loc[(df['datetime'].between('2022-09-19 22:11:55' , '2022-09-19 22:13:21' , inclusive='both')),['maneuver']] = 'quick'\n",
    "\n",
    "#label data points from 9/20 set\n",
    "df.loc[(df['datetime'].between('2022-09-20 20:25:50' , '2022-09-20 20:27:54' , inclusive='both')),['maneuver']] = 'surface'\n",
    "df.loc[(df['datetime'].between('2022-09-20 20:28:44' , '2022-09-20 20:30:06' , inclusive='both')),['maneuver']] = 'hover'\n",
    "df.loc[(df['datetime'].between('2022-09-20 20:30:31' , '2022-09-20 20:32:16' , inclusive='both')),['maneuver']] = 'hover'\n",
    "df.loc[(df['datetime'].between('2022-09-20 20:32:39' , '2022-09-20 20:34:06' , inclusive='both')),['maneuver']] = 'hover'\n",
    "df.loc[(df['datetime'].between('2022-09-20 20:34:50' , '2022-09-20 20:36:51' , inclusive='both')),['maneuver']] = 'hover'\n"
   ]
  },
  {
   "cell_type": "code",
   "execution_count": 8,
   "id": "a632bd6a",
   "metadata": {},
   "outputs": [],
   "source": [
    "\n",
    "df.drop(df[df['maneuver']==0].index, inplace=True)\n"
   ]
  },
  {
   "cell_type": "code",
   "execution_count": 9,
   "id": "8a67b13c",
   "metadata": {},
   "outputs": [],
   "source": [
    "#get dummies , turns catetgorical values into 3 new rows with 0s and 1s\n",
    "dummies = pd.get_dummies(df['maneuver'])\n"
   ]
  },
  {
   "cell_type": "code",
   "execution_count": 10,
   "id": "89777756",
   "metadata": {},
   "outputs": [
    {
     "data": {
      "text/html": [
       "<div>\n",
       "<style scoped>\n",
       "    .dataframe tbody tr th:only-of-type {\n",
       "        vertical-align: middle;\n",
       "    }\n",
       "\n",
       "    .dataframe tbody tr th {\n",
       "        vertical-align: top;\n",
       "    }\n",
       "\n",
       "    .dataframe thead th {\n",
       "        text-align: right;\n",
       "    }\n",
       "</style>\n",
       "<table border=\"1\" class=\"dataframe\">\n",
       "  <thead>\n",
       "    <tr style=\"text-align: right;\">\n",
       "      <th></th>\n",
       "      <th>hasWeightOnWheels</th>\n",
       "      <th>absoluteAltitude</th>\n",
       "      <th>magneticHeading</th>\n",
       "      <th>groundSpeed</th>\n",
       "      <th>climbOrDescentRate</th>\n",
       "      <th>turnRate to degPerSec</th>\n",
       "      <th>cyclicPositionPitch</th>\n",
       "      <th>cyclicPositionRoll</th>\n",
       "      <th>collectivePosition</th>\n",
       "      <th>antiTorquePedalPosition</th>\n",
       "      <th>throttlePosition</th>\n",
       "      <th>e1Torque</th>\n",
       "      <th>e2Torque</th>\n",
       "      <th>maneuver</th>\n",
       "    </tr>\n",
       "  </thead>\n",
       "  <tbody>\n",
       "    <tr>\n",
       "      <th>223</th>\n",
       "      <td>1.000000</td>\n",
       "      <td>0.290000</td>\n",
       "      <td>113.827175</td>\n",
       "      <td>0.658775</td>\n",
       "      <td>3.876150</td>\n",
       "      <td>-0.283800</td>\n",
       "      <td>-37.349850</td>\n",
       "      <td>-4.746850</td>\n",
       "      <td>34.020775</td>\n",
       "      <td>-0.331850</td>\n",
       "      <td>44.952450</td>\n",
       "      <td>35.113250</td>\n",
       "      <td>35.113250</td>\n",
       "      <td>surface</td>\n",
       "    </tr>\n",
       "    <tr>\n",
       "      <th>224</th>\n",
       "      <td>1.000000</td>\n",
       "      <td>0.469429</td>\n",
       "      <td>113.765086</td>\n",
       "      <td>1.815429</td>\n",
       "      <td>7.047200</td>\n",
       "      <td>-0.186971</td>\n",
       "      <td>-44.221371</td>\n",
       "      <td>-2.720200</td>\n",
       "      <td>34.114886</td>\n",
       "      <td>-0.028457</td>\n",
       "      <td>46.346171</td>\n",
       "      <td>39.858829</td>\n",
       "      <td>39.858829</td>\n",
       "      <td>surface</td>\n",
       "    </tr>\n",
       "    <tr>\n",
       "      <th>225</th>\n",
       "      <td>1.000000</td>\n",
       "      <td>0.494865</td>\n",
       "      <td>113.580027</td>\n",
       "      <td>3.182162</td>\n",
       "      <td>5.442784</td>\n",
       "      <td>-0.185595</td>\n",
       "      <td>-43.949514</td>\n",
       "      <td>-2.258081</td>\n",
       "      <td>33.822676</td>\n",
       "      <td>0.581703</td>\n",
       "      <td>44.717378</td>\n",
       "      <td>37.255216</td>\n",
       "      <td>37.255216</td>\n",
       "      <td>surface</td>\n",
       "    </tr>\n",
       "    <tr>\n",
       "      <th>226</th>\n",
       "      <td>1.000000</td>\n",
       "      <td>0.395128</td>\n",
       "      <td>113.414872</td>\n",
       "      <td>4.566308</td>\n",
       "      <td>-5.165410</td>\n",
       "      <td>-0.130692</td>\n",
       "      <td>-44.382846</td>\n",
       "      <td>-2.766103</td>\n",
       "      <td>34.101051</td>\n",
       "      <td>4.291051</td>\n",
       "      <td>43.760026</td>\n",
       "      <td>34.740718</td>\n",
       "      <td>34.740718</td>\n",
       "      <td>surface</td>\n",
       "    </tr>\n",
       "    <tr>\n",
       "      <th>227</th>\n",
       "      <td>1.000000</td>\n",
       "      <td>0.443846</td>\n",
       "      <td>114.143000</td>\n",
       "      <td>5.930205</td>\n",
       "      <td>-0.810744</td>\n",
       "      <td>0.231821</td>\n",
       "      <td>-42.757154</td>\n",
       "      <td>-2.328923</td>\n",
       "      <td>33.948026</td>\n",
       "      <td>7.572462</td>\n",
       "      <td>43.522821</td>\n",
       "      <td>34.127026</td>\n",
       "      <td>34.127026</td>\n",
       "      <td>surface</td>\n",
       "    </tr>\n",
       "    <tr>\n",
       "      <th>...</th>\n",
       "      <td>...</td>\n",
       "      <td>...</td>\n",
       "      <td>...</td>\n",
       "      <td>...</td>\n",
       "      <td>...</td>\n",
       "      <td>...</td>\n",
       "      <td>...</td>\n",
       "      <td>...</td>\n",
       "      <td>...</td>\n",
       "      <td>...</td>\n",
       "      <td>...</td>\n",
       "      <td>...</td>\n",
       "      <td>...</td>\n",
       "      <td>...</td>\n",
       "    </tr>\n",
       "    <tr>\n",
       "      <th>5106</th>\n",
       "      <td>0.000000</td>\n",
       "      <td>7.565918</td>\n",
       "      <td>1.265898</td>\n",
       "      <td>5.295592</td>\n",
       "      <td>-215.433408</td>\n",
       "      <td>0.021347</td>\n",
       "      <td>-5.731184</td>\n",
       "      <td>-3.308449</td>\n",
       "      <td>41.096388</td>\n",
       "      <td>-3.571714</td>\n",
       "      <td>50.755918</td>\n",
       "      <td>49.334041</td>\n",
       "      <td>49.334041</td>\n",
       "      <td>quick</td>\n",
       "    </tr>\n",
       "    <tr>\n",
       "      <th>5107</th>\n",
       "      <td>0.000000</td>\n",
       "      <td>2.717959</td>\n",
       "      <td>0.612592</td>\n",
       "      <td>5.023837</td>\n",
       "      <td>-277.226347</td>\n",
       "      <td>-0.165429</td>\n",
       "      <td>-6.531163</td>\n",
       "      <td>-1.864061</td>\n",
       "      <td>41.074000</td>\n",
       "      <td>-3.659020</td>\n",
       "      <td>50.862755</td>\n",
       "      <td>49.174429</td>\n",
       "      <td>49.174429</td>\n",
       "      <td>quick</td>\n",
       "    </tr>\n",
       "    <tr>\n",
       "      <th>5108</th>\n",
       "      <td>0.000000</td>\n",
       "      <td>0.798000</td>\n",
       "      <td>0.429860</td>\n",
       "      <td>4.081580</td>\n",
       "      <td>-185.779100</td>\n",
       "      <td>-0.190300</td>\n",
       "      <td>-0.450240</td>\n",
       "      <td>0.147020</td>\n",
       "      <td>39.903100</td>\n",
       "      <td>-5.294860</td>\n",
       "      <td>50.946780</td>\n",
       "      <td>49.939620</td>\n",
       "      <td>49.939620</td>\n",
       "      <td>quick</td>\n",
       "    </tr>\n",
       "    <tr>\n",
       "      <th>5109</th>\n",
       "      <td>0.000000</td>\n",
       "      <td>0.540000</td>\n",
       "      <td>0.531735</td>\n",
       "      <td>2.055857</td>\n",
       "      <td>-60.091286</td>\n",
       "      <td>-0.217143</td>\n",
       "      <td>11.727367</td>\n",
       "      <td>7.722388</td>\n",
       "      <td>32.061184</td>\n",
       "      <td>-9.789469</td>\n",
       "      <td>47.615306</td>\n",
       "      <td>44.686735</td>\n",
       "      <td>44.686735</td>\n",
       "      <td>quick</td>\n",
       "    </tr>\n",
       "    <tr>\n",
       "      <th>5110</th>\n",
       "      <td>0.306122</td>\n",
       "      <td>0.180612</td>\n",
       "      <td>234.888673</td>\n",
       "      <td>0.238286</td>\n",
       "      <td>-29.171551</td>\n",
       "      <td>-0.564694</td>\n",
       "      <td>31.598735</td>\n",
       "      <td>1.062061</td>\n",
       "      <td>7.481367</td>\n",
       "      <td>-8.408571</td>\n",
       "      <td>41.676469</td>\n",
       "      <td>31.811490</td>\n",
       "      <td>31.811490</td>\n",
       "      <td>quick</td>\n",
       "    </tr>\n",
       "  </tbody>\n",
       "</table>\n",
       "<p>1231 rows × 14 columns</p>\n",
       "</div>"
      ],
      "text/plain": [
       "      hasWeightOnWheels  absoluteAltitude  magneticHeading  groundSpeed  \\\n",
       "223            1.000000          0.290000       113.827175     0.658775   \n",
       "224            1.000000          0.469429       113.765086     1.815429   \n",
       "225            1.000000          0.494865       113.580027     3.182162   \n",
       "226            1.000000          0.395128       113.414872     4.566308   \n",
       "227            1.000000          0.443846       114.143000     5.930205   \n",
       "...                 ...               ...              ...          ...   \n",
       "5106           0.000000          7.565918         1.265898     5.295592   \n",
       "5107           0.000000          2.717959         0.612592     5.023837   \n",
       "5108           0.000000          0.798000         0.429860     4.081580   \n",
       "5109           0.000000          0.540000         0.531735     2.055857   \n",
       "5110           0.306122          0.180612       234.888673     0.238286   \n",
       "\n",
       "      climbOrDescentRate  turnRate to degPerSec  cyclicPositionPitch  \\\n",
       "223             3.876150              -0.283800           -37.349850   \n",
       "224             7.047200              -0.186971           -44.221371   \n",
       "225             5.442784              -0.185595           -43.949514   \n",
       "226            -5.165410              -0.130692           -44.382846   \n",
       "227            -0.810744               0.231821           -42.757154   \n",
       "...                  ...                    ...                  ...   \n",
       "5106         -215.433408               0.021347            -5.731184   \n",
       "5107         -277.226347              -0.165429            -6.531163   \n",
       "5108         -185.779100              -0.190300            -0.450240   \n",
       "5109          -60.091286              -0.217143            11.727367   \n",
       "5110          -29.171551              -0.564694            31.598735   \n",
       "\n",
       "      cyclicPositionRoll  collectivePosition  antiTorquePedalPosition  \\\n",
       "223            -4.746850           34.020775                -0.331850   \n",
       "224            -2.720200           34.114886                -0.028457   \n",
       "225            -2.258081           33.822676                 0.581703   \n",
       "226            -2.766103           34.101051                 4.291051   \n",
       "227            -2.328923           33.948026                 7.572462   \n",
       "...                  ...                 ...                      ...   \n",
       "5106           -3.308449           41.096388                -3.571714   \n",
       "5107           -1.864061           41.074000                -3.659020   \n",
       "5108            0.147020           39.903100                -5.294860   \n",
       "5109            7.722388           32.061184                -9.789469   \n",
       "5110            1.062061            7.481367                -8.408571   \n",
       "\n",
       "      throttlePosition   e1Torque   e2Torque maneuver  \n",
       "223          44.952450  35.113250  35.113250  surface  \n",
       "224          46.346171  39.858829  39.858829  surface  \n",
       "225          44.717378  37.255216  37.255216  surface  \n",
       "226          43.760026  34.740718  34.740718  surface  \n",
       "227          43.522821  34.127026  34.127026  surface  \n",
       "...                ...        ...        ...      ...  \n",
       "5106         50.755918  49.334041  49.334041    quick  \n",
       "5107         50.862755  49.174429  49.174429    quick  \n",
       "5108         50.946780  49.939620  49.939620    quick  \n",
       "5109         47.615306  44.686735  44.686735    quick  \n",
       "5110         41.676469  31.811490  31.811490    quick  \n",
       "\n",
       "[1231 rows x 14 columns]"
      ]
     },
     "execution_count": 10,
     "metadata": {},
     "output_type": "execute_result"
    }
   ],
   "source": [
    "df.drop(['index', 'datetime'], axis=1)"
   ]
  },
  {
   "cell_type": "code",
   "execution_count": 23,
   "id": "0ed61ed6",
   "metadata": {},
   "outputs": [],
   "source": [
    "from sklearn.metrics import confusion_matrix\n",
    "from sklearn.model_selection import train_test_split\n",
    "from sklearn.metrics import accuracy_score\n",
    "from sklearn.model_selection import GridSearchCV\n",
    "from sklearn.svm import SVC\n",
    "from sklearn.preprocessing import StandardScaler"
   ]
  },
  {
   "cell_type": "code",
   "execution_count": 30,
   "id": "ee815724",
   "metadata": {},
   "outputs": [],
   "source": [
    "model_features = [ 'hasWeightOnWheels',\n",
    "            'absoluteAltitude',\n",
    "                 'magneticHeading', \n",
    "                 'groundSpeed', \n",
    "                 'climbOrDescentRate',\n",
    "                 'turnRate to degPerSec',\n",
    "                 'cyclicPositionPitch',\n",
    "                 'cyclicPositionRoll',\n",
    "                 'collectivePosition',\n",
    "                 'antiTorquePedalPosition',\n",
    "                 'throttlePosition',\n",
    "                 'e1Torque',\n",
    "                 'e2Torque']\n",
    "\n",
    "X = df[model_features]\n",
    "y = df['maneuver']"
   ]
  },
  {
   "cell_type": "code",
   "execution_count": 17,
   "id": "c5f41e34",
   "metadata": {},
   "outputs": [
    {
     "data": {
      "text/html": [
       "<div>\n",
       "<style scoped>\n",
       "    .dataframe tbody tr th:only-of-type {\n",
       "        vertical-align: middle;\n",
       "    }\n",
       "\n",
       "    .dataframe tbody tr th {\n",
       "        vertical-align: top;\n",
       "    }\n",
       "\n",
       "    .dataframe thead th {\n",
       "        text-align: right;\n",
       "    }\n",
       "</style>\n",
       "<table border=\"1\" class=\"dataframe\">\n",
       "  <thead>\n",
       "    <tr style=\"text-align: right;\">\n",
       "      <th></th>\n",
       "      <th>hover</th>\n",
       "      <th>quick</th>\n",
       "      <th>surface</th>\n",
       "    </tr>\n",
       "  </thead>\n",
       "  <tbody>\n",
       "    <tr>\n",
       "      <th>223</th>\n",
       "      <td>0</td>\n",
       "      <td>0</td>\n",
       "      <td>1</td>\n",
       "    </tr>\n",
       "    <tr>\n",
       "      <th>224</th>\n",
       "      <td>0</td>\n",
       "      <td>0</td>\n",
       "      <td>1</td>\n",
       "    </tr>\n",
       "    <tr>\n",
       "      <th>225</th>\n",
       "      <td>0</td>\n",
       "      <td>0</td>\n",
       "      <td>1</td>\n",
       "    </tr>\n",
       "    <tr>\n",
       "      <th>226</th>\n",
       "      <td>0</td>\n",
       "      <td>0</td>\n",
       "      <td>1</td>\n",
       "    </tr>\n",
       "    <tr>\n",
       "      <th>227</th>\n",
       "      <td>0</td>\n",
       "      <td>0</td>\n",
       "      <td>1</td>\n",
       "    </tr>\n",
       "    <tr>\n",
       "      <th>...</th>\n",
       "      <td>...</td>\n",
       "      <td>...</td>\n",
       "      <td>...</td>\n",
       "    </tr>\n",
       "    <tr>\n",
       "      <th>5106</th>\n",
       "      <td>0</td>\n",
       "      <td>1</td>\n",
       "      <td>0</td>\n",
       "    </tr>\n",
       "    <tr>\n",
       "      <th>5107</th>\n",
       "      <td>0</td>\n",
       "      <td>1</td>\n",
       "      <td>0</td>\n",
       "    </tr>\n",
       "    <tr>\n",
       "      <th>5108</th>\n",
       "      <td>0</td>\n",
       "      <td>1</td>\n",
       "      <td>0</td>\n",
       "    </tr>\n",
       "    <tr>\n",
       "      <th>5109</th>\n",
       "      <td>0</td>\n",
       "      <td>1</td>\n",
       "      <td>0</td>\n",
       "    </tr>\n",
       "    <tr>\n",
       "      <th>5110</th>\n",
       "      <td>0</td>\n",
       "      <td>1</td>\n",
       "      <td>0</td>\n",
       "    </tr>\n",
       "  </tbody>\n",
       "</table>\n",
       "<p>1231 rows × 3 columns</p>\n",
       "</div>"
      ],
      "text/plain": [
       "      hover  quick  surface\n",
       "223       0      0        1\n",
       "224       0      0        1\n",
       "225       0      0        1\n",
       "226       0      0        1\n",
       "227       0      0        1\n",
       "...     ...    ...      ...\n",
       "5106      0      1        0\n",
       "5107      0      1        0\n",
       "5108      0      1        0\n",
       "5109      0      1        0\n",
       "5110      0      1        0\n",
       "\n",
       "[1231 rows x 3 columns]"
      ]
     },
     "execution_count": 17,
     "metadata": {},
     "output_type": "execute_result"
    }
   ],
   "source": [
    "dummies"
   ]
  },
  {
   "cell_type": "code",
   "execution_count": 18,
   "id": "36c8b901",
   "metadata": {},
   "outputs": [
    {
     "data": {
      "text/plain": [
       "1231"
      ]
     },
     "execution_count": 18,
     "metadata": {},
     "output_type": "execute_result"
    }
   ],
   "source": [
    "len(X)"
   ]
  },
  {
   "cell_type": "code",
   "execution_count": 19,
   "id": "7df2dd09",
   "metadata": {},
   "outputs": [
    {
     "data": {
      "text/plain": [
       "1231"
      ]
     },
     "execution_count": 19,
     "metadata": {},
     "output_type": "execute_result"
    }
   ],
   "source": [
    "len(y)"
   ]
  },
  {
   "cell_type": "code",
   "execution_count": 31,
   "id": "17697245",
   "metadata": {},
   "outputs": [
    {
     "name": "stdout",
     "output_type": "stream",
     "text": [
      "Accuracy of SVM classifier on training set: 0.98\n",
      "Accuracy of SVM classifier on test set: 0.98\n"
     ]
    }
   ],
   "source": [
    "#Modeling SVM  wants a 1-d array for y\n",
    "X_train, X_test, y_train, y_test = train_test_split(X, y, test_size=0.33, random_state=516516)\n",
    "\n",
    "scaler = StandardScaler()\n",
    "X_train = scaler.fit_transform(X_train)\n",
    "\n",
    "# Save scaler transformation to file\n",
    "# scaler_filename = 'D:/git/rotorcraft-project/david/scaler_trained_model.pkl'\n",
    "# scaler_filename = 'C:/Users/david/git-repo/rotorcraft-project/david/scaler_trained_model.pkl'\n",
    "# pickle.dump(scaler, open(scaler_filename, 'wb'))\n",
    "\n",
    "X_test = scaler.transform(X_test)\n",
    "\n",
    "svm = SVC()\n",
    "svm.fit(X_train, y_train)\n",
    "print('Accuracy of SVM classifier on training set: {:.2f}'\n",
    "     .format(svm.score(X_train, y_train)))\n",
    "print('Accuracy of SVM classifier on test set: {:.2f}'\n",
    "     .format(svm.score(X_test, y_test)))"
   ]
  },
  {
   "cell_type": "code",
   "execution_count": 32,
   "id": "340f755c",
   "metadata": {},
   "outputs": [],
   "source": [
    "#Decision tree\n",
    "\n",
    "X_train, X_test, y_train, y_test = train_test_split(X, y, test_size=0.3, random_state=1121218)\n",
    "\n",
    "from sklearn.tree import DecisionTreeClassifier\n",
    "model = DecisionTreeClassifier()\n",
    "model.fit(X_train, y_train)\n",
    "y_pred = model.predict(X_test)"
   ]
  },
  {
   "cell_type": "code",
   "execution_count": 40,
   "id": "c6ff0f8d",
   "metadata": {},
   "outputs": [
    {
     "data": {
      "image/png": "[encoded data removed]",
      "text/plain": [
       "<Figure size 800x500 with 2 Axes>"
      ]
     },
     "metadata": {},
     "output_type": "display_data"
    }
   ],
   "source": [
    "from sklearn.metrics import ConfusionMatrixDisplay, confusion_matrix\n",
    "fig, ax = plt.subplots(figsize=(8, 5))\n",
    "cmp = ConfusionMatrixDisplay(confusion_matrix(y_test, y_pred),display_labels=[\"class_1\", \"class_2\", \"class_3\"],)\n",
    "cmp.plot(ax=ax)\n",
    "plt.show()"
   ]
  },
  {
   "cell_type": "code",
   "execution_count": null,
   "id": "7e340fdd",
   "metadata": {},
   "outputs": [],
   "source": []
  },
  {
   "cell_type": "code",
   "execution_count": null,
   "id": "86359300",
   "metadata": {},
   "outputs": [],
   "source": []
  },
  {
   "cell_type": "code",
   "execution_count": 34,
   "id": "1709eaed",
   "metadata": {},
   "outputs": [
    {
     "name": "stdout",
     "output_type": "stream",
     "text": [
      "0.9105691056910569\n",
      "0.9243243243243243\n"
     ]
    },
    {
     "name": "stderr",
     "output_type": "stream",
     "text": [
      "C:\\Users\\twolf\\anaconda3\\envs\\valkyrie\\lib\\site-packages\\sklearn\\linear_model\\_logistic.py:444: ConvergenceWarning: lbfgs failed to converge (status=1):\n",
      "STOP: TOTAL NO. of ITERATIONS REACHED LIMIT.\n",
      "\n",
      "Increase the number of iterations (max_iter) or scale the data as shown in:\n",
      "    https://scikit-learn.org/stable/modules/preprocessing.html\n",
      "Please also refer to the documentation for alternative solver options:\n",
      "    https://scikit-learn.org/stable/modules/linear_model.html#logistic-regression\n",
      "  n_iter_i = _check_optimize_result(\n"
     ]
    }
   ],
   "source": [
    "from sklearn.linear_model import LogisticRegression\n",
    "from sklearn.metrics import accuracy_score, confusion_matrix\n",
    "\n",
    "logreg = LogisticRegression(random_state=42)\n",
    "logreg.fit(X_train, y_train)\n",
    "\n",
    "y_predict_train_logreg = logreg.predict(X_train)\n",
    "y_predict_test_logreg = logreg.predict(X_test)\n",
    "\n",
    "train_accuracy_score_logreg = accuracy_score(y_train, y_predict_train_logreg)\n",
    "test_accuracy_score_logreg = accuracy_score(y_test, y_predict_test_logreg)\n",
    "\n",
    "print(train_accuracy_score_logreg)\n",
    "print(test_accuracy_score_logreg)"
   ]
  },
  {
   "cell_type": "code",
   "execution_count": 36,
   "id": "4c1d3331",
   "metadata": {},
   "outputs": [],
   "source": [
    "def draw_confusion_matrix(cm):\n",
    "    plt.figure(figsize=(12,8))\n",
    "    sns.heatmap(cm,annot=True,fmt=\"d\", center=0, cmap='autumn') \n",
    "    plt.title(\"Confusion Matrix\")\n",
    "    plt.ylabel('True label')\n",
    "    plt.xlabel('Predicted label')\n",
    "    plt.show()"
   ]
  },
  {
   "cell_type": "code",
   "execution_count": 37,
   "id": "6ec7dfa3",
   "metadata": {},
   "outputs": [
    {
     "data": {
      "image/png": "[encoded data removed]",
      "text/plain": [
       "<Figure size 1200x800 with 2 Axes>"
      ]
     },
     "metadata": {},
     "output_type": "display_data"
    }
   ],
   "source": [
    "cm_logreg = confusion_matrix(y_test,y_predict_test_logreg)\n",
    "draw_confusion_matrix(cm_logreg)"
   ]
  },
  {
   "cell_type": "code",
   "execution_count": 42,
   "id": "c410b0f2",
   "metadata": {},
   "outputs": [
    {
     "name": "stdout",
     "output_type": "stream",
     "text": [
      "              precision    recall  f1-score   support\n",
      "\n",
      "       hover       0.97      1.00      0.98       209\n",
      "       quick       1.00      0.92      0.96        38\n",
      "     surface       0.99      0.96      0.98       123\n",
      "\n",
      "    accuracy                           0.98       370\n",
      "   macro avg       0.99      0.96      0.97       370\n",
      "weighted avg       0.98      0.98      0.98       370\n",
      "\n"
     ]
    }
   ],
   "source": [
    "from sklearn.metrics import classification_report\n",
    "print(classification_report(y_test, y_pred))\n",
    "\n"
   ]
  },
  {
   "cell_type": "code",
   "execution_count": 38,
   "id": "2a2f5eaa",
   "metadata": {},
   "outputs": [
    {
     "data": {
      "text/plain": [
       "hover      663\n",
       "surface    411\n",
       "quick      157\n",
       "Name: maneuver, dtype: int64"
      ]
     },
     "execution_count": 38,
     "metadata": {},
     "output_type": "execute_result"
    }
   ],
   "source": [
    "df['maneuver'].value_counts()"
   ]
  },
  {
   "cell_type": "code",
   "execution_count": null,
   "id": "a5e6f12e",
   "metadata": {},
   "outputs": [],
   "source": []
  }
 ],
 "metadata": {
  "kernelspec": {
   "display_name": "Python 3 (ipykernel)",
   "language": "python",
   "name": "python3"
  },
  "language_info": {
   "codemirror_mode": {
    "name": "ipython",
    "version": 3
   },
   "file_extension": ".py",
   "mimetype": "text/x-python",
   "name": "python",
   "nbconvert_exporter": "python",
   "pygments_lexer": "ipython3",
   "version": "3.9.12"
  }
 },
 "nbformat": 4,
 "nbformat_minor": 5
}
