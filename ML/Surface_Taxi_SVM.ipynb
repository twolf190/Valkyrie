{
 "cells": [
  {
   "cell_type": "code",
   "execution_count": 1,
   "id": "9e32357c",
   "metadata": {},
   "outputs": [],
   "source": [
    "import pandas as pd\n",
    "import matplotlib.pyplot as plt\n",
    "import seaborn as sns\n",
    "import os\n",
    "import numpy as np"
   ]
  },
  {
   "cell_type": "code",
   "execution_count": 2,
   "id": "4a35a697",
   "metadata": {},
   "outputs": [],
   "source": [
    "def df_transformation(df):\n",
    "    df_temp = df[features]\n",
    "    df_temp['datetime'] = df_temp.datetime.dt.strftime('%Y-%m-%d %H:%M:%S').astype('datetime64[ns]')\n",
    "\n",
    "    output = df_temp.groupby(by=[\"datetime\"], dropna=False).mean().reset_index()\n",
    "    \n",
    "    return output "
   ]
  },
  {
   "cell_type": "code",
   "execution_count": 3,
   "id": "f0d64658",
   "metadata": {},
   "outputs": [],
   "source": [
    "# Create a custom function for data transformation\n",
    "# May as well import all of these features into the initial dataframe, you can cut it down..\n",
    "# ..when you do the X,y train/test split\n",
    "features = ['datetime',\n",
    "          'latitude',\n",
    "          'longitude',\n",
    "          'absoluteAltitude', \n",
    "          'magneticHeading',\n",
    "          'trueHeading', \n",
    "          'groundSpeed', \n",
    "          'trueAirspeed',\n",
    "          'pitch', \n",
    "          'roll',\n",
    "          'yaw',\n",
    "          'angleOfAttack',\n",
    "          'flightPathAngle',\n",
    "          'verticalFlightPathAngle',\n",
    "          'horizontalFlightPathAngle',\n",
    "          'rollAcceleration',\n",
    "          'pitchAcceleration',\n",
    "          'yawAcceleration',\n",
    "          'e1N1ng',\n",
    "          'e2N1ng',\n",
    "          'e1N2nf',\n",
    "          'e2N2nf',\n",
    "          'mainRotorRpm',\n",
    "          'tailRotorRpm',\n",
    "          'mainRotorTorque',\n",
    "          'e1Itt',\n",
    "          'e2Itt',\n",
    "          'mainRotorInducedInflow',\n",
    "          'flightDirectorPitch',\n",
    "          'flightDirectorRoll',\n",
    "          'climbOrDescentRate', \n",
    "          'hasWeightOnWheels',\n",
    "          'turnRate to degPerSec',\n",
    "          'cyclicPositionPitch',\n",
    "          'cyclicPositionRoll',\n",
    "          'collectivePosition',\n",
    "          'antiTorquePedalPosition',\n",
    "          'throttlePosition',\n",
    "          'e1Torque',\n",
    "          'e2Torque',\n",
    "]\n"
   ]
  },
  {
   "cell_type": "code",
   "execution_count": 4,
   "id": "347c0f85",
   "metadata": {},
   "outputs": [
    {
     "name": "stderr",
     "output_type": "stream",
     "text": [
      "C:\\Users\\twolf\\AppData\\Local\\Temp\\ipykernel_14548\\17026926.py:3: SettingWithCopyWarning: \n",
      "A value is trying to be set on a copy of a slice from a DataFrame.\n",
      "Try using .loc[row_indexer,col_indexer] = value instead\n",
      "\n",
      "See the caveats in the documentation: https://pandas.pydata.org/pandas-docs/stable/user_guide/indexing.html#returning-a-view-versus-a-copy\n",
      "  df_temp['datetime'] = df_temp.datetime.dt.strftime('%Y-%m-%d %H:%M:%S').astype('datetime64[ns]')\n",
      "C:\\Users\\twolf\\AppData\\Local\\Temp\\ipykernel_14548\\17026926.py:3: SettingWithCopyWarning: \n",
      "A value is trying to be set on a copy of a slice from a DataFrame.\n",
      "Try using .loc[row_indexer,col_indexer] = value instead\n",
      "\n",
      "See the caveats in the documentation: https://pandas.pydata.org/pandas-docs/stable/user_guide/indexing.html#returning-a-view-versus-a-copy\n",
      "  df_temp['datetime'] = df_temp.datetime.dt.strftime('%Y-%m-%d %H:%M:%S').astype('datetime64[ns]')\n",
      "C:\\Users\\twolf\\AppData\\Local\\Temp\\ipykernel_14548\\17026926.py:3: SettingWithCopyWarning: \n",
      "A value is trying to be set on a copy of a slice from a DataFrame.\n",
      "Try using .loc[row_indexer,col_indexer] = value instead\n",
      "\n",
      "See the caveats in the documentation: https://pandas.pydata.org/pandas-docs/stable/user_guide/indexing.html#returning-a-view-versus-a-copy\n",
      "  df_temp['datetime'] = df_temp.datetime.dt.strftime('%Y-%m-%d %H:%M:%S').astype('datetime64[ns]')\n",
      "C:\\Users\\twolf\\AppData\\Local\\Temp\\ipykernel_14548\\17026926.py:3: SettingWithCopyWarning: \n",
      "A value is trying to be set on a copy of a slice from a DataFrame.\n",
      "Try using .loc[row_indexer,col_indexer] = value instead\n",
      "\n",
      "See the caveats in the documentation: https://pandas.pydata.org/pandas-docs/stable/user_guide/indexing.html#returning-a-view-versus-a-copy\n",
      "  df_temp['datetime'] = df_temp.datetime.dt.strftime('%Y-%m-%d %H:%M:%S').astype('datetime64[ns]')\n",
      "C:\\Users\\twolf\\AppData\\Local\\Temp\\ipykernel_14548\\17026926.py:3: SettingWithCopyWarning: \n",
      "A value is trying to be set on a copy of a slice from a DataFrame.\n",
      "Try using .loc[row_indexer,col_indexer] = value instead\n",
      "\n",
      "See the caveats in the documentation: https://pandas.pydata.org/pandas-docs/stable/user_guide/indexing.html#returning-a-view-versus-a-copy\n",
      "  df_temp['datetime'] = df_temp.datetime.dt.strftime('%Y-%m-%d %H:%M:%S').astype('datetime64[ns]')\n",
      "C:\\Users\\twolf\\AppData\\Local\\Temp\\ipykernel_14548\\17026926.py:3: SettingWithCopyWarning: \n",
      "A value is trying to be set on a copy of a slice from a DataFrame.\n",
      "Try using .loc[row_indexer,col_indexer] = value instead\n",
      "\n",
      "See the caveats in the documentation: https://pandas.pydata.org/pandas-docs/stable/user_guide/indexing.html#returning-a-view-versus-a-copy\n",
      "  df_temp['datetime'] = df_temp.datetime.dt.strftime('%Y-%m-%d %H:%M:%S').astype('datetime64[ns]')\n"
     ]
    }
   ],
   "source": [
    "# reading files from 9/19 dataset\n",
    "df1 = pd.read_csv('SimData_2022.09.19_16.00.36.csv.roar.csv',\n",
    "                parse_dates = {'datetime': ['date', 'time']},\n",
    "                low_memory=False)\n",
    "df1 = df_transformation(df1)\n",
    "\n",
    "\n",
    "df2 = pd.read_csv('SimData_2022.09.19_16.38.20.csv.roar.csv',\n",
    "                parse_dates = {'datetime': ['date', 'time']},\n",
    "                low_memory=False)\n",
    "df2 = df_transformation(df2)\n",
    "\n",
    "\n",
    "df3 = pd.read_csv('SimData_2022.09.19_17.51.37.csv.roar.csv',\n",
    "                parse_dates = {'datetime': ['date', 'time']},\n",
    "                low_memory=False)\n",
    "df3 = df_transformation(df3)\n",
    "\n",
    "\n",
    "\n",
    "# reading files from 9/20 dataset\n",
    "first_file = pd.read_csv('SimData_2022.09.20_16.22.07.csv.roar.csv',\n",
    "                parse_dates = {'datetime': ['date', 'time']},\n",
    "                low_memory=False)\n",
    "first_file = df_transformation(first_file)\n",
    "\n",
    "\n",
    "second_file = pd.read_csv('SimData_2022.09.20_16.28.31.csv.roar.csv',\n",
    "                parse_dates = {'datetime': ['date', 'time']},\n",
    "                low_memory=False)\n",
    "second_file = df_transformation(second_file)\n",
    "\n",
    "\n",
    "# reading file from 9/22 dataset\n",
    "df4 = pd.read_csv('SimData_2022.09.22_17.11.56.csv.roar.csv',\n",
    "                parse_dates = {'datetime': ['date', 'time']},\n",
    "                low_memory=False)\n",
    "df4 = df_transformation(df4)"
   ]
  },
  {
   "cell_type": "code",
   "execution_count": 5,
   "id": "7b09d503",
   "metadata": {},
   "outputs": [],
   "source": [
    "#Combine files\n",
    "df = pd.concat([first_file,second_file, df1, df2, df3, df4]).reset_index()"
   ]
  },
  {
   "cell_type": "markdown",
   "id": "fb8486ff",
   "metadata": {},
   "source": [
    "# Dataframe for Surface Taxi Maneuver"
   ]
  },
  {
   "cell_type": "code",
   "execution_count": 15,
   "id": "00d8225d",
   "metadata": {},
   "outputs": [],
   "source": [
    "df_s = df.copy()\n",
    "df_s['surface'] = 0\n",
    "\n",
    "df_s.loc[(df_s['datetime'].between('2022-09-19 21:53:50' , '2022-09-19 21:55:55' , inclusive='both')),['surface']] = 1\n",
    "df_s.loc[(df_s['datetime'].between('2022-09-19 22:04:00' , '2022-09-19 22:06:39' , inclusive='both')),['surface']] = 1\n",
    "df_s.loc[(df_s['datetime'].between('2022-09-20 20:25:50' , '2022-09-20 20:27:54' , inclusive='both')),['surface']] = 1\n",
    "df_s.loc[(df_s['datetime'].between('2022-09-22 21:16:37' , '2022-09-22 21:19:56' , inclusive='both')),['surface']] = 1\n",
    "df_s.loc[(df_s['datetime'].between('2022-09-22 21:43:16' , '2022-09-22 21:43:41' , inclusive='both')),['surface']] = 1"
   ]
  },
  {
   "cell_type": "code",
   "execution_count": 16,
   "id": "a1cebf52",
   "metadata": {},
   "outputs": [
    {
     "data": {
      "text/plain": [
       "0    6583\n",
       "1     637\n",
       "Name: surface, dtype: int64"
      ]
     },
     "execution_count": 16,
     "metadata": {},
     "output_type": "execute_result"
    }
   ],
   "source": [
    "df_s['surface'].value_counts()"
   ]
  },
  {
   "cell_type": "markdown",
   "id": "f0464f81",
   "metadata": {},
   "source": [
    "# Edit DF for ML, Class Balance, Select features"
   ]
  },
  {
   "cell_type": "code",
   "execution_count": 17,
   "id": "abe706b0",
   "metadata": {},
   "outputs": [],
   "source": [
    "#Edit the model features to whatever you want to include in your model\n",
    "all_features = [ 'hasWeightOnWheels',\n",
    "            'absoluteAltitude',\n",
    "                 'magneticHeading', \n",
    "                 'groundSpeed', \n",
    "                 'climbOrDescentRate',\n",
    "                 'turnRate to degPerSec',\n",
    "                 'cyclicPositionPitch',\n",
    "                 'cyclicPositionRoll',\n",
    "                 'collectivePosition',\n",
    "                 'antiTorquePedalPosition',\n",
    "                 'throttlePosition',\n",
    "                 'e1Torque',\n",
    "                 'e2Torque', 'surface']\n",
    "\n",
    "df_s = df_s[all_features]"
   ]
  },
  {
   "cell_type": "code",
   "execution_count": 18,
   "id": "09a7287f",
   "metadata": {},
   "outputs": [],
   "source": [
    "df1 = df_s[(df_s['surface'] == 0)].sample(n=637, replace=False, random_state=123458)\n",
    "df2 = pd.concat([df_s[(df_s['surface'] == 1)], df1], ignore_index = True)\n",
    "df2 = df2.sample(frac=1)"
   ]
  },
  {
   "cell_type": "code",
   "execution_count": 19,
   "id": "aec12635",
   "metadata": {},
   "outputs": [
    {
     "data": {
      "text/plain": [
       "1    637\n",
       "0    637\n",
       "Name: surface, dtype: int64"
      ]
     },
     "execution_count": 19,
     "metadata": {},
     "output_type": "execute_result"
    }
   ],
   "source": [
    "df2['surface'].value_counts()"
   ]
  },
  {
   "cell_type": "code",
   "execution_count": 20,
   "id": "62909df0",
   "metadata": {},
   "outputs": [
    {
     "data": {
      "text/html": [
       "<div>\n",
       "<style scoped>\n",
       "    .dataframe tbody tr th:only-of-type {\n",
       "        vertical-align: middle;\n",
       "    }\n",
       "\n",
       "    .dataframe tbody tr th {\n",
       "        vertical-align: top;\n",
       "    }\n",
       "\n",
       "    .dataframe thead th {\n",
       "        text-align: right;\n",
       "    }\n",
       "</style>\n",
       "<table border=\"1\" class=\"dataframe\">\n",
       "  <thead>\n",
       "    <tr style=\"text-align: right;\">\n",
       "      <th></th>\n",
       "      <th>hasWeightOnWheels</th>\n",
       "      <th>absoluteAltitude</th>\n",
       "      <th>magneticHeading</th>\n",
       "      <th>groundSpeed</th>\n",
       "      <th>climbOrDescentRate</th>\n",
       "      <th>turnRate to degPerSec</th>\n",
       "      <th>cyclicPositionPitch</th>\n",
       "      <th>cyclicPositionRoll</th>\n",
       "      <th>collectivePosition</th>\n",
       "      <th>antiTorquePedalPosition</th>\n",
       "      <th>throttlePosition</th>\n",
       "      <th>e1Torque</th>\n",
       "      <th>e2Torque</th>\n",
       "      <th>surface</th>\n",
       "    </tr>\n",
       "  </thead>\n",
       "  <tbody>\n",
       "    <tr>\n",
       "      <th>461</th>\n",
       "      <td>1.0</td>\n",
       "      <td>0.303667</td>\n",
       "      <td>24.975600</td>\n",
       "      <td>18.606233</td>\n",
       "      <td>-0.062233</td>\n",
       "      <td>0.042933</td>\n",
       "      <td>-6.862600</td>\n",
       "      <td>-2.696867</td>\n",
       "      <td>36.374700</td>\n",
       "      <td>-2.333767</td>\n",
       "      <td>47.015300</td>\n",
       "      <td>41.160300</td>\n",
       "      <td>41.160300</td>\n",
       "      <td>1</td>\n",
       "    </tr>\n",
       "    <tr>\n",
       "      <th>1050</th>\n",
       "      <td>0.0</td>\n",
       "      <td>131.230488</td>\n",
       "      <td>352.940439</td>\n",
       "      <td>12.785244</td>\n",
       "      <td>54.006341</td>\n",
       "      <td>0.385951</td>\n",
       "      <td>-11.055171</td>\n",
       "      <td>-5.412220</td>\n",
       "      <td>45.526951</td>\n",
       "      <td>-8.062073</td>\n",
       "      <td>55.116000</td>\n",
       "      <td>58.944049</td>\n",
       "      <td>58.944049</td>\n",
       "      <td>0</td>\n",
       "    </tr>\n",
       "    <tr>\n",
       "      <th>707</th>\n",
       "      <td>1.0</td>\n",
       "      <td>0.043714</td>\n",
       "      <td>24.463829</td>\n",
       "      <td>0.213371</td>\n",
       "      <td>0.003000</td>\n",
       "      <td>-0.239771</td>\n",
       "      <td>0.282514</td>\n",
       "      <td>0.014457</td>\n",
       "      <td>3.615943</td>\n",
       "      <td>-20.803200</td>\n",
       "      <td>46.329314</td>\n",
       "      <td>40.013743</td>\n",
       "      <td>40.013743</td>\n",
       "      <td>0</td>\n",
       "    </tr>\n",
       "    <tr>\n",
       "      <th>607</th>\n",
       "      <td>1.0</td>\n",
       "      <td>0.314737</td>\n",
       "      <td>281.987105</td>\n",
       "      <td>0.740658</td>\n",
       "      <td>-1.757395</td>\n",
       "      <td>0.627368</td>\n",
       "      <td>-32.803816</td>\n",
       "      <td>2.915105</td>\n",
       "      <td>26.237132</td>\n",
       "      <td>-1.479289</td>\n",
       "      <td>39.740158</td>\n",
       "      <td>27.395842</td>\n",
       "      <td>27.395842</td>\n",
       "      <td>1</td>\n",
       "    </tr>\n",
       "    <tr>\n",
       "      <th>973</th>\n",
       "      <td>1.0</td>\n",
       "      <td>0.050000</td>\n",
       "      <td>236.631953</td>\n",
       "      <td>0.000000</td>\n",
       "      <td>0.000000</td>\n",
       "      <td>0.001488</td>\n",
       "      <td>-16.917419</td>\n",
       "      <td>2.341023</td>\n",
       "      <td>6.156000</td>\n",
       "      <td>24.391791</td>\n",
       "      <td>43.266721</td>\n",
       "      <td>33.740535</td>\n",
       "      <td>33.740535</td>\n",
       "      <td>0</td>\n",
       "    </tr>\n",
       "  </tbody>\n",
       "</table>\n",
       "</div>"
      ],
      "text/plain": [
       "      hasWeightOnWheels  absoluteAltitude  magneticHeading  groundSpeed  \\\n",
       "461                 1.0          0.303667        24.975600    18.606233   \n",
       "1050                0.0        131.230488       352.940439    12.785244   \n",
       "707                 1.0          0.043714        24.463829     0.213371   \n",
       "607                 1.0          0.314737       281.987105     0.740658   \n",
       "973                 1.0          0.050000       236.631953     0.000000   \n",
       "\n",
       "      climbOrDescentRate  turnRate to degPerSec  cyclicPositionPitch  \\\n",
       "461            -0.062233               0.042933            -6.862600   \n",
       "1050           54.006341               0.385951           -11.055171   \n",
       "707             0.003000              -0.239771             0.282514   \n",
       "607            -1.757395               0.627368           -32.803816   \n",
       "973             0.000000               0.001488           -16.917419   \n",
       "\n",
       "      cyclicPositionRoll  collectivePosition  antiTorquePedalPosition  \\\n",
       "461            -2.696867           36.374700                -2.333767   \n",
       "1050           -5.412220           45.526951                -8.062073   \n",
       "707             0.014457            3.615943               -20.803200   \n",
       "607             2.915105           26.237132                -1.479289   \n",
       "973             2.341023            6.156000                24.391791   \n",
       "\n",
       "      throttlePosition   e1Torque   e2Torque  surface  \n",
       "461          47.015300  41.160300  41.160300        1  \n",
       "1050         55.116000  58.944049  58.944049        0  \n",
       "707          46.329314  40.013743  40.013743        0  \n",
       "607          39.740158  27.395842  27.395842        1  \n",
       "973          43.266721  33.740535  33.740535        0  "
      ]
     },
     "execution_count": 20,
     "metadata": {},
     "output_type": "execute_result"
    }
   ],
   "source": [
    "df2.head()"
   ]
  },
  {
   "cell_type": "markdown",
   "id": "53c5d243",
   "metadata": {},
   "source": [
    "# SVM Surface Taxi"
   ]
  },
  {
   "cell_type": "code",
   "execution_count": 21,
   "id": "5882f597",
   "metadata": {},
   "outputs": [],
   "source": [
    "from sklearn.metrics import confusion_matrix\n",
    "from sklearn.model_selection import train_test_split\n",
    "from sklearn.metrics import accuracy_score, ConfusionMatrixDisplay, confusion_matrix, classification_report\n",
    "from sklearn.model_selection import GridSearchCV\n",
    "from sklearn.svm import SVC\n",
    "from sklearn.preprocessing import StandardScaler, MinMaxScaler, RobustScaler\n",
    "from sklearn.utils import resample"
   ]
  },
  {
   "cell_type": "code",
   "execution_count": 22,
   "id": "90d3b302",
   "metadata": {},
   "outputs": [],
   "source": [
    "#Edit the model features to whatever you want to include in your model\n",
    "model_features = [ 'hasWeightOnWheels',\n",
    "            'absoluteAltitude',\n",
    "                 'magneticHeading', \n",
    "                 'groundSpeed', \n",
    "                 'climbOrDescentRate',\n",
    "                 'turnRate to degPerSec',\n",
    "                 'cyclicPositionPitch',\n",
    "                 'cyclicPositionRoll',\n",
    "                 'collectivePosition',\n",
    "                 'antiTorquePedalPosition',\n",
    "                 'throttlePosition',\n",
    "                 'e1Torque',\n",
    "                 'e2Torque']\n",
    "\n",
    "#X is predictor features, y is classifier \n",
    "X = df2[model_features]\n",
    "y = df2['surface']\n",
    "X_train, X_test, y_train, y_test = train_test_split(X, y, test_size=0.33, random_state=516516)"
   ]
  },
  {
   "cell_type": "code",
   "execution_count": 23,
   "id": "753d8db2",
   "metadata": {},
   "outputs": [
    {
     "name": "stdout",
     "output_type": "stream",
     "text": [
      "Accuracy of SVM classifier on training set: 0.97\n",
      "Accuracy of SVM classifier on test set: 0.9525\n"
     ]
    }
   ],
   "source": [
    "#SVC\n",
    "scaler = MinMaxScaler()\n",
    "X_train = scaler.fit_transform(X_train)\n",
    "X_test = scaler.transform(X_test)\n",
    "\n",
    "\n",
    "svm = SVC()\n",
    "\n",
    "\n",
    "svm.fit(X_train, y_train)\n",
    "print('Accuracy of SVM classifier on training set: {:.2f}'\n",
    "     .format(svm.score(X_train, y_train)))\n",
    "print('Accuracy of SVM classifier on test set: {:.4f}'\n",
    "     .format(svm.score(X_test, y_test)))"
   ]
  },
  {
   "cell_type": "code",
   "execution_count": 24,
   "id": "6d7b3852",
   "metadata": {},
   "outputs": [],
   "source": [
    "y_pred=svm.predict(X_test)"
   ]
  },
  {
   "cell_type": "code",
   "execution_count": 26,
   "id": "d7770502",
   "metadata": {},
   "outputs": [
    {
     "data": {
      "image/png": "[encoded data removed]",
      "text/plain": [
       "<Figure size 800x500 with 2 Axes>"
      ]
     },
     "metadata": {},
     "output_type": "display_data"
    }
   ],
   "source": [
    "fig, ax = plt.subplots(figsize=(8, 5))\n",
    "cmp = ConfusionMatrixDisplay(confusion_matrix(y_test, y_pred), display_labels = ['Not_Surface_Taxi', 'Surface_Taxi'])\n",
    "cmp.plot(ax=ax)\n",
    "plt.show()"
   ]
  },
  {
   "cell_type": "code",
   "execution_count": 27,
   "id": "ec52afd6",
   "metadata": {},
   "outputs": [
    {
     "data": {
      "text/plain": [
       "0    213\n",
       "1    208\n",
       "Name: surface, dtype: int64"
      ]
     },
     "execution_count": 27,
     "metadata": {},
     "output_type": "execute_result"
    }
   ],
   "source": [
    "#Verify display labels are right\n",
    "y_test.value_counts()"
   ]
  },
  {
   "cell_type": "code",
   "execution_count": null,
   "id": "6358f78d",
   "metadata": {},
   "outputs": [],
   "source": []
  },
  {
   "cell_type": "code",
   "execution_count": 28,
   "id": "9a46351d",
   "metadata": {},
   "outputs": [],
   "source": [
    "#Edit the model features to whatever you want to include in your model\n",
    "model_features = [ 'hasWeightOnWheels',\n",
    "            'absoluteAltitude',\n",
    "                 'magneticHeading', \n",
    "                 'groundSpeed', \n",
    "                 'climbOrDescentRate',\n",
    "                 'turnRate to degPerSec',\n",
    "                 'cyclicPositionPitch',\n",
    "                 'cyclicPositionRoll',\n",
    "                 'collectivePosition',\n",
    "                 'antiTorquePedalPosition',\n",
    "                 'throttlePosition',\n",
    "                 'e1Torque',\n",
    "                 'e2Torque']\n",
    "\n",
    "#X is predictor features, y is classifier \n",
    "X = df2[model_features]\n",
    "y = df2['surface']\n",
    "X_train, X_test, y_train, y_test = train_test_split(X, y, test_size=0.33, random_state=516516)"
   ]
  },
  {
   "cell_type": "code",
   "execution_count": 29,
   "id": "818a7f60",
   "metadata": {},
   "outputs": [
    {
     "name": "stdout",
     "output_type": "stream",
     "text": [
      "Accuracy of SVM classifier on training set: 0.98\n",
      "Accuracy of SVM classifier on test set: 0.9620\n"
     ]
    }
   ],
   "source": [
    "#SVM standard \n",
    "scaler = StandardScaler()\n",
    "X_train = scaler.fit_transform(X_train)\n",
    "X_test = scaler.transform(X_test)\n",
    "\n",
    "svm = SVC()\n",
    "#y_pred=svm.predict(X_test)\n",
    "\n",
    "svm.fit(X_train, y_train)\n",
    "print('Accuracy of SVM classifier on training set: {:.2f}'\n",
    "     .format(svm.score(X_train, y_train)))\n",
    "print('Accuracy of SVM classifier on test set: {:.4f}'\n",
    "     .format(svm.score(X_test, y_test)))\n"
   ]
  },
  {
   "cell_type": "code",
   "execution_count": 30,
   "id": "22861f53",
   "metadata": {},
   "outputs": [],
   "source": [
    "y_pred=svm.predict(X_test)"
   ]
  },
  {
   "cell_type": "code",
   "execution_count": 31,
   "id": "3d13c507",
   "metadata": {},
   "outputs": [
    {
     "data": {
      "image/png": "[encoded data removed]",
      "text/plain": [
       "<Figure size 800x500 with 2 Axes>"
      ]
     },
     "metadata": {},
     "output_type": "display_data"
    }
   ],
   "source": [
    "fig, ax = plt.subplots(figsize=(8, 5))\n",
    "cmp = ConfusionMatrixDisplay(confusion_matrix(y_test, y_pred), display_labels = ['Not_Surface_Taxi', 'Surface_Taxi'])\n",
    "cmp.plot(ax=ax)\n",
    "plt.show()"
   ]
  },
  {
   "cell_type": "code",
   "execution_count": null,
   "id": "7e02e797",
   "metadata": {},
   "outputs": [],
   "source": []
  },
  {
   "cell_type": "code",
   "execution_count": 32,
   "id": "1c352c8b",
   "metadata": {},
   "outputs": [],
   "source": [
    "#Edit the model features to whatever you want to include in your model\n",
    "model_features = [ 'hasWeightOnWheels',\n",
    "            'absoluteAltitude',\n",
    "                 'magneticHeading', \n",
    "                 'groundSpeed', \n",
    "                 'climbOrDescentRate',\n",
    "                 'turnRate to degPerSec',\n",
    "                 'cyclicPositionPitch',\n",
    "                 'cyclicPositionRoll',\n",
    "                 'collectivePosition',\n",
    "                 'antiTorquePedalPosition',\n",
    "                 'throttlePosition',\n",
    "                 'e1Torque',\n",
    "                 'e2Torque']\n",
    "\n",
    "#X is predictor features, y is classifier \n",
    "X = df2[model_features]\n",
    "y = df2['surface']\n",
    "X_train, X_test, y_train, y_test = train_test_split(X, y, test_size=0.33, random_state=516516)"
   ]
  },
  {
   "cell_type": "code",
   "execution_count": 33,
   "id": "7d8b5383",
   "metadata": {},
   "outputs": [
    {
     "name": "stdout",
     "output_type": "stream",
     "text": [
      "Accuracy of SVM classifier on training set: 0.81\n",
      "Accuracy of SVM classifier on test set: 0.7601\n"
     ]
    }
   ],
   "source": [
    "#SVM standard \n",
    "scaler = RobustScaler()\n",
    "X_train = scaler.fit_transform(X_train)\n",
    "X_test = scaler.transform(X_test)\n",
    "\n",
    "svm = SVC()\n",
    "#y_pred=svm.predict(X_test)\n",
    "\n",
    "svm.fit(X_train, y_train)\n",
    "print('Accuracy of SVM classifier on training set: {:.2f}'\n",
    "     .format(svm.score(X_train, y_train)))\n",
    "print('Accuracy of SVM classifier on test set: {:.4f}'\n",
    "     .format(svm.score(X_test, y_test)))\n"
   ]
  },
  {
   "cell_type": "code",
   "execution_count": 34,
   "id": "17ee81c2",
   "metadata": {},
   "outputs": [],
   "source": [
    "y_pred=svm.predict(X_test)"
   ]
  },
  {
   "cell_type": "code",
   "execution_count": 35,
   "id": "b643d3ff",
   "metadata": {},
   "outputs": [
    {
     "data": {
      "image/png": "[encoded data removed]",
      "text/plain": [
       "<Figure size 800x500 with 2 Axes>"
      ]
     },
     "metadata": {},
     "output_type": "display_data"
    }
   ],
   "source": [
    "fig, ax = plt.subplots(figsize=(8, 5))\n",
    "cmp = ConfusionMatrixDisplay(confusion_matrix(y_test, y_pred), display_labels = ['Not_Surface_Taxi', 'Surface_Taxi'])\n",
    "cmp.plot(ax=ax)\n",
    "plt.show()"
   ]
  },
  {
   "cell_type": "code",
   "execution_count": null,
   "id": "a42f5c0d",
   "metadata": {},
   "outputs": [],
   "source": []
  }
 ],
 "metadata": {
  "kernelspec": {
   "display_name": "Python 3 (ipykernel)",
   "language": "python",
   "name": "python3"
  },
  "language_info": {
   "codemirror_mode": {
    "name": "ipython",
    "version": 3
   },
   "file_extension": ".py",
   "mimetype": "text/x-python",
   "name": "python",
   "nbconvert_exporter": "python",
   "pygments_lexer": "ipython3",
   "version": "3.9.12"
  }
 },
 "nbformat": 4,
 "nbformat_minor": 5
}
