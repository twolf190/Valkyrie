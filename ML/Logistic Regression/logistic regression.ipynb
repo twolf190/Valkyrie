{
 "cells": [
  {
   "cell_type": "code",
   "execution_count": 1,
   "metadata": {},
   "outputs": [],
   "source": [
    "import pandas as pd\n",
    "import matplotlib.pyplot as plt\n",
    "import seaborn as sns\n",
    "import os\n",
    "import numpy as np\n",
    "import sklearn as sk\n",
    "from sklearn.model_selection import train_test_split   # to split the data\n",
    "from sklearn.linear_model import LogisticRegression    # for logistic regression\n",
    "from sklearn import metrics                            # to create confusion matrix\n"
   ]
  },
  {
   "cell_type": "code",
   "execution_count": 2,
   "metadata": {},
   "outputs": [],
   "source": [
    "def df_transformation(df):\n",
    "    df_temp = df[features]\n",
    "    df_temp['datetime'] = df_temp.datetime.dt.strftime('%Y-%m-%d %H:%M:%S').astype('datetime64[ns]')\n",
    "\n",
    "    output = df_temp.groupby(by=[\"datetime\"], dropna=False).mean().reset_index()\n",
    "    \n",
    "    return output "
   ]
  },
  {
   "cell_type": "code",
   "execution_count": 3,
   "metadata": {},
   "outputs": [],
   "source": [
    "# Create a custom function for data transformation\n",
    "\n",
    "features = ['datetime',\n",
    "            'latitude',\n",
    "            'longitude',\n",
    "            'absoluteAltitude',\n",
    "            'magneticHeading',\n",
    "            'trueHeading',\n",
    "            'groundSpeed',\n",
    "            'trueAirspeed',\n",
    "            'pitch',\n",
    "            'roll',\n",
    "            'yaw',\n",
    "            'angleOfAttack',\n",
    "            'flightPathAngle',\n",
    "            'verticalFlightPathAngle',\n",
    "            'horizontalFlightPathAngle',\n",
    "            'rollAcceleration',\n",
    "            'pitchAcceleration',\n",
    "            'yawAcceleration',\n",
    "            'e1N1ng',\n",
    "            'e2N1ng',\n",
    "            'e1N2nf',\n",
    "            'e2N2nf',\n",
    "            'mainRotorRpm',\n",
    "            'tailRotorRpm',\n",
    "            'mainRotorTorque',\n",
    "            'e1Itt',\n",
    "            'e2Itt',\n",
    "            'mainRotorInducedInflow',\n",
    "            'flightDirectorPitch',\n",
    "            'flightDirectorRoll',\n",
    "            'climbOrDescentRate',\n",
    "            'hasWeightOnWheels',\n",
    "            'turnRate to degPerSec',\n",
    "            'cyclicPositionPitch',\n",
    "            'cyclicPositionRoll',\n",
    "            'collectivePosition',\n",
    "            'antiTorquePedalPosition',\n",
    "            'throttlePosition',\n",
    "            'e1Torque',\n",
    "            'e2Torque'\n",
    "           ]"
   ]
  },
  {
   "cell_type": "code",
   "execution_count": 4,
   "metadata": {},
   "outputs": [
    {
     "name": "stderr",
     "output_type": "stream",
     "text": [
      "<ipython-input-2-4e5c128e35af>:3: SettingWithCopyWarning: \n",
      "A value is trying to be set on a copy of a slice from a DataFrame.\n",
      "Try using .loc[row_indexer,col_indexer] = value instead\n",
      "\n",
      "See the caveats in the documentation: https://pandas.pydata.org/pandas-docs/stable/user_guide/indexing.html#returning-a-view-versus-a-copy\n",
      "  df_temp['datetime'] = df_temp.datetime.dt.strftime('%Y-%m-%d %H:%M:%S').astype('datetime64[ns]')\n"
     ]
    }
   ],
   "source": [
    "# reading files from 9/19 dataset\n",
    "df1 = pd.read_csv('SimData_2022.09.19_16.00.36.csv.roar.csv',\n",
    "                 parse_dates = {'datetime': ['date', 'time']},\n",
    "                 low_memory=False)\n",
    "df1 = df_transformation(df1)\n",
    "\n",
    "\n",
    "df2 = pd.read_csv('SimData_2022.09.19_16.38.20.csv.roar.csv',\n",
    "                 parse_dates = {'datetime': ['date', 'time']},\n",
    "                 low_memory=False)\n",
    "df2 = df_transformation(df2)\n",
    "\n",
    "\n",
    "df3 = pd.read_csv('SimData_2022.09.19_17.51.37.csv.roar.csv',\n",
    "                parse_dates = {'datetime': ['date', 'time']},\n",
    "                low_memory=False)\n",
    "df3 = df_transformation(df3)\n",
    "\n",
    "\n",
    "\n",
    "# reading files from 9/20 dataset\n",
    "df4 = pd.read_csv('SimData_2022.09.20_16.22.07.csv.roar.csv',\n",
    "                parse_dates = {'datetime': ['date', 'time']},\n",
    "                low_memory=False)\n",
    "df4 = df_transformation(df4)\n",
    "\n",
    "\n",
    "df5 = pd.read_csv('SimData_2022.09.20_16.28.31.csv.roar.csv',\n",
    "                parse_dates = {'datetime': ['date', 'time']},\n",
    "                low_memory=False)\n",
    "df5 = df_transformation(df5)\n",
    "\n",
    "\n",
    "# reading file from 9/22 dataset\n",
    "df6 = pd.read_csv('SimData_2022.09.22_17.11.56.csv.roar.csv',\n",
    "                parse_dates = {'datetime': ['date', 'time']},\n",
    "                low_memory=False)\n",
    "df6 = df_transformation(df6)\n",
    "\n",
    "\n",
    "# reading file from 10/06 dataset\n",
    "df7 = pd.read_csv('SimData_2022.10.06_09.47.22.csv.roar.csv',\n",
    "                parse_dates = {'datetime': ['date', 'time']},\n",
    "                low_memory=False)\n",
    "df7 = df_transformation(df7)\n",
    "\n",
    "\n",
    "# reading files from 10/20 dataset\n",
    "df8 = pd.read_csv('SimData_2022.10.20_17.19.15.csv.roar.csv',\n",
    "                parse_dates = {'datetime': ['date', 'time']},\n",
    "                low_memory=False)\n",
    "df8 = df_transformation(df8)"
   ]
  },
  {
   "cell_type": "code",
   "execution_count": 5,
   "metadata": {},
   "outputs": [
    {
     "data": {
      "text/plain": [
       "10950"
      ]
     },
     "execution_count": 5,
     "metadata": {},
     "output_type": "execute_result"
    }
   ],
   "source": [
    "#Combine files\n",
    "df = pd.concat([df1, df2, df3, df4, df5, df6, df7, df8]).reset_index()\n",
    "len(df)"
   ]
  },
  {
   "cell_type": "code",
   "execution_count": 6,
   "metadata": {},
   "outputs": [],
   "source": [
    "#normalize values \n",
    "df_norm = df.loc[:, df.columns != 'datetime']\n",
    "df_norm = (df_norm-df_norm.min())/(df_norm.max()-df_norm.min())\n",
    "df_norm.insert(1, 'datetime', df[['datetime']])"
   ]
  },
  {
   "cell_type": "markdown",
   "metadata": {},
   "source": [
    "# QUICK STOPS"
   ]
  },
  {
   "cell_type": "code",
   "execution_count": 8,
   "metadata": {},
   "outputs": [],
   "source": [
    "# Dataframe labeling for Quick Stops \n",
    "df_qs = df_norm.copy()\n",
    "df_qs['Quick_Stop'] = 0\n",
    "\n",
    "df_qs.loc[(df_qs['datetime'].between('2022-09-19 22:00:45' , '2022-09-19 22:01:44' , inclusive='both')),['Quick_Stop']] = 1\n",
    "df_qs.loc[(df_qs['datetime'].between('2022-09-19 22:11:55' , '2022-09-19 22:13:21' , inclusive='both')),['Quick_Stop']] = 1\n",
    "df_qs.loc[(df_qs['datetime'].between('2022-09-22 21:36:30' , '2022-09-22 21:37:10' , inclusive='both')),['Quick_Stop']] = 1\n",
    "df_qs.loc[(df_qs['datetime'].between('2022-09-22 21:39:16' , '2022-09-22 21:39:42' , inclusive='both')),['Quick_Stop']] = 1\n",
    "df_qs.loc[(df_qs['datetime'].between('2022-09-22 21:40:06' , '2022-09-22 21:40:36' , inclusive='both')),['Quick_Stop']] = 1\n",
    "df_qs.loc[(df_qs['datetime'].between('2022-10-06 13:51:10' , '2022-10-06 13:51:42' , inclusive='both')),['Quick_Stop']] = 1\n",
    "df_qs.loc[(df_qs['datetime'].between('2022-10-06 14:04:58' , '2022-10-06 14:05:25' , inclusive='both')),['Quick_Stop']] = 1\n",
    "df_qs.loc[(df_qs['datetime'].between('2022-10-06 14:06:00' , '2022-10-06 14:06:20' , inclusive='both')),['Quick_Stop']] = 1\n",
    "df_qs.loc[(df_qs['datetime'].between('2022-10-06 14:08:02' , '2022-10-06 14:08:26' , inclusive='both')),['Quick_Stop']] = 1\n",
    "df_qs.loc[(df_qs['datetime'].between('2022-10-20 21:23:30' , '2022-10-20 21:23:54' , inclusive='both')),['Quick_Stop']] = 1\n",
    "df_qs.loc[(df_qs['datetime'].between('2022-10-20 21:24:55' , '2022-10-20 21:25:20' , inclusive='both')),['Quick_Stop']] = 1\n",
    "df_qs.loc[(df_qs['datetime'].between('2022-10-20 21:26:20' , '2022-10-20 21:26:46' , inclusive='both')),['Quick_Stop']] = 1\n",
    "df_qs.loc[(df_qs['datetime'].between('2022-10-20 21:27:47' , '2022-10-20 21:28:05' , inclusive='both')),['Quick_Stop']] = 1\n",
    "df_qs.loc[(df_qs['datetime'].between('2022-10-20 21:29:33' , '2022-10-20 21:29:56' , inclusive='both')),['Quick_Stop']] = 1\n",
    "df_qs.loc[(df_qs['datetime'].between('2022-10-20 21:30:50' , '2022-10-20 21:31:12' , inclusive='both')),['Quick_Stop']] = 1\n",
    "df_qs.loc[(df_qs['datetime'].between('2022-10-20 21:32:20' , '2022-10-20 21:32:40' , inclusive='both')),['Quick_Stop']] = 1\n",
    "df_qs.loc[(df_qs['datetime'].between('2022-10-20 21:33:55' , '2022-10-20 21:34:18' , inclusive='both')),['Quick_Stop']] = 1\n",
    "df_qs.loc[(df_qs['datetime'].between('2022-10-20 21:35:20' , '2022-10-20 21:35:45' , inclusive='both')),['Quick_Stop']] = 1\n",
    "df_qs.loc[(df_qs['datetime'].between('2022-10-20 21:36:45' , '2022-10-20 21:37:11' , inclusive='both')),['Quick_Stop']] = 1"
   ]
  },
  {
   "cell_type": "code",
   "execution_count": 9,
   "metadata": {},
   "outputs": [
    {
     "data": {
      "text/plain": [
       "0    10355\n",
       "1      595\n",
       "Name: Quick_Stop, dtype: int64"
      ]
     },
     "execution_count": 9,
     "metadata": {},
     "output_type": "execute_result"
    }
   ],
   "source": [
    "df_qs['Quick_Stop'].value_counts()"
   ]
  },
  {
   "cell_type": "code",
   "execution_count": 10,
   "metadata": {},
   "outputs": [],
   "source": [
    "#call features used in model\n",
    "model_features = ['hasWeightOnWheels',\n",
    "                  'absoluteAltitude',\n",
    "                  'groundSpeed',\n",
    "                  'climbOrDescentRate',\n",
    "                  'cyclicPositionPitch',\n",
    "                  'cyclicPositionRoll',\n",
    "                  'collectivePosition',\n",
    "                  'antiTorquePedalPosition',\n",
    "                  'throttlePosition',\n",
    "                  'e1Torque',\n",
    "                  'e2Torque'\n",
    "                 ]"
   ]
  },
  {
   "cell_type": "code",
   "execution_count": 11,
   "metadata": {},
   "outputs": [],
   "source": [
    "X = df_qs[model_features]\n",
    "y = df_qs['Quick_Stop']"
   ]
  },
  {
   "cell_type": "code",
   "execution_count": 12,
   "metadata": {},
   "outputs": [
    {
     "data": {
      "text/html": [
       "<div>\n",
       "<style scoped>\n",
       "    .dataframe tbody tr th:only-of-type {\n",
       "        vertical-align: middle;\n",
       "    }\n",
       "\n",
       "    .dataframe tbody tr th {\n",
       "        vertical-align: top;\n",
       "    }\n",
       "\n",
       "    .dataframe thead th {\n",
       "        text-align: right;\n",
       "    }\n",
       "</style>\n",
       "<table border=\"1\" class=\"dataframe\">\n",
       "  <thead>\n",
       "    <tr style=\"text-align: right;\">\n",
       "      <th></th>\n",
       "      <th>hasWeightOnWheels</th>\n",
       "      <th>absoluteAltitude</th>\n",
       "      <th>groundSpeed</th>\n",
       "      <th>climbOrDescentRate</th>\n",
       "      <th>cyclicPositionPitch</th>\n",
       "      <th>cyclicPositionRoll</th>\n",
       "      <th>collectivePosition</th>\n",
       "      <th>antiTorquePedalPosition</th>\n",
       "      <th>throttlePosition</th>\n",
       "      <th>e1Torque</th>\n",
       "      <th>e2Torque</th>\n",
       "    </tr>\n",
       "  </thead>\n",
       "  <tbody>\n",
       "    <tr>\n",
       "      <th>0</th>\n",
       "      <td>1.0</td>\n",
       "      <td>0.000004</td>\n",
       "      <td>0.000932</td>\n",
       "      <td>0.546666</td>\n",
       "      <td>0.821924</td>\n",
       "      <td>0.331066</td>\n",
       "      <td>0.004047</td>\n",
       "      <td>0.219376</td>\n",
       "      <td>0.072835</td>\n",
       "      <td>0.003199</td>\n",
       "      <td>0.003199</td>\n",
       "    </tr>\n",
       "    <tr>\n",
       "      <th>1</th>\n",
       "      <td>1.0</td>\n",
       "      <td>0.000012</td>\n",
       "      <td>0.001054</td>\n",
       "      <td>0.547029</td>\n",
       "      <td>0.681450</td>\n",
       "      <td>0.373572</td>\n",
       "      <td>0.004047</td>\n",
       "      <td>0.219376</td>\n",
       "      <td>0.399971</td>\n",
       "      <td>0.013915</td>\n",
       "      <td>0.013915</td>\n",
       "    </tr>\n",
       "    <tr>\n",
       "      <th>2</th>\n",
       "      <td>1.0</td>\n",
       "      <td>0.000014</td>\n",
       "      <td>0.000125</td>\n",
       "      <td>0.546796</td>\n",
       "      <td>0.674844</td>\n",
       "      <td>0.370517</td>\n",
       "      <td>0.004047</td>\n",
       "      <td>0.219357</td>\n",
       "      <td>0.877563</td>\n",
       "      <td>0.090793</td>\n",
       "      <td>0.090793</td>\n",
       "    </tr>\n",
       "    <tr>\n",
       "      <th>3</th>\n",
       "      <td>1.0</td>\n",
       "      <td>0.000014</td>\n",
       "      <td>0.000035</td>\n",
       "      <td>0.546568</td>\n",
       "      <td>0.676112</td>\n",
       "      <td>0.366596</td>\n",
       "      <td>0.004047</td>\n",
       "      <td>0.219281</td>\n",
       "      <td>1.000000</td>\n",
       "      <td>0.244604</td>\n",
       "      <td>0.244604</td>\n",
       "    </tr>\n",
       "    <tr>\n",
       "      <th>4</th>\n",
       "      <td>1.0</td>\n",
       "      <td>0.000014</td>\n",
       "      <td>0.000017</td>\n",
       "      <td>0.546523</td>\n",
       "      <td>0.676265</td>\n",
       "      <td>0.366036</td>\n",
       "      <td>0.004047</td>\n",
       "      <td>0.218942</td>\n",
       "      <td>1.000000</td>\n",
       "      <td>0.444592</td>\n",
       "      <td>0.444592</td>\n",
       "    </tr>\n",
       "  </tbody>\n",
       "</table>\n",
       "</div>"
      ],
      "text/plain": [
       "   hasWeightOnWheels  absoluteAltitude  groundSpeed  climbOrDescentRate  \\\n",
       "0                1.0          0.000004     0.000932            0.546666   \n",
       "1                1.0          0.000012     0.001054            0.547029   \n",
       "2                1.0          0.000014     0.000125            0.546796   \n",
       "3                1.0          0.000014     0.000035            0.546568   \n",
       "4                1.0          0.000014     0.000017            0.546523   \n",
       "\n",
       "   cyclicPositionPitch  cyclicPositionRoll  collectivePosition  \\\n",
       "0             0.821924            0.331066            0.004047   \n",
       "1             0.681450            0.373572            0.004047   \n",
       "2             0.674844            0.370517            0.004047   \n",
       "3             0.676112            0.366596            0.004047   \n",
       "4             0.676265            0.366036            0.004047   \n",
       "\n",
       "   antiTorquePedalPosition  throttlePosition  e1Torque  e2Torque  \n",
       "0                 0.219376          0.072835  0.003199  0.003199  \n",
       "1                 0.219376          0.399971  0.013915  0.013915  \n",
       "2                 0.219357          0.877563  0.090793  0.090793  \n",
       "3                 0.219281          1.000000  0.244604  0.244604  \n",
       "4                 0.218942          1.000000  0.444592  0.444592  "
      ]
     },
     "execution_count": 12,
     "metadata": {},
     "output_type": "execute_result"
    }
   ],
   "source": [
    "X.head()"
   ]
  },
  {
   "cell_type": "code",
   "execution_count": 13,
   "metadata": {},
   "outputs": [
    {
     "data": {
      "text/plain": [
       "0    0\n",
       "1    0\n",
       "2    0\n",
       "3    0\n",
       "4    0\n",
       "Name: Quick_Stop, dtype: int64"
      ]
     },
     "execution_count": 13,
     "metadata": {},
     "output_type": "execute_result"
    }
   ],
   "source": [
    "y.head()"
   ]
  },
  {
   "cell_type": "code",
   "execution_count": 14,
   "metadata": {},
   "outputs": [],
   "source": [
    "x_train, x_test, y_train, y_test = train_test_split(X, y, test_size = 0.3, random_state = 100)"
   ]
  },
  {
   "cell_type": "code",
   "execution_count": 15,
   "metadata": {},
   "outputs": [],
   "source": [
    "LR = LogisticRegression()    # Bring empty logistic regression model"
   ]
  },
  {
   "cell_type": "code",
   "execution_count": 16,
   "metadata": {},
   "outputs": [
    {
     "data": {
      "text/plain": [
       "LogisticRegression()"
      ]
     },
     "execution_count": 16,
     "metadata": {},
     "output_type": "execute_result"
    }
   ],
   "source": [
    "LR.fit(x_train,y_train)      # Train the model with training data"
   ]
  },
  {
   "cell_type": "code",
   "execution_count": 17,
   "metadata": {},
   "outputs": [],
   "source": [
    "y_pred_LR = LR.predict(x_test)    # Get predicted y from the logistic regression model"
   ]
  },
  {
   "cell_type": "code",
   "execution_count": 18,
   "metadata": {},
   "outputs": [
    {
     "name": "stdout",
     "output_type": "stream",
     "text": [
      "Classification accuracy =  0.9461187214611873\n",
      "Recall =  0.022099447513812154\n",
      "Precision =  1.0\n"
     ]
    }
   ],
   "source": [
    "# Get the classification accuracy, Recall, and Presicion with the metrics function.\n",
    "LR_accuracy = metrics.accuracy_score(y_pred_LR,y_test)\n",
    "print('Classification accuracy = ',LR_accuracy)\n",
    "print('Recall = ',metrics.recall_score(y_test, y_pred_LR))\n",
    "print('Precision = ',metrics.precision_score(y_test, y_pred_LR))"
   ]
  },
  {
   "cell_type": "code",
   "execution_count": 19,
   "metadata": {},
   "outputs": [],
   "source": [
    "# Check the train data\n",
    "\n",
    "total = 0\n",
    "Quick_Stop = 0\n",
    "non_Quick_Stop = 0\n",
    "for i in y_train:\n",
    "    if i == 1:\n",
    "        Quick_Stop += 1\n",
    "    else:\n",
    "        non_Quick_Stop += 1\n",
    "    total += 1"
   ]
  },
  {
   "cell_type": "code",
   "execution_count": 20,
   "metadata": {},
   "outputs": [
    {
     "name": "stdout",
     "output_type": "stream",
     "text": [
      "414\n",
      "7251\n",
      "0.95\n"
     ]
    }
   ],
   "source": [
    "print(Quick_Stop)\n",
    "print(non_Quick_Stop)\n",
    "print(round(non_Quick_Stop/total,2))"
   ]
  },
  {
   "cell_type": "markdown",
   "metadata": {},
   "source": [
    "Create a balanced dataset & train Logistic regression\n"
   ]
  },
  {
   "cell_type": "code",
   "execution_count": 22,
   "metadata": {},
   "outputs": [],
   "source": [
    "df_qs_train = df_qs[df_qs['Quick_Stop']==1]           # The original rows that have label 1\n",
    "non_df_qs_train = df_qs[df_qs['Quick_Stop']==0]       # The original rows that have label 0"
   ]
  },
  {
   "cell_type": "code",
   "execution_count": 23,
   "metadata": {},
   "outputs": [
    {
     "name": "stdout",
     "output_type": "stream",
     "text": [
      "595\n",
      "10355\n"
     ]
    }
   ],
   "source": [
    "print(len(df_qs_train))\n",
    "print(len(non_df_qs_train))"
   ]
  },
  {
   "cell_type": "code",
   "execution_count": 24,
   "metadata": {},
   "outputs": [],
   "source": [
    "sampled_non_df_qs = non_df_qs_train.sample(n = 595)    # Sample 595 data points from the quick stop data"
   ]
  },
  {
   "cell_type": "code",
   "execution_count": 25,
   "metadata": {},
   "outputs": [
    {
     "name": "stdout",
     "output_type": "stream",
     "text": [
      "595\n",
      "595\n"
     ]
    }
   ],
   "source": [
    "print(len(df_qs_train))\n",
    "print(len(sampled_non_df_qs))"
   ]
  },
  {
   "cell_type": "code",
   "execution_count": 26,
   "metadata": {},
   "outputs": [],
   "source": [
    "merged = pd.concat([df_qs_train, sampled_non_df_qs])     # After class-balancing, concatenating both classes into 1 dataframe"
   ]
  },
  {
   "cell_type": "code",
   "execution_count": 27,
   "metadata": {},
   "outputs": [
    {
     "name": "stdout",
     "output_type": "stream",
     "text": [
      "1190\n"
     ]
    }
   ],
   "source": [
    "print(len(merged))"
   ]
  },
  {
   "cell_type": "code",
   "execution_count": 28,
   "metadata": {},
   "outputs": [
    {
     "data": {
      "text/html": [
       "<div>\n",
       "<style scoped>\n",
       "    .dataframe tbody tr th:only-of-type {\n",
       "        vertical-align: middle;\n",
       "    }\n",
       "\n",
       "    .dataframe tbody tr th {\n",
       "        vertical-align: top;\n",
       "    }\n",
       "\n",
       "    .dataframe thead th {\n",
       "        text-align: right;\n",
       "    }\n",
       "</style>\n",
       "<table border=\"1\" class=\"dataframe\">\n",
       "  <thead>\n",
       "    <tr style=\"text-align: right;\">\n",
       "      <th></th>\n",
       "      <th>index</th>\n",
       "      <th>datetime</th>\n",
       "      <th>latitude</th>\n",
       "      <th>longitude</th>\n",
       "      <th>absoluteAltitude</th>\n",
       "      <th>magneticHeading</th>\n",
       "      <th>trueHeading</th>\n",
       "      <th>groundSpeed</th>\n",
       "      <th>trueAirspeed</th>\n",
       "      <th>pitch</th>\n",
       "      <th>...</th>\n",
       "      <th>hasWeightOnWheels</th>\n",
       "      <th>turnRate to degPerSec</th>\n",
       "      <th>cyclicPositionPitch</th>\n",
       "      <th>cyclicPositionRoll</th>\n",
       "      <th>collectivePosition</th>\n",
       "      <th>antiTorquePedalPosition</th>\n",
       "      <th>throttlePosition</th>\n",
       "      <th>e1Torque</th>\n",
       "      <th>e2Torque</th>\n",
       "      <th>Quick_Stop</th>\n",
       "    </tr>\n",
       "  </thead>\n",
       "  <tbody>\n",
       "    <tr>\n",
       "      <th>3173</th>\n",
       "      <td>0.218522</td>\n",
       "      <td>2022-09-19 22:00:45</td>\n",
       "      <td>0.620496</td>\n",
       "      <td>0.520354</td>\n",
       "      <td>0.020858</td>\n",
       "      <td>0.488855</td>\n",
       "      <td>0.455392</td>\n",
       "      <td>0.177889</td>\n",
       "      <td>0.179303</td>\n",
       "      <td>0.395337</td>\n",
       "      <td>...</td>\n",
       "      <td>0.0</td>\n",
       "      <td>0.326843</td>\n",
       "      <td>0.561531</td>\n",
       "      <td>0.270058</td>\n",
       "      <td>0.546607</td>\n",
       "      <td>0.373957</td>\n",
       "      <td>0.542983</td>\n",
       "      <td>0.451720</td>\n",
       "      <td>0.451720</td>\n",
       "      <td>1</td>\n",
       "    </tr>\n",
       "    <tr>\n",
       "      <th>3174</th>\n",
       "      <td>0.218928</td>\n",
       "      <td>2022-09-19 22:00:46</td>\n",
       "      <td>0.620492</td>\n",
       "      <td>0.520354</td>\n",
       "      <td>0.022793</td>\n",
       "      <td>0.488580</td>\n",
       "      <td>0.455116</td>\n",
       "      <td>0.192537</td>\n",
       "      <td>0.193605</td>\n",
       "      <td>0.391191</td>\n",
       "      <td>...</td>\n",
       "      <td>0.0</td>\n",
       "      <td>0.385933</td>\n",
       "      <td>0.568142</td>\n",
       "      <td>0.268968</td>\n",
       "      <td>0.542782</td>\n",
       "      <td>0.373139</td>\n",
       "      <td>0.544180</td>\n",
       "      <td>0.453602</td>\n",
       "      <td>0.453602</td>\n",
       "      <td>1</td>\n",
       "    </tr>\n",
       "    <tr>\n",
       "      <th>3175</th>\n",
       "      <td>0.219334</td>\n",
       "      <td>2022-09-19 22:00:47</td>\n",
       "      <td>0.620487</td>\n",
       "      <td>0.520354</td>\n",
       "      <td>0.024614</td>\n",
       "      <td>0.488998</td>\n",
       "      <td>0.455535</td>\n",
       "      <td>0.207002</td>\n",
       "      <td>0.207978</td>\n",
       "      <td>0.392070</td>\n",
       "      <td>...</td>\n",
       "      <td>0.0</td>\n",
       "      <td>0.441976</td>\n",
       "      <td>0.573673</td>\n",
       "      <td>0.276268</td>\n",
       "      <td>0.537929</td>\n",
       "      <td>0.387179</td>\n",
       "      <td>0.545072</td>\n",
       "      <td>0.455966</td>\n",
       "      <td>0.455966</td>\n",
       "      <td>1</td>\n",
       "    </tr>\n",
       "    <tr>\n",
       "      <th>3176</th>\n",
       "      <td>0.219740</td>\n",
       "      <td>2022-09-19 22:00:48</td>\n",
       "      <td>0.620483</td>\n",
       "      <td>0.520354</td>\n",
       "      <td>0.026540</td>\n",
       "      <td>0.492112</td>\n",
       "      <td>0.458647</td>\n",
       "      <td>0.222429</td>\n",
       "      <td>0.223836</td>\n",
       "      <td>0.389392</td>\n",
       "      <td>...</td>\n",
       "      <td>0.0</td>\n",
       "      <td>0.524060</td>\n",
       "      <td>0.571846</td>\n",
       "      <td>0.277981</td>\n",
       "      <td>0.550412</td>\n",
       "      <td>0.377349</td>\n",
       "      <td>0.551281</td>\n",
       "      <td>0.461191</td>\n",
       "      <td>0.461191</td>\n",
       "      <td>1</td>\n",
       "    </tr>\n",
       "    <tr>\n",
       "      <th>3177</th>\n",
       "      <td>0.220146</td>\n",
       "      <td>2022-09-19 22:00:49</td>\n",
       "      <td>0.620478</td>\n",
       "      <td>0.520354</td>\n",
       "      <td>0.029100</td>\n",
       "      <td>0.494574</td>\n",
       "      <td>0.461107</td>\n",
       "      <td>0.238762</td>\n",
       "      <td>0.240930</td>\n",
       "      <td>0.380702</td>\n",
       "      <td>...</td>\n",
       "      <td>0.0</td>\n",
       "      <td>0.560438</td>\n",
       "      <td>0.577045</td>\n",
       "      <td>0.280491</td>\n",
       "      <td>0.556116</td>\n",
       "      <td>0.362182</td>\n",
       "      <td>0.567373</td>\n",
       "      <td>0.490556</td>\n",
       "      <td>0.490556</td>\n",
       "      <td>1</td>\n",
       "    </tr>\n",
       "    <tr>\n",
       "      <th>...</th>\n",
       "      <td>...</td>\n",
       "      <td>...</td>\n",
       "      <td>...</td>\n",
       "      <td>...</td>\n",
       "      <td>...</td>\n",
       "      <td>...</td>\n",
       "      <td>...</td>\n",
       "      <td>...</td>\n",
       "      <td>...</td>\n",
       "      <td>...</td>\n",
       "      <td>...</td>\n",
       "      <td>...</td>\n",
       "      <td>...</td>\n",
       "      <td>...</td>\n",
       "      <td>...</td>\n",
       "      <td>...</td>\n",
       "      <td>...</td>\n",
       "      <td>...</td>\n",
       "      <td>...</td>\n",
       "      <td>...</td>\n",
       "      <td>...</td>\n",
       "    </tr>\n",
       "    <tr>\n",
       "      <th>1871</th>\n",
       "      <td>0.209586</td>\n",
       "      <td>2022-09-19 20:47:03</td>\n",
       "      <td>0.615497</td>\n",
       "      <td>0.523912</td>\n",
       "      <td>0.619077</td>\n",
       "      <td>0.481411</td>\n",
       "      <td>0.447247</td>\n",
       "      <td>0.662703</td>\n",
       "      <td>0.662262</td>\n",
       "      <td>0.483051</td>\n",
       "      <td>...</td>\n",
       "      <td>0.0</td>\n",
       "      <td>0.450833</td>\n",
       "      <td>0.533181</td>\n",
       "      <td>0.342424</td>\n",
       "      <td>0.438636</td>\n",
       "      <td>0.590730</td>\n",
       "      <td>0.534101</td>\n",
       "      <td>0.416720</td>\n",
       "      <td>0.416720</td>\n",
       "      <td>0</td>\n",
       "    </tr>\n",
       "    <tr>\n",
       "      <th>6055</th>\n",
       "      <td>0.374492</td>\n",
       "      <td>2022-09-22 21:30:17</td>\n",
       "      <td>0.000013</td>\n",
       "      <td>0.000048</td>\n",
       "      <td>0.002793</td>\n",
       "      <td>0.882485</td>\n",
       "      <td>0.908686</td>\n",
       "      <td>0.027933</td>\n",
       "      <td>0.027966</td>\n",
       "      <td>0.531465</td>\n",
       "      <td>...</td>\n",
       "      <td>0.0</td>\n",
       "      <td>0.000000</td>\n",
       "      <td>0.657464</td>\n",
       "      <td>0.348629</td>\n",
       "      <td>0.567851</td>\n",
       "      <td>0.259398</td>\n",
       "      <td>0.555562</td>\n",
       "      <td>0.476496</td>\n",
       "      <td>0.476496</td>\n",
       "      <td>0</td>\n",
       "    </tr>\n",
       "    <tr>\n",
       "      <th>9247</th>\n",
       "      <td>0.308692</td>\n",
       "      <td>2022-10-20 21:33:35</td>\n",
       "      <td>0.999999</td>\n",
       "      <td>0.999811</td>\n",
       "      <td>0.065131</td>\n",
       "      <td>0.235220</td>\n",
       "      <td>0.234721</td>\n",
       "      <td>0.332162</td>\n",
       "      <td>0.332183</td>\n",
       "      <td>0.555766</td>\n",
       "      <td>...</td>\n",
       "      <td>0.0</td>\n",
       "      <td>0.474636</td>\n",
       "      <td>0.592373</td>\n",
       "      <td>0.327616</td>\n",
       "      <td>0.421096</td>\n",
       "      <td>0.438117</td>\n",
       "      <td>0.478357</td>\n",
       "      <td>0.346170</td>\n",
       "      <td>0.346170</td>\n",
       "      <td>0</td>\n",
       "    </tr>\n",
       "    <tr>\n",
       "      <th>8352</th>\n",
       "      <td>0.459789</td>\n",
       "      <td>2022-10-06 14:07:54</td>\n",
       "      <td>0.607234</td>\n",
       "      <td>0.524718</td>\n",
       "      <td>0.008084</td>\n",
       "      <td>0.592085</td>\n",
       "      <td>0.557848</td>\n",
       "      <td>0.322201</td>\n",
       "      <td>0.321990</td>\n",
       "      <td>0.344556</td>\n",
       "      <td>...</td>\n",
       "      <td>0.0</td>\n",
       "      <td>0.474357</td>\n",
       "      <td>0.592550</td>\n",
       "      <td>0.318382</td>\n",
       "      <td>0.491667</td>\n",
       "      <td>0.363075</td>\n",
       "      <td>0.514442</td>\n",
       "      <td>0.403586</td>\n",
       "      <td>0.403586</td>\n",
       "      <td>0</td>\n",
       "    </tr>\n",
       "    <tr>\n",
       "      <th>7900</th>\n",
       "      <td>0.276198</td>\n",
       "      <td>2022-10-06 14:00:22</td>\n",
       "      <td>0.606808</td>\n",
       "      <td>0.524787</td>\n",
       "      <td>0.006765</td>\n",
       "      <td>0.842701</td>\n",
       "      <td>0.808341</td>\n",
       "      <td>0.151883</td>\n",
       "      <td>0.151811</td>\n",
       "      <td>0.563200</td>\n",
       "      <td>...</td>\n",
       "      <td>0.0</td>\n",
       "      <td>0.471800</td>\n",
       "      <td>0.603546</td>\n",
       "      <td>0.272660</td>\n",
       "      <td>0.495226</td>\n",
       "      <td>0.438003</td>\n",
       "      <td>0.517786</td>\n",
       "      <td>0.412033</td>\n",
       "      <td>0.412033</td>\n",
       "      <td>0</td>\n",
       "    </tr>\n",
       "  </tbody>\n",
       "</table>\n",
       "<p>1190 rows × 42 columns</p>\n",
       "</div>"
      ],
      "text/plain": [
       "         index            datetime  latitude  longitude  absoluteAltitude  \\\n",
       "3173  0.218522 2022-09-19 22:00:45  0.620496   0.520354          0.020858   \n",
       "3174  0.218928 2022-09-19 22:00:46  0.620492   0.520354          0.022793   \n",
       "3175  0.219334 2022-09-19 22:00:47  0.620487   0.520354          0.024614   \n",
       "3176  0.219740 2022-09-19 22:00:48  0.620483   0.520354          0.026540   \n",
       "3177  0.220146 2022-09-19 22:00:49  0.620478   0.520354          0.029100   \n",
       "...        ...                 ...       ...        ...               ...   \n",
       "1871  0.209586 2022-09-19 20:47:03  0.615497   0.523912          0.619077   \n",
       "6055  0.374492 2022-09-22 21:30:17  0.000013   0.000048          0.002793   \n",
       "9247  0.308692 2022-10-20 21:33:35  0.999999   0.999811          0.065131   \n",
       "8352  0.459789 2022-10-06 14:07:54  0.607234   0.524718          0.008084   \n",
       "7900  0.276198 2022-10-06 14:00:22  0.606808   0.524787          0.006765   \n",
       "\n",
       "      magneticHeading  trueHeading  groundSpeed  trueAirspeed     pitch  ...  \\\n",
       "3173         0.488855     0.455392     0.177889      0.179303  0.395337  ...   \n",
       "3174         0.488580     0.455116     0.192537      0.193605  0.391191  ...   \n",
       "3175         0.488998     0.455535     0.207002      0.207978  0.392070  ...   \n",
       "3176         0.492112     0.458647     0.222429      0.223836  0.389392  ...   \n",
       "3177         0.494574     0.461107     0.238762      0.240930  0.380702  ...   \n",
       "...               ...          ...          ...           ...       ...  ...   \n",
       "1871         0.481411     0.447247     0.662703      0.662262  0.483051  ...   \n",
       "6055         0.882485     0.908686     0.027933      0.027966  0.531465  ...   \n",
       "9247         0.235220     0.234721     0.332162      0.332183  0.555766  ...   \n",
       "8352         0.592085     0.557848     0.322201      0.321990  0.344556  ...   \n",
       "7900         0.842701     0.808341     0.151883      0.151811  0.563200  ...   \n",
       "\n",
       "      hasWeightOnWheels  turnRate to degPerSec  cyclicPositionPitch  \\\n",
       "3173                0.0               0.326843             0.561531   \n",
       "3174                0.0               0.385933             0.568142   \n",
       "3175                0.0               0.441976             0.573673   \n",
       "3176                0.0               0.524060             0.571846   \n",
       "3177                0.0               0.560438             0.577045   \n",
       "...                 ...                    ...                  ...   \n",
       "1871                0.0               0.450833             0.533181   \n",
       "6055                0.0               0.000000             0.657464   \n",
       "9247                0.0               0.474636             0.592373   \n",
       "8352                0.0               0.474357             0.592550   \n",
       "7900                0.0               0.471800             0.603546   \n",
       "\n",
       "      cyclicPositionRoll  collectivePosition  antiTorquePedalPosition  \\\n",
       "3173            0.270058            0.546607                 0.373957   \n",
       "3174            0.268968            0.542782                 0.373139   \n",
       "3175            0.276268            0.537929                 0.387179   \n",
       "3176            0.277981            0.550412                 0.377349   \n",
       "3177            0.280491            0.556116                 0.362182   \n",
       "...                  ...                 ...                      ...   \n",
       "1871            0.342424            0.438636                 0.590730   \n",
       "6055            0.348629            0.567851                 0.259398   \n",
       "9247            0.327616            0.421096                 0.438117   \n",
       "8352            0.318382            0.491667                 0.363075   \n",
       "7900            0.272660            0.495226                 0.438003   \n",
       "\n",
       "      throttlePosition  e1Torque  e2Torque  Quick_Stop  \n",
       "3173          0.542983  0.451720  0.451720           1  \n",
       "3174          0.544180  0.453602  0.453602           1  \n",
       "3175          0.545072  0.455966  0.455966           1  \n",
       "3176          0.551281  0.461191  0.461191           1  \n",
       "3177          0.567373  0.490556  0.490556           1  \n",
       "...                ...       ...       ...         ...  \n",
       "1871          0.534101  0.416720  0.416720           0  \n",
       "6055          0.555562  0.476496  0.476496           0  \n",
       "9247          0.478357  0.346170  0.346170           0  \n",
       "8352          0.514442  0.403586  0.403586           0  \n",
       "7900          0.517786  0.412033  0.412033           0  \n",
       "\n",
       "[1190 rows x 42 columns]"
      ]
     },
     "execution_count": 28,
     "metadata": {},
     "output_type": "execute_result"
    }
   ],
   "source": [
    "merged"
   ]
  },
  {
   "cell_type": "code",
   "execution_count": 29,
   "metadata": {},
   "outputs": [],
   "source": [
    "# Split the data into X and y\n",
    "x = merged[model_features]   \n",
    "y = merged['Quick_Stop']\n"
   ]
  },
  {
   "cell_type": "code",
   "execution_count": 30,
   "metadata": {},
   "outputs": [],
   "source": [
    "x_train, x_test, y_train, y_test = train_test_split(x, y, test_size = 0.3, random_state = 0)"
   ]
  },
  {
   "cell_type": "code",
   "execution_count": 31,
   "metadata": {},
   "outputs": [
    {
     "name": "stdout",
     "output_type": "stream",
     "text": [
      "421\n",
      "412\n",
      "0.49459783913565425\n"
     ]
    }
   ],
   "source": [
    "total = 0\n",
    "Quick_Stop = 0\n",
    "non_Quick_Stop = 0\n",
    "for i in y_train:\n",
    "    if i == 1:\n",
    "        Quick_Stop += 1\n",
    "    else:\n",
    "        non_Quick_Stop += 1\n",
    "    total += 1\n",
    "    \n",
    "print(Quick_Stop)\n",
    "print(non_Quick_Stop)\n",
    "print(non_Quick_Stop/total)"
   ]
  },
  {
   "cell_type": "code",
   "execution_count": 32,
   "metadata": {},
   "outputs": [
    {
     "name": "stdout",
     "output_type": "stream",
     "text": [
      "Quick Stop accuracy =  0.7366946778711485\n",
      "Recall =  0.8735632183908046\n",
      "Precision =  0.6785714285714286\n"
     ]
    }
   ],
   "source": [
    "LR = LogisticRegression()\n",
    "LR.fit(x_train,y_train)\n",
    "y_pred_LR = LR.predict(x_test)\n",
    "\n",
    "LR_accuracy = metrics.accuracy_score(y_pred_LR,y_test)\n",
    "print('Quick Stop accuracy = ', LR_accuracy)\n",
    "print('Recall = ',metrics.recall_score(y_test, y_pred_LR))\n",
    "print('Precision = ',metrics.precision_score(y_test, y_pred_LR))"
   ]
  },
  {
   "cell_type": "markdown",
   "metadata": {},
   "source": [
    "Visualize the Confusion Matrix"
   ]
  },
  {
   "cell_type": "code",
   "execution_count": 34,
   "metadata": {},
   "outputs": [
    {
     "data": {
      "image/png": "[encoded data removed]",
      "text/plain": [
       "<Figure size 432x288 with 2 Axes>"
      ]
     },
     "metadata": {
      "needs_background": "light"
     },
     "output_type": "display_data"
    }
   ],
   "source": [
    "cm = metrics.confusion_matrix(y_test, y_pred_LR)    # Create a confusion matrix from predicted y and original y value.\n",
    "                                                    \n",
    "#sns.heatmap(cm,annot=True,cmap='Reds',fmt='.0f')    # Bring heatmap from seaborn and fit confusion matrix\n",
    "                                                    # annot = True can show the confusion matrix values\n",
    "                                                    # cmap can decide the color of heatmap\n",
    "                                                    # fmt can decide the type of presentation of confusion matrix values\n",
    "            \n",
    "ax= plt.subplot()\n",
    "sns.heatmap(cm, annot=True, cmap = 'Reds', fmt='.0f', ax=ax); \n",
    "\n",
    "# labels, title and ticks\n",
    "ax.set_xlabel('Predicted labels');ax.set_ylabel('True labels'); \n",
    "ax.set_title('Confusion Matrix for Quick Stops')\n",
    "ax.xaxis.set_ticklabels(['Not_Quick_Stop', 'Quick_Stop']); ax.yaxis.set_ticklabels(['Not_Quick_Stop', 'Quick_Stop']);"
   ]
  },
  {
   "cell_type": "code",
   "execution_count": 35,
   "metadata": {},
   "outputs": [],
   "source": [
    "y_pred_proba = LR.predict_proba(x_test)   # Get the probability of LR classification \n",
    "                                          \n",
    "false_positive_rate, true_positive_rate, thresholds = metrics.roc_curve(y_test, y_pred_proba[:,1])     \n",
    "# Orignally predict_proba returned 2 values for both classes. \n",
    "# So, we picked second one which gives the probability of class 1"
   ]
  },
  {
   "cell_type": "code",
   "execution_count": 93,
   "metadata": {},
   "outputs": [
    {
     "data": {
      "text/plain": [
       "[<matplotlib.lines.Line2D at 0x1ba1fa042e0>]"
      ]
     },
     "execution_count": 93,
     "metadata": {},
     "output_type": "execute_result"
    },
    {
     "data": {
      "image/png": "[encoded data removed]",
      "text/plain": [
       "<Figure size 432x288 with 1 Axes>"
      ]
     },
     "metadata": {
      "needs_background": "light"
     },
     "output_type": "display_data"
    }
   ],
   "source": [
    "# Plot roc curve \n",
    "%matplotlib inline  \n",
    "plt.ylabel('True Positive Rate')\n",
    "plt.xlabel('False Positive Rate')\n",
    "plt.title('ROC curve for quick stops')\n",
    "plt.plot(false_positive_rate, true_positive_rate)  \n"
   ]
  },
  {
   "cell_type": "code",
   "execution_count": 37,
   "metadata": {},
   "outputs": [
    {
     "name": "stdout",
     "output_type": "stream",
     "text": [
      "AUC for quick stops (LR) = 0.8537152188932856\n"
     ]
    }
   ],
   "source": [
    "# Compute AUC\n",
    "auc = metrics.auc(false_positive_rate, true_positive_rate)   # metrics also provide the auc area\n",
    "print(\"AUC for quick stops (LR) =\", auc)"
   ]
  },
  {
   "cell_type": "markdown",
   "metadata": {},
   "source": [
    "# SURFACE TAXIS ##"
   ]
  },
  {
   "cell_type": "code",
   "execution_count": 39,
   "metadata": {},
   "outputs": [],
   "source": [
    "# Dataframe labeling for Surface Taxis\n",
    "df_surface = df_norm.copy()\n",
    "df_surface['Surface_Taxi'] = 0\n",
    "\n",
    "df_surface.loc[(df_surface['datetime'].between('2022-09-19 21:53:50' , '2022-09-19 21:55:55' , inclusive='both')),['Surface_Taxi']] = 1\n",
    "df_surface.loc[(df_surface['datetime'].between('2022-09-19 22:04:00' , '2022-09-19 22:06:39' , inclusive='both')),['Surface_Taxi']] = 1\n",
    "df_surface.loc[(df_surface['datetime'].between('2022-09-20 20:25:40' , '2022-09-20 20:27:54' , inclusive='both')),['Surface_Taxi']] = 1\n",
    "df_surface.loc[(df_surface['datetime'].between('2022-09-22 21:16:37' , '2022-09-22 21:19:56' , inclusive='both')),['Surface_Taxi']] = 1\n",
    "df_surface.loc[(df_surface['datetime'].between('2022-09-22 21:43:16' , '2022-09-22 21:43:41' , inclusive='both')),['Surface_Taxi']] = 1\n",
    "df_surface.loc[(df_surface['datetime'].between('2022-10-06 13:52:16' , '2022-10-06 13:56:00' , inclusive='both')),['Surface_Taxi']] = 1\n"
   ]
  },
  {
   "cell_type": "code",
   "execution_count": 40,
   "metadata": {},
   "outputs": [
    {
     "data": {
      "text/plain": [
       "0    10078\n",
       "1      872\n",
       "Name: Surface_Taxi, dtype: int64"
      ]
     },
     "execution_count": 40,
     "metadata": {},
     "output_type": "execute_result"
    }
   ],
   "source": [
    "df_surface['Surface_Taxi'].value_counts()"
   ]
  },
  {
   "cell_type": "code",
   "execution_count": 41,
   "metadata": {},
   "outputs": [],
   "source": [
    "X2 = df_surface[model_features]\n",
    "y2 = df_surface['Surface_Taxi']"
   ]
  },
  {
   "cell_type": "code",
   "execution_count": 42,
   "metadata": {},
   "outputs": [],
   "source": [
    "x2_train, x2_test, y2_train, y2_test = train_test_split(X2, y2, test_size = 0.3, random_state = 100)"
   ]
  },
  {
   "cell_type": "code",
   "execution_count": 43,
   "metadata": {},
   "outputs": [],
   "source": [
    "LR2 = LogisticRegression()    # Bring empty logistic regression model"
   ]
  },
  {
   "cell_type": "code",
   "execution_count": 44,
   "metadata": {},
   "outputs": [
    {
     "data": {
      "text/plain": [
       "LogisticRegression()"
      ]
     },
     "execution_count": 44,
     "metadata": {},
     "output_type": "execute_result"
    }
   ],
   "source": [
    "LR2.fit(x2_train,y2_train)      # Train the model with training data"
   ]
  },
  {
   "cell_type": "code",
   "execution_count": 45,
   "metadata": {},
   "outputs": [],
   "source": [
    "y2_pred_LR = LR2.predict(x2_test)    # Get predicted y from the logistic regression model"
   ]
  },
  {
   "cell_type": "code",
   "execution_count": 46,
   "metadata": {},
   "outputs": [
    {
     "name": "stdout",
     "output_type": "stream",
     "text": [
      "Classification accuracy =  0.9713850837138508\n",
      "Recall =  0.8604651162790697\n",
      "Precision =  0.7928571428571428\n"
     ]
    }
   ],
   "source": [
    "# Get the classification accuracy, Recall, and Precision with the metrics function.\n",
    "LR2_accuracy = metrics.accuracy_score(y2_pred_LR,y2_test)\n",
    "print('Classification accuracy = ',LR2_accuracy)\n",
    "print('Recall = ',metrics.recall_score(y2_test, y2_pred_LR))\n",
    "print('Precision = ',metrics.precision_score(y2_test, y2_pred_LR))"
   ]
  },
  {
   "cell_type": "code",
   "execution_count": 47,
   "metadata": {},
   "outputs": [],
   "source": [
    "# Check the train data\n",
    "\n",
    "total = 0\n",
    "Surface_Taxi = 0\n",
    "non_Surface_Taxi = 0\n",
    "for i in y2_train:\n",
    "    if i == 1:\n",
    "        Surface_Taxi += 1\n",
    "    else:\n",
    "        non_Surface_Taxi += 1\n",
    "    total += 1"
   ]
  },
  {
   "cell_type": "code",
   "execution_count": 48,
   "metadata": {},
   "outputs": [
    {
     "name": "stdout",
     "output_type": "stream",
     "text": [
      "614\n",
      "7051\n",
      "0.92\n"
     ]
    }
   ],
   "source": [
    "print(Surface_Taxi)\n",
    "print(non_Surface_Taxi)\n",
    "print(round(non_Surface_Taxi/total,2))"
   ]
  },
  {
   "cell_type": "markdown",
   "metadata": {},
   "source": [
    "Create a balanced dataset & train Logistic regression"
   ]
  },
  {
   "cell_type": "code",
   "execution_count": 50,
   "metadata": {},
   "outputs": [],
   "source": [
    "df_surface_train = df_surface[df_surface['Surface_Taxi']==1]           # The original rows that have label 1\n",
    "non_df_surface_train = df_surface[df_surface['Surface_Taxi']==0]       # The original rows that have label 0"
   ]
  },
  {
   "cell_type": "code",
   "execution_count": 51,
   "metadata": {},
   "outputs": [
    {
     "name": "stdout",
     "output_type": "stream",
     "text": [
      "872\n",
      "10078\n"
     ]
    }
   ],
   "source": [
    "print(len(df_surface_train))\n",
    "print(len(non_df_surface_train))"
   ]
  },
  {
   "cell_type": "code",
   "execution_count": 52,
   "metadata": {},
   "outputs": [],
   "source": [
    "sampled_non_df_surface = non_df_surface_train.sample(n = 872)    # Sample 872 data points from the surface taxi data"
   ]
  },
  {
   "cell_type": "code",
   "execution_count": 53,
   "metadata": {},
   "outputs": [
    {
     "name": "stdout",
     "output_type": "stream",
     "text": [
      "872\n",
      "872\n"
     ]
    }
   ],
   "source": [
    "print(len(df_surface_train))\n",
    "print(len(sampled_non_df_surface))"
   ]
  },
  {
   "cell_type": "code",
   "execution_count": 54,
   "metadata": {},
   "outputs": [],
   "source": [
    "merged2 = pd.concat([df_surface_train, sampled_non_df_surface])     # After balancing, concatenating both classes into 1 dataframe"
   ]
  },
  {
   "cell_type": "code",
   "execution_count": 55,
   "metadata": {},
   "outputs": [
    {
     "name": "stdout",
     "output_type": "stream",
     "text": [
      "1744\n"
     ]
    }
   ],
   "source": [
    "print(len(merged2))"
   ]
  },
  {
   "cell_type": "code",
   "execution_count": 56,
   "metadata": {},
   "outputs": [
    {
     "data": {
      "text/html": [
       "<div>\n",
       "<style scoped>\n",
       "    .dataframe tbody tr th:only-of-type {\n",
       "        vertical-align: middle;\n",
       "    }\n",
       "\n",
       "    .dataframe tbody tr th {\n",
       "        vertical-align: top;\n",
       "    }\n",
       "\n",
       "    .dataframe thead th {\n",
       "        text-align: right;\n",
       "    }\n",
       "</style>\n",
       "<table border=\"1\" class=\"dataframe\">\n",
       "  <thead>\n",
       "    <tr style=\"text-align: right;\">\n",
       "      <th></th>\n",
       "      <th>index</th>\n",
       "      <th>datetime</th>\n",
       "      <th>latitude</th>\n",
       "      <th>longitude</th>\n",
       "      <th>absoluteAltitude</th>\n",
       "      <th>magneticHeading</th>\n",
       "      <th>trueHeading</th>\n",
       "      <th>groundSpeed</th>\n",
       "      <th>trueAirspeed</th>\n",
       "      <th>pitch</th>\n",
       "      <th>...</th>\n",
       "      <th>hasWeightOnWheels</th>\n",
       "      <th>turnRate to degPerSec</th>\n",
       "      <th>cyclicPositionPitch</th>\n",
       "      <th>cyclicPositionRoll</th>\n",
       "      <th>collectivePosition</th>\n",
       "      <th>antiTorquePedalPosition</th>\n",
       "      <th>throttlePosition</th>\n",
       "      <th>e1Torque</th>\n",
       "      <th>e2Torque</th>\n",
       "      <th>Surface_Taxi</th>\n",
       "    </tr>\n",
       "  </thead>\n",
       "  <tbody>\n",
       "    <tr>\n",
       "      <th>2758</th>\n",
       "      <td>0.049959</td>\n",
       "      <td>2022-09-19 21:53:50</td>\n",
       "      <td>0.620620</td>\n",
       "      <td>0.520495</td>\n",
       "      <td>0.000075</td>\n",
       "      <td>0.721499</td>\n",
       "      <td>0.687889</td>\n",
       "      <td>0.004623</td>\n",
       "      <td>0.004634</td>\n",
       "      <td>0.397440</td>\n",
       "      <td>...</td>\n",
       "      <td>1.0</td>\n",
       "      <td>0.501441</td>\n",
       "      <td>0.554546</td>\n",
       "      <td>0.327412</td>\n",
       "      <td>0.394815</td>\n",
       "      <td>0.526113</td>\n",
       "      <td>0.427424</td>\n",
       "      <td>0.265772</td>\n",
       "      <td>0.265772</td>\n",
       "      <td>1</td>\n",
       "    </tr>\n",
       "    <tr>\n",
       "      <th>2759</th>\n",
       "      <td>0.050366</td>\n",
       "      <td>2022-09-19 21:53:51</td>\n",
       "      <td>0.620620</td>\n",
       "      <td>0.520494</td>\n",
       "      <td>0.000080</td>\n",
       "      <td>0.722747</td>\n",
       "      <td>0.689136</td>\n",
       "      <td>0.010070</td>\n",
       "      <td>0.010064</td>\n",
       "      <td>0.394376</td>\n",
       "      <td>...</td>\n",
       "      <td>1.0</td>\n",
       "      <td>0.547306</td>\n",
       "      <td>0.532277</td>\n",
       "      <td>0.361988</td>\n",
       "      <td>0.405238</td>\n",
       "      <td>0.526708</td>\n",
       "      <td>0.452363</td>\n",
       "      <td>0.305748</td>\n",
       "      <td>0.305748</td>\n",
       "      <td>1</td>\n",
       "    </tr>\n",
       "    <tr>\n",
       "      <th>2760</th>\n",
       "      <td>0.050772</td>\n",
       "      <td>2022-09-19 21:53:52</td>\n",
       "      <td>0.620620</td>\n",
       "      <td>0.520494</td>\n",
       "      <td>0.000079</td>\n",
       "      <td>0.723614</td>\n",
       "      <td>0.690004</td>\n",
       "      <td>0.015751</td>\n",
       "      <td>0.015740</td>\n",
       "      <td>0.393776</td>\n",
       "      <td>...</td>\n",
       "      <td>1.0</td>\n",
       "      <td>0.554128</td>\n",
       "      <td>0.540213</td>\n",
       "      <td>0.358735</td>\n",
       "      <td>0.405397</td>\n",
       "      <td>0.530042</td>\n",
       "      <td>0.448724</td>\n",
       "      <td>0.308924</td>\n",
       "      <td>0.308924</td>\n",
       "      <td>1</td>\n",
       "    </tr>\n",
       "    <tr>\n",
       "      <th>2761</th>\n",
       "      <td>0.051178</td>\n",
       "      <td>2022-09-19 21:53:53</td>\n",
       "      <td>0.620620</td>\n",
       "      <td>0.520494</td>\n",
       "      <td>0.000083</td>\n",
       "      <td>0.724869</td>\n",
       "      <td>0.691258</td>\n",
       "      <td>0.018973</td>\n",
       "      <td>0.018960</td>\n",
       "      <td>0.393090</td>\n",
       "      <td>...</td>\n",
       "      <td>1.0</td>\n",
       "      <td>0.559548</td>\n",
       "      <td>0.541215</td>\n",
       "      <td>0.354423</td>\n",
       "      <td>0.405397</td>\n",
       "      <td>0.532890</td>\n",
       "      <td>0.439043</td>\n",
       "      <td>0.293702</td>\n",
       "      <td>0.293702</td>\n",
       "      <td>1</td>\n",
       "    </tr>\n",
       "    <tr>\n",
       "      <th>2762</th>\n",
       "      <td>0.051584</td>\n",
       "      <td>2022-09-19 21:53:54</td>\n",
       "      <td>0.620620</td>\n",
       "      <td>0.520494</td>\n",
       "      <td>0.000083</td>\n",
       "      <td>0.726070</td>\n",
       "      <td>0.692459</td>\n",
       "      <td>0.021710</td>\n",
       "      <td>0.021695</td>\n",
       "      <td>0.393869</td>\n",
       "      <td>...</td>\n",
       "      <td>1.0</td>\n",
       "      <td>0.559833</td>\n",
       "      <td>0.541128</td>\n",
       "      <td>0.350675</td>\n",
       "      <td>0.405397</td>\n",
       "      <td>0.531255</td>\n",
       "      <td>0.435287</td>\n",
       "      <td>0.286518</td>\n",
       "      <td>0.286518</td>\n",
       "      <td>1</td>\n",
       "    </tr>\n",
       "    <tr>\n",
       "      <th>...</th>\n",
       "      <td>...</td>\n",
       "      <td>...</td>\n",
       "      <td>...</td>\n",
       "      <td>...</td>\n",
       "      <td>...</td>\n",
       "      <td>...</td>\n",
       "      <td>...</td>\n",
       "      <td>...</td>\n",
       "      <td>...</td>\n",
       "      <td>...</td>\n",
       "      <td>...</td>\n",
       "      <td>...</td>\n",
       "      <td>...</td>\n",
       "      <td>...</td>\n",
       "      <td>...</td>\n",
       "      <td>...</td>\n",
       "      <td>...</td>\n",
       "      <td>...</td>\n",
       "      <td>...</td>\n",
       "      <td>...</td>\n",
       "      <td>...</td>\n",
       "    </tr>\n",
       "    <tr>\n",
       "      <th>2016</th>\n",
       "      <td>0.268481</td>\n",
       "      <td>2022-09-19 20:49:28</td>\n",
       "      <td>0.613369</td>\n",
       "      <td>0.524150</td>\n",
       "      <td>0.655566</td>\n",
       "      <td>0.516329</td>\n",
       "      <td>0.482138</td>\n",
       "      <td>0.846863</td>\n",
       "      <td>0.846301</td>\n",
       "      <td>0.411774</td>\n",
       "      <td>...</td>\n",
       "      <td>0.0</td>\n",
       "      <td>0.380486</td>\n",
       "      <td>0.455513</td>\n",
       "      <td>0.334000</td>\n",
       "      <td>0.554137</td>\n",
       "      <td>0.529272</td>\n",
       "      <td>0.630865</td>\n",
       "      <td>0.585308</td>\n",
       "      <td>0.585308</td>\n",
       "      <td>0</td>\n",
       "    </tr>\n",
       "    <tr>\n",
       "      <th>7356</th>\n",
       "      <td>0.055240</td>\n",
       "      <td>2022-10-06 13:51:18</td>\n",
       "      <td>0.606868</td>\n",
       "      <td>0.524788</td>\n",
       "      <td>0.019682</td>\n",
       "      <td>0.528923</td>\n",
       "      <td>0.494708</td>\n",
       "      <td>0.320887</td>\n",
       "      <td>0.321312</td>\n",
       "      <td>0.801973</td>\n",
       "      <td>...</td>\n",
       "      <td>0.0</td>\n",
       "      <td>0.687752</td>\n",
       "      <td>0.587181</td>\n",
       "      <td>0.294442</td>\n",
       "      <td>0.396789</td>\n",
       "      <td>0.558650</td>\n",
       "      <td>0.434977</td>\n",
       "      <td>0.265603</td>\n",
       "      <td>0.265603</td>\n",
       "      <td>0</td>\n",
       "    </tr>\n",
       "    <tr>\n",
       "      <th>5099</th>\n",
       "      <td>0.314379</td>\n",
       "      <td>2022-09-20 20:41:25</td>\n",
       "      <td>0.606850</td>\n",
       "      <td>0.524817</td>\n",
       "      <td>0.002312</td>\n",
       "      <td>0.085525</td>\n",
       "      <td>0.051510</td>\n",
       "      <td>0.041545</td>\n",
       "      <td>0.041550</td>\n",
       "      <td>0.473842</td>\n",
       "      <td>...</td>\n",
       "      <td>0.0</td>\n",
       "      <td>0.000000</td>\n",
       "      <td>0.661825</td>\n",
       "      <td>0.343811</td>\n",
       "      <td>0.554226</td>\n",
       "      <td>0.262540</td>\n",
       "      <td>0.547183</td>\n",
       "      <td>0.457831</td>\n",
       "      <td>0.457831</td>\n",
       "      <td>0</td>\n",
       "    </tr>\n",
       "    <tr>\n",
       "      <th>3328</th>\n",
       "      <td>0.281478</td>\n",
       "      <td>2022-09-19 22:03:20</td>\n",
       "      <td>0.620250</td>\n",
       "      <td>0.520362</td>\n",
       "      <td>0.000018</td>\n",
       "      <td>0.261543</td>\n",
       "      <td>0.228187</td>\n",
       "      <td>0.005460</td>\n",
       "      <td>0.005456</td>\n",
       "      <td>0.428878</td>\n",
       "      <td>...</td>\n",
       "      <td>1.0</td>\n",
       "      <td>0.000000</td>\n",
       "      <td>0.778998</td>\n",
       "      <td>0.287624</td>\n",
       "      <td>0.000081</td>\n",
       "      <td>0.040822</td>\n",
       "      <td>0.481205</td>\n",
       "      <td>0.354970</td>\n",
       "      <td>0.354970</td>\n",
       "      <td>0</td>\n",
       "    </tr>\n",
       "    <tr>\n",
       "      <th>8150</th>\n",
       "      <td>0.377742</td>\n",
       "      <td>2022-10-06 14:04:32</td>\n",
       "      <td>0.606808</td>\n",
       "      <td>0.524661</td>\n",
       "      <td>0.002841</td>\n",
       "      <td>0.091075</td>\n",
       "      <td>0.057088</td>\n",
       "      <td>0.020890</td>\n",
       "      <td>0.021343</td>\n",
       "      <td>0.437661</td>\n",
       "      <td>...</td>\n",
       "      <td>0.0</td>\n",
       "      <td>0.507012</td>\n",
       "      <td>0.566570</td>\n",
       "      <td>0.346930</td>\n",
       "      <td>0.590997</td>\n",
       "      <td>0.374733</td>\n",
       "      <td>0.570921</td>\n",
       "      <td>0.496960</td>\n",
       "      <td>0.496960</td>\n",
       "      <td>0</td>\n",
       "    </tr>\n",
       "  </tbody>\n",
       "</table>\n",
       "<p>1744 rows × 42 columns</p>\n",
       "</div>"
      ],
      "text/plain": [
       "         index            datetime  latitude  longitude  absoluteAltitude  \\\n",
       "2758  0.049959 2022-09-19 21:53:50  0.620620   0.520495          0.000075   \n",
       "2759  0.050366 2022-09-19 21:53:51  0.620620   0.520494          0.000080   \n",
       "2760  0.050772 2022-09-19 21:53:52  0.620620   0.520494          0.000079   \n",
       "2761  0.051178 2022-09-19 21:53:53  0.620620   0.520494          0.000083   \n",
       "2762  0.051584 2022-09-19 21:53:54  0.620620   0.520494          0.000083   \n",
       "...        ...                 ...       ...        ...               ...   \n",
       "2016  0.268481 2022-09-19 20:49:28  0.613369   0.524150          0.655566   \n",
       "7356  0.055240 2022-10-06 13:51:18  0.606868   0.524788          0.019682   \n",
       "5099  0.314379 2022-09-20 20:41:25  0.606850   0.524817          0.002312   \n",
       "3328  0.281478 2022-09-19 22:03:20  0.620250   0.520362          0.000018   \n",
       "8150  0.377742 2022-10-06 14:04:32  0.606808   0.524661          0.002841   \n",
       "\n",
       "      magneticHeading  trueHeading  groundSpeed  trueAirspeed     pitch  ...  \\\n",
       "2758         0.721499     0.687889     0.004623      0.004634  0.397440  ...   \n",
       "2759         0.722747     0.689136     0.010070      0.010064  0.394376  ...   \n",
       "2760         0.723614     0.690004     0.015751      0.015740  0.393776  ...   \n",
       "2761         0.724869     0.691258     0.018973      0.018960  0.393090  ...   \n",
       "2762         0.726070     0.692459     0.021710      0.021695  0.393869  ...   \n",
       "...               ...          ...          ...           ...       ...  ...   \n",
       "2016         0.516329     0.482138     0.846863      0.846301  0.411774  ...   \n",
       "7356         0.528923     0.494708     0.320887      0.321312  0.801973  ...   \n",
       "5099         0.085525     0.051510     0.041545      0.041550  0.473842  ...   \n",
       "3328         0.261543     0.228187     0.005460      0.005456  0.428878  ...   \n",
       "8150         0.091075     0.057088     0.020890      0.021343  0.437661  ...   \n",
       "\n",
       "      hasWeightOnWheels  turnRate to degPerSec  cyclicPositionPitch  \\\n",
       "2758                1.0               0.501441             0.554546   \n",
       "2759                1.0               0.547306             0.532277   \n",
       "2760                1.0               0.554128             0.540213   \n",
       "2761                1.0               0.559548             0.541215   \n",
       "2762                1.0               0.559833             0.541128   \n",
       "...                 ...                    ...                  ...   \n",
       "2016                0.0               0.380486             0.455513   \n",
       "7356                0.0               0.687752             0.587181   \n",
       "5099                0.0               0.000000             0.661825   \n",
       "3328                1.0               0.000000             0.778998   \n",
       "8150                0.0               0.507012             0.566570   \n",
       "\n",
       "      cyclicPositionRoll  collectivePosition  antiTorquePedalPosition  \\\n",
       "2758            0.327412            0.394815                 0.526113   \n",
       "2759            0.361988            0.405238                 0.526708   \n",
       "2760            0.358735            0.405397                 0.530042   \n",
       "2761            0.354423            0.405397                 0.532890   \n",
       "2762            0.350675            0.405397                 0.531255   \n",
       "...                  ...                 ...                      ...   \n",
       "2016            0.334000            0.554137                 0.529272   \n",
       "7356            0.294442            0.396789                 0.558650   \n",
       "5099            0.343811            0.554226                 0.262540   \n",
       "3328            0.287624            0.000081                 0.040822   \n",
       "8150            0.346930            0.590997                 0.374733   \n",
       "\n",
       "      throttlePosition  e1Torque  e2Torque  Surface_Taxi  \n",
       "2758          0.427424  0.265772  0.265772             1  \n",
       "2759          0.452363  0.305748  0.305748             1  \n",
       "2760          0.448724  0.308924  0.308924             1  \n",
       "2761          0.439043  0.293702  0.293702             1  \n",
       "2762          0.435287  0.286518  0.286518             1  \n",
       "...                ...       ...       ...           ...  \n",
       "2016          0.630865  0.585308  0.585308             0  \n",
       "7356          0.434977  0.265603  0.265603             0  \n",
       "5099          0.547183  0.457831  0.457831             0  \n",
       "3328          0.481205  0.354970  0.354970             0  \n",
       "8150          0.570921  0.496960  0.496960             0  \n",
       "\n",
       "[1744 rows x 42 columns]"
      ]
     },
     "execution_count": 56,
     "metadata": {},
     "output_type": "execute_result"
    }
   ],
   "source": [
    "merged2"
   ]
  },
  {
   "cell_type": "code",
   "execution_count": 57,
   "metadata": {},
   "outputs": [],
   "source": [
    "# Split the data into X and y\n",
    "x2 = merged2[model_features]   \n",
    "y2 = merged2['Surface_Taxi']"
   ]
  },
  {
   "cell_type": "code",
   "execution_count": 58,
   "metadata": {},
   "outputs": [],
   "source": [
    "x2_train, x2_test, y2_train, y2_test = train_test_split(x2, y2, test_size = 0.3, random_state = 0)"
   ]
  },
  {
   "cell_type": "code",
   "execution_count": 59,
   "metadata": {},
   "outputs": [
    {
     "name": "stdout",
     "output_type": "stream",
     "text": [
      "608\n",
      "612\n",
      "0.5016393442622951\n"
     ]
    }
   ],
   "source": [
    "total = 0\n",
    "Surface_Taxi = 0\n",
    "non_Surface_Taxi = 0\n",
    "for i in y2_train:\n",
    "    if i == 1:\n",
    "        Surface_Taxi += 1\n",
    "    else:\n",
    "        non_Surface_Taxi += 1\n",
    "    total += 1\n",
    "    \n",
    "print(Surface_Taxi)\n",
    "print(non_Surface_Taxi)\n",
    "print(non_Surface_Taxi/total)"
   ]
  },
  {
   "cell_type": "code",
   "execution_count": 60,
   "metadata": {},
   "outputs": [
    {
     "name": "stdout",
     "output_type": "stream",
     "text": [
      "Surface Taxi Accuracy =  0.9351145038167938\n",
      "Recall =  0.928030303030303\n",
      "Precision =  0.9423076923076923\n"
     ]
    }
   ],
   "source": [
    "LR2 = LogisticRegression()\n",
    "LR2.fit(x2_train,y2_train)\n",
    "y2_pred_LR = LR2.predict(x2_test)\n",
    "\n",
    "LR2_accuracy = metrics.accuracy_score(y2_pred_LR,y2_test)\n",
    "print('Surface Taxi Accuracy = ',LR2_accuracy)\n",
    "print('Recall = ',metrics.recall_score(y2_test, y2_pred_LR))\n",
    "print('Precision = ',metrics.precision_score(y2_test, y2_pred_LR))"
   ]
  },
  {
   "cell_type": "code",
   "execution_count": 61,
   "metadata": {},
   "outputs": [
    {
     "data": {
      "image/png": "[encoded data removed]",
      "text/plain": [
       "<Figure size 432x288 with 2 Axes>"
      ]
     },
     "metadata": {
      "needs_background": "light"
     },
     "output_type": "display_data"
    }
   ],
   "source": [
    "cm2 = metrics.confusion_matrix(y2_test, y2_pred_LR)    # Create a confusion matrix from predicted y and original y value.\n",
    "                                                    \n",
    "#sns.heatmap(cm,annot=True,cmap='Reds',fmt='.0f')    # Bring heatmap from seaborn and fit confusion matrix\n",
    "                                                    # annot = True can show the confusion matrix values\n",
    "                                                    # cmap can decide the color of heatmap\n",
    "                                                    # fmt can decide the type of presentation of confusion matrix values\n",
    "            \n",
    "ax2= plt.subplot()\n",
    "sns.heatmap(cm2, annot=True, cmap = 'Reds', fmt='.0f', ax=ax2);  \n",
    "\n",
    "# labels, title and ticks\n",
    "ax2.set_xlabel('Predicted labels');ax2.set_ylabel('True labels'); \n",
    "ax2.set_title('Confusion Matrix for Surface Taxis')\n",
    "ax2.xaxis.set_ticklabels(['Not_Surface_Taxi', 'Surface_Taxi']); ax2.yaxis.set_ticklabels(['Not_Surface_Taxi', 'Surface_Taxi']);"
   ]
  },
  {
   "cell_type": "code",
   "execution_count": 62,
   "metadata": {},
   "outputs": [],
   "source": [
    "y2_pred_proba = LR2.predict_proba(x2_test)   # Get the probability of LR classification \n",
    "                                          \n",
    "false_positive_rate2, true_positive_rate2, thresholds2 = metrics.roc_curve(y2_test, y2_pred_proba[:,1])     \n",
    "# Orignally predict_proba returned 2 values for both classes. \n",
    "# So, we picked second one which gives the probability of class 1"
   ]
  },
  {
   "cell_type": "code",
   "execution_count": 94,
   "metadata": {},
   "outputs": [
    {
     "data": {
      "text/plain": [
       "[<matplotlib.lines.Line2D at 0x1ba1fb059d0>]"
      ]
     },
     "execution_count": 94,
     "metadata": {},
     "output_type": "execute_result"
    },
    {
     "data": {
      "image/png": "[encoded data removed]",
      "text/plain": [
       "<Figure size 432x288 with 1 Axes>"
      ]
     },
     "metadata": {
      "needs_background": "light"
     },
     "output_type": "display_data"
    }
   ],
   "source": [
    "# Plot ROC curve\n",
    "%matplotlib inline  \n",
    "plt.ylabel('True Positive Rate')\n",
    "plt.xlabel('False Positive Rate')\n",
    "plt.title('ROC curve for surface taxis')\n",
    "plt.plot(false_positive_rate2, true_positive_rate2)  \n"
   ]
  },
  {
   "cell_type": "code",
   "execution_count": 95,
   "metadata": {
    "scrolled": true
   },
   "outputs": [
    {
     "name": "stdout",
     "output_type": "stream",
     "text": [
      "AUC for surface taxis (LR) = 0.9638111888111888\n"
     ]
    }
   ],
   "source": [
    "# Compute AUC\n",
    "auc2 = metrics.auc(false_positive_rate2, true_positive_rate2)   # metrics also provide the auc area\n",
    "print(\"AUC for surface taxis (LR) =\", auc2)"
   ]
  },
  {
   "cell_type": "markdown",
   "metadata": {},
   "source": [
    "# HOVER TAXIS ##"
   ]
  },
  {
   "cell_type": "code",
   "execution_count": 66,
   "metadata": {},
   "outputs": [],
   "source": [
    "# Dataframe labeling for Hover Taxis\n",
    "df_h = df_norm.copy()\n",
    "df_h['hover'] = 0\n",
    "\n",
    "df_h.loc[(df_h['datetime'].between('2022-09-19 21:57:07' , '2022-09-19 21:59:20' , inclusive='both')),['hover']] = 1\n",
    "df_h.loc[(df_h['datetime'].between('2022-09-19 22:08:15' , '2022-09-19 22:10:24' , inclusive='both')),['hover']] = 1\n",
    "df_h.loc[(df_h['datetime'].between('2022-09-20 20:28:44' , '2022-09-20 20:30:06' , inclusive='both')),['hover']] = 1\n",
    "df_h.loc[(df_h['datetime'].between('2022-09-20 20:30:31' , '2022-09-20 20:32:16' , inclusive='both')),['hover']] = 1\n",
    "df_h.loc[(df_h['datetime'].between('2022-09-20 20:32:39' , '2022-09-20 20:34:06' , inclusive='both')),['hover']] = 1\n",
    "df_h.loc[(df_h['datetime'].between('2022-09-20 20:34:50' , '2022-09-20 20:36:51' , inclusive='both')),['hover']] = 1\n",
    "df_h.loc[(df_h['datetime'].between('2022-09-22 21:20:41' , '2022-09-22 21:23:56' , inclusive='both')),['hover']] = 1\n",
    "df_h.loc[(df_h['datetime'].between('2022-09-22 21:28:35' , '2022-09-22 21:29:46' , inclusive='both')),['hover']] = 1\n",
    "df_h.loc[(df_h['datetime'].between('2022-09-22 21:44:09' , '2022-09-22 21:45:31' , inclusive='both')),['hover']] = 1\n",
    "df_h.loc[(df_h['datetime'].between('2022-10-06 13:56:43' , '2022-10-06 14:00:40' , inclusive='both')),['hover']] = 1\n",
    "df_h.loc[(df_h['datetime'].between('2022-10-20 21:42:00' , '2022-10-20 21:46:30' , inclusive='both')),['hover']] = 1\n",
    "df_h.loc[(df_h['datetime'].between('2022-10-20 21:50:00' , '2022-10-20 21:52:05' , inclusive='both')),['hover']] = 1\n",
    "df_h.loc[(df_h['datetime'].between('2022-10-20 21:54:00' , '2022-10-20 21:56:45' , inclusive='both')),['hover']] = 1\n",
    "df_h.loc[(df_h['datetime'].between('2022-10-20 21:58:00' , '2022-10-20 22:00:08' , inclusive='both')),['hover']] = 1\n"
   ]
  },
  {
   "cell_type": "code",
   "execution_count": 67,
   "metadata": {},
   "outputs": [
    {
     "data": {
      "text/plain": [
       "0    9006\n",
       "1    1944\n",
       "Name: hover, dtype: int64"
      ]
     },
     "execution_count": 67,
     "metadata": {},
     "output_type": "execute_result"
    }
   ],
   "source": [
    "df_h['hover'].value_counts()"
   ]
  },
  {
   "cell_type": "code",
   "execution_count": 68,
   "metadata": {},
   "outputs": [],
   "source": [
    "X3 = df_h[model_features]\n",
    "y3 = df_h['hover']"
   ]
  },
  {
   "cell_type": "code",
   "execution_count": 69,
   "metadata": {},
   "outputs": [],
   "source": [
    "x3_train, x3_test, y3_train, y3_test = train_test_split(X3, y3, test_size = 0.3, random_state = 100)"
   ]
  },
  {
   "cell_type": "code",
   "execution_count": 70,
   "metadata": {},
   "outputs": [],
   "source": [
    "LR3 = LogisticRegression()    # Bring empty logistic regression model"
   ]
  },
  {
   "cell_type": "code",
   "execution_count": 71,
   "metadata": {},
   "outputs": [
    {
     "data": {
      "text/plain": [
       "LogisticRegression()"
      ]
     },
     "execution_count": 71,
     "metadata": {},
     "output_type": "execute_result"
    }
   ],
   "source": [
    "LR3.fit(x3_train,y3_train)      # Train the model with training data"
   ]
  },
  {
   "cell_type": "code",
   "execution_count": 72,
   "metadata": {},
   "outputs": [],
   "source": [
    "y3_pred_LR = LR3.predict(x3_test)    # Get predicted y from the logistic regression model"
   ]
  },
  {
   "cell_type": "code",
   "execution_count": 73,
   "metadata": {},
   "outputs": [
    {
     "name": "stdout",
     "output_type": "stream",
     "text": [
      "Classification accuracy =  0.8295281582952816\n",
      "Recall =  0.08635578583765112\n",
      "Precision =  0.6172839506172839\n"
     ]
    }
   ],
   "source": [
    "# Get the classification accuracy, Recall, and Precision with the metrics function.\n",
    "LR3_accuracy = metrics.accuracy_score(y3_pred_LR,y3_test)\n",
    "print('Classification accuracy = ',LR3_accuracy)\n",
    "print('Recall = ',metrics.recall_score(y3_test, y3_pred_LR))\n",
    "print('Precision = ',metrics.precision_score(y3_test, y3_pred_LR))"
   ]
  },
  {
   "cell_type": "code",
   "execution_count": 74,
   "metadata": {},
   "outputs": [],
   "source": [
    "# Check the train data\n",
    "\n",
    "total = 0\n",
    "h = 0\n",
    "non_h = 0\n",
    "for i in y3_train:\n",
    "    if i == 1:\n",
    "        h += 1\n",
    "    else:\n",
    "        non_h += 1\n",
    "    total += 1"
   ]
  },
  {
   "cell_type": "code",
   "execution_count": 75,
   "metadata": {},
   "outputs": [
    {
     "name": "stdout",
     "output_type": "stream",
     "text": [
      "1365\n",
      "6300\n",
      "0.82\n"
     ]
    }
   ],
   "source": [
    "print(h)\n",
    "print(non_h)\n",
    "print(round(non_h/total,2))"
   ]
  },
  {
   "cell_type": "markdown",
   "metadata": {},
   "source": [
    "Create a balanced dataset & train Logistic regression"
   ]
  },
  {
   "cell_type": "code",
   "execution_count": 77,
   "metadata": {},
   "outputs": [],
   "source": [
    "df_h_train = df_h[df_h['hover']==1]           # The original rows that have label 1\n",
    "non_df_h_train = df_h[df_h['hover']==0]       # The original rows that have label 0"
   ]
  },
  {
   "cell_type": "code",
   "execution_count": 78,
   "metadata": {},
   "outputs": [
    {
     "name": "stdout",
     "output_type": "stream",
     "text": [
      "1944\n",
      "9006\n"
     ]
    }
   ],
   "source": [
    "print(len(df_h_train))\n",
    "print(len(non_df_h_train))"
   ]
  },
  {
   "cell_type": "code",
   "execution_count": 79,
   "metadata": {},
   "outputs": [],
   "source": [
    "sampled_non_df_h = non_df_h_train.sample(n = 1944)    # Sample 1944 data points from the hover taxi data"
   ]
  },
  {
   "cell_type": "code",
   "execution_count": 80,
   "metadata": {},
   "outputs": [
    {
     "name": "stdout",
     "output_type": "stream",
     "text": [
      "1944\n",
      "1944\n"
     ]
    }
   ],
   "source": [
    "print(len(df_h_train))\n",
    "print(len(sampled_non_df_h))"
   ]
  },
  {
   "cell_type": "code",
   "execution_count": 81,
   "metadata": {},
   "outputs": [],
   "source": [
    "merged3 = pd.concat([df_h_train, sampled_non_df_h])     # After balancing, concatenating  both classes into 1 dataframe"
   ]
  },
  {
   "cell_type": "code",
   "execution_count": 82,
   "metadata": {},
   "outputs": [
    {
     "name": "stdout",
     "output_type": "stream",
     "text": [
      "3888\n"
     ]
    }
   ],
   "source": [
    "print(len(merged3))"
   ]
  },
  {
   "cell_type": "code",
   "execution_count": 83,
   "metadata": {},
   "outputs": [
    {
     "data": {
      "text/html": [
       "<div>\n",
       "<style scoped>\n",
       "    .dataframe tbody tr th:only-of-type {\n",
       "        vertical-align: middle;\n",
       "    }\n",
       "\n",
       "    .dataframe tbody tr th {\n",
       "        vertical-align: top;\n",
       "    }\n",
       "\n",
       "    .dataframe thead th {\n",
       "        text-align: right;\n",
       "    }\n",
       "</style>\n",
       "<table border=\"1\" class=\"dataframe\">\n",
       "  <thead>\n",
       "    <tr style=\"text-align: right;\">\n",
       "      <th></th>\n",
       "      <th>index</th>\n",
       "      <th>datetime</th>\n",
       "      <th>latitude</th>\n",
       "      <th>longitude</th>\n",
       "      <th>absoluteAltitude</th>\n",
       "      <th>magneticHeading</th>\n",
       "      <th>trueHeading</th>\n",
       "      <th>groundSpeed</th>\n",
       "      <th>trueAirspeed</th>\n",
       "      <th>pitch</th>\n",
       "      <th>...</th>\n",
       "      <th>hasWeightOnWheels</th>\n",
       "      <th>turnRate to degPerSec</th>\n",
       "      <th>cyclicPositionPitch</th>\n",
       "      <th>cyclicPositionRoll</th>\n",
       "      <th>collectivePosition</th>\n",
       "      <th>antiTorquePedalPosition</th>\n",
       "      <th>throttlePosition</th>\n",
       "      <th>e1Torque</th>\n",
       "      <th>e2Torque</th>\n",
       "      <th>hover</th>\n",
       "    </tr>\n",
       "  </thead>\n",
       "  <tbody>\n",
       "    <tr>\n",
       "      <th>2955</th>\n",
       "      <td>0.129976</td>\n",
       "      <td>2022-09-19 21:57:07</td>\n",
       "      <td>0.620593</td>\n",
       "      <td>0.520431</td>\n",
       "      <td>0.001074</td>\n",
       "      <td>0.707232</td>\n",
       "      <td>0.673646</td>\n",
       "      <td>3.799078e-02</td>\n",
       "      <td>0.037993</td>\n",
       "      <td>0.509500</td>\n",
       "      <td>...</td>\n",
       "      <td>0.0</td>\n",
       "      <td>0.426301</td>\n",
       "      <td>0.647028</td>\n",
       "      <td>0.350176</td>\n",
       "      <td>0.525807</td>\n",
       "      <td>0.411964</td>\n",
       "      <td>0.522649</td>\n",
       "      <td>0.417270</td>\n",
       "      <td>0.417270</td>\n",
       "      <td>1</td>\n",
       "    </tr>\n",
       "    <tr>\n",
       "      <th>2956</th>\n",
       "      <td>0.130382</td>\n",
       "      <td>2022-09-19 21:57:08</td>\n",
       "      <td>0.620593</td>\n",
       "      <td>0.520431</td>\n",
       "      <td>0.001071</td>\n",
       "      <td>0.706727</td>\n",
       "      <td>0.673142</td>\n",
       "      <td>3.938552e-02</td>\n",
       "      <td>0.039366</td>\n",
       "      <td>0.521507</td>\n",
       "      <td>...</td>\n",
       "      <td>0.0</td>\n",
       "      <td>0.446156</td>\n",
       "      <td>0.638977</td>\n",
       "      <td>0.354125</td>\n",
       "      <td>0.527228</td>\n",
       "      <td>0.434687</td>\n",
       "      <td>0.525507</td>\n",
       "      <td>0.423082</td>\n",
       "      <td>0.423082</td>\n",
       "      <td>1</td>\n",
       "    </tr>\n",
       "    <tr>\n",
       "      <th>2957</th>\n",
       "      <td>0.130788</td>\n",
       "      <td>2022-09-19 21:57:09</td>\n",
       "      <td>0.620593</td>\n",
       "      <td>0.520431</td>\n",
       "      <td>0.001167</td>\n",
       "      <td>0.708063</td>\n",
       "      <td>0.674477</td>\n",
       "      <td>4.100958e-02</td>\n",
       "      <td>0.041006</td>\n",
       "      <td>0.525442</td>\n",
       "      <td>...</td>\n",
       "      <td>0.0</td>\n",
       "      <td>0.510974</td>\n",
       "      <td>0.639586</td>\n",
       "      <td>0.359472</td>\n",
       "      <td>0.527555</td>\n",
       "      <td>0.439648</td>\n",
       "      <td>0.524512</td>\n",
       "      <td>0.422523</td>\n",
       "      <td>0.422523</td>\n",
       "      <td>1</td>\n",
       "    </tr>\n",
       "    <tr>\n",
       "      <th>2958</th>\n",
       "      <td>0.131194</td>\n",
       "      <td>2022-09-19 21:57:10</td>\n",
       "      <td>0.620593</td>\n",
       "      <td>0.520431</td>\n",
       "      <td>0.001286</td>\n",
       "      <td>0.709390</td>\n",
       "      <td>0.675803</td>\n",
       "      <td>4.317065e-02</td>\n",
       "      <td>0.043163</td>\n",
       "      <td>0.524187</td>\n",
       "      <td>...</td>\n",
       "      <td>0.0</td>\n",
       "      <td>0.556951</td>\n",
       "      <td>0.636823</td>\n",
       "      <td>0.375970</td>\n",
       "      <td>0.527612</td>\n",
       "      <td>0.445098</td>\n",
       "      <td>0.523032</td>\n",
       "      <td>0.419814</td>\n",
       "      <td>0.419814</td>\n",
       "      <td>1</td>\n",
       "    </tr>\n",
       "    <tr>\n",
       "      <th>2959</th>\n",
       "      <td>0.131600</td>\n",
       "      <td>2022-09-19 21:57:11</td>\n",
       "      <td>0.620592</td>\n",
       "      <td>0.520430</td>\n",
       "      <td>0.001399</td>\n",
       "      <td>0.712110</td>\n",
       "      <td>0.678522</td>\n",
       "      <td>4.611323e-02</td>\n",
       "      <td>0.046101</td>\n",
       "      <td>0.521596</td>\n",
       "      <td>...</td>\n",
       "      <td>0.0</td>\n",
       "      <td>0.672467</td>\n",
       "      <td>0.635268</td>\n",
       "      <td>0.378210</td>\n",
       "      <td>0.527487</td>\n",
       "      <td>0.451222</td>\n",
       "      <td>0.521737</td>\n",
       "      <td>0.417330</td>\n",
       "      <td>0.417330</td>\n",
       "      <td>1</td>\n",
       "    </tr>\n",
       "    <tr>\n",
       "      <th>...</th>\n",
       "      <td>...</td>\n",
       "      <td>...</td>\n",
       "      <td>...</td>\n",
       "      <td>...</td>\n",
       "      <td>...</td>\n",
       "      <td>...</td>\n",
       "      <td>...</td>\n",
       "      <td>...</td>\n",
       "      <td>...</td>\n",
       "      <td>...</td>\n",
       "      <td>...</td>\n",
       "      <td>...</td>\n",
       "      <td>...</td>\n",
       "      <td>...</td>\n",
       "      <td>...</td>\n",
       "      <td>...</td>\n",
       "      <td>...</td>\n",
       "      <td>...</td>\n",
       "      <td>...</td>\n",
       "      <td>...</td>\n",
       "      <td>...</td>\n",
       "    </tr>\n",
       "    <tr>\n",
       "      <th>3819</th>\n",
       "      <td>0.480910</td>\n",
       "      <td>2022-09-19 22:11:31</td>\n",
       "      <td>0.620533</td>\n",
       "      <td>0.520500</td>\n",
       "      <td>0.000096</td>\n",
       "      <td>0.207917</td>\n",
       "      <td>0.174545</td>\n",
       "      <td>5.648208e-07</td>\n",
       "      <td>0.000004</td>\n",
       "      <td>0.516598</td>\n",
       "      <td>...</td>\n",
       "      <td>0.0</td>\n",
       "      <td>0.500163</td>\n",
       "      <td>0.869177</td>\n",
       "      <td>0.534102</td>\n",
       "      <td>0.006373</td>\n",
       "      <td>0.325592</td>\n",
       "      <td>0.455381</td>\n",
       "      <td>0.314940</td>\n",
       "      <td>0.314940</td>\n",
       "      <td>0</td>\n",
       "    </tr>\n",
       "    <tr>\n",
       "      <th>788</th>\n",
       "      <td>0.320065</td>\n",
       "      <td>2022-09-19 20:24:50</td>\n",
       "      <td>0.603823</td>\n",
       "      <td>0.525623</td>\n",
       "      <td>0.000086</td>\n",
       "      <td>0.960542</td>\n",
       "      <td>0.926015</td>\n",
       "      <td>2.991291e-03</td>\n",
       "      <td>0.003003</td>\n",
       "      <td>0.421844</td>\n",
       "      <td>...</td>\n",
       "      <td>1.0</td>\n",
       "      <td>0.554307</td>\n",
       "      <td>0.654062</td>\n",
       "      <td>0.425588</td>\n",
       "      <td>0.447796</td>\n",
       "      <td>0.526915</td>\n",
       "      <td>0.470305</td>\n",
       "      <td>0.319675</td>\n",
       "      <td>0.319675</td>\n",
       "      <td>0</td>\n",
       "    </tr>\n",
       "    <tr>\n",
       "      <th>2559</th>\n",
       "      <td>0.489033</td>\n",
       "      <td>2022-09-19 20:58:31</td>\n",
       "      <td>0.607395</td>\n",
       "      <td>0.524763</td>\n",
       "      <td>0.048431</td>\n",
       "      <td>0.373986</td>\n",
       "      <td>0.339838</td>\n",
       "      <td>3.311122e-01</td>\n",
       "      <td>0.331016</td>\n",
       "      <td>0.575926</td>\n",
       "      <td>...</td>\n",
       "      <td>0.0</td>\n",
       "      <td>1.000000</td>\n",
       "      <td>0.603009</td>\n",
       "      <td>0.356535</td>\n",
       "      <td>0.393063</td>\n",
       "      <td>0.826585</td>\n",
       "      <td>0.419327</td>\n",
       "      <td>0.266524</td>\n",
       "      <td>0.266524</td>\n",
       "      <td>0</td>\n",
       "    </tr>\n",
       "    <tr>\n",
       "      <th>5128</th>\n",
       "      <td>0.326158</td>\n",
       "      <td>2022-09-20 20:41:54</td>\n",
       "      <td>0.606865</td>\n",
       "      <td>0.524814</td>\n",
       "      <td>0.000007</td>\n",
       "      <td>0.820794</td>\n",
       "      <td>0.786439</td>\n",
       "      <td>5.523226e-05</td>\n",
       "      <td>0.000057</td>\n",
       "      <td>0.427389</td>\n",
       "      <td>...</td>\n",
       "      <td>1.0</td>\n",
       "      <td>0.464067</td>\n",
       "      <td>0.672764</td>\n",
       "      <td>0.427993</td>\n",
       "      <td>0.000768</td>\n",
       "      <td>0.420710</td>\n",
       "      <td>0.175331</td>\n",
       "      <td>0.183658</td>\n",
       "      <td>0.183658</td>\n",
       "      <td>0</td>\n",
       "    </tr>\n",
       "    <tr>\n",
       "      <th>4236</th>\n",
       "      <td>0.115353</td>\n",
       "      <td>2022-09-20 20:26:51</td>\n",
       "      <td>0.606794</td>\n",
       "      <td>0.524799</td>\n",
       "      <td>0.000347</td>\n",
       "      <td>0.362123</td>\n",
       "      <td>0.327983</td>\n",
       "      <td>8.136273e-02</td>\n",
       "      <td>0.081309</td>\n",
       "      <td>0.284553</td>\n",
       "      <td>...</td>\n",
       "      <td>1.0</td>\n",
       "      <td>0.435746</td>\n",
       "      <td>0.312243</td>\n",
       "      <td>0.295135</td>\n",
       "      <td>0.369044</td>\n",
       "      <td>0.494278</td>\n",
       "      <td>0.424869</td>\n",
       "      <td>0.274391</td>\n",
       "      <td>0.274391</td>\n",
       "      <td>0</td>\n",
       "    </tr>\n",
       "  </tbody>\n",
       "</table>\n",
       "<p>3888 rows × 42 columns</p>\n",
       "</div>"
      ],
      "text/plain": [
       "         index            datetime  latitude  longitude  absoluteAltitude  \\\n",
       "2955  0.129976 2022-09-19 21:57:07  0.620593   0.520431          0.001074   \n",
       "2956  0.130382 2022-09-19 21:57:08  0.620593   0.520431          0.001071   \n",
       "2957  0.130788 2022-09-19 21:57:09  0.620593   0.520431          0.001167   \n",
       "2958  0.131194 2022-09-19 21:57:10  0.620593   0.520431          0.001286   \n",
       "2959  0.131600 2022-09-19 21:57:11  0.620592   0.520430          0.001399   \n",
       "...        ...                 ...       ...        ...               ...   \n",
       "3819  0.480910 2022-09-19 22:11:31  0.620533   0.520500          0.000096   \n",
       "788   0.320065 2022-09-19 20:24:50  0.603823   0.525623          0.000086   \n",
       "2559  0.489033 2022-09-19 20:58:31  0.607395   0.524763          0.048431   \n",
       "5128  0.326158 2022-09-20 20:41:54  0.606865   0.524814          0.000007   \n",
       "4236  0.115353 2022-09-20 20:26:51  0.606794   0.524799          0.000347   \n",
       "\n",
       "      magneticHeading  trueHeading   groundSpeed  trueAirspeed     pitch  ...  \\\n",
       "2955         0.707232     0.673646  3.799078e-02      0.037993  0.509500  ...   \n",
       "2956         0.706727     0.673142  3.938552e-02      0.039366  0.521507  ...   \n",
       "2957         0.708063     0.674477  4.100958e-02      0.041006  0.525442  ...   \n",
       "2958         0.709390     0.675803  4.317065e-02      0.043163  0.524187  ...   \n",
       "2959         0.712110     0.678522  4.611323e-02      0.046101  0.521596  ...   \n",
       "...               ...          ...           ...           ...       ...  ...   \n",
       "3819         0.207917     0.174545  5.648208e-07      0.000004  0.516598  ...   \n",
       "788          0.960542     0.926015  2.991291e-03      0.003003  0.421844  ...   \n",
       "2559         0.373986     0.339838  3.311122e-01      0.331016  0.575926  ...   \n",
       "5128         0.820794     0.786439  5.523226e-05      0.000057  0.427389  ...   \n",
       "4236         0.362123     0.327983  8.136273e-02      0.081309  0.284553  ...   \n",
       "\n",
       "      hasWeightOnWheels  turnRate to degPerSec  cyclicPositionPitch  \\\n",
       "2955                0.0               0.426301             0.647028   \n",
       "2956                0.0               0.446156             0.638977   \n",
       "2957                0.0               0.510974             0.639586   \n",
       "2958                0.0               0.556951             0.636823   \n",
       "2959                0.0               0.672467             0.635268   \n",
       "...                 ...                    ...                  ...   \n",
       "3819                0.0               0.500163             0.869177   \n",
       "788                 1.0               0.554307             0.654062   \n",
       "2559                0.0               1.000000             0.603009   \n",
       "5128                1.0               0.464067             0.672764   \n",
       "4236                1.0               0.435746             0.312243   \n",
       "\n",
       "      cyclicPositionRoll  collectivePosition  antiTorquePedalPosition  \\\n",
       "2955            0.350176            0.525807                 0.411964   \n",
       "2956            0.354125            0.527228                 0.434687   \n",
       "2957            0.359472            0.527555                 0.439648   \n",
       "2958            0.375970            0.527612                 0.445098   \n",
       "2959            0.378210            0.527487                 0.451222   \n",
       "...                  ...                 ...                      ...   \n",
       "3819            0.534102            0.006373                 0.325592   \n",
       "788             0.425588            0.447796                 0.526915   \n",
       "2559            0.356535            0.393063                 0.826585   \n",
       "5128            0.427993            0.000768                 0.420710   \n",
       "4236            0.295135            0.369044                 0.494278   \n",
       "\n",
       "      throttlePosition  e1Torque  e2Torque  hover  \n",
       "2955          0.522649  0.417270  0.417270      1  \n",
       "2956          0.525507  0.423082  0.423082      1  \n",
       "2957          0.524512  0.422523  0.422523      1  \n",
       "2958          0.523032  0.419814  0.419814      1  \n",
       "2959          0.521737  0.417330  0.417330      1  \n",
       "...                ...       ...       ...    ...  \n",
       "3819          0.455381  0.314940  0.314940      0  \n",
       "788           0.470305  0.319675  0.319675      0  \n",
       "2559          0.419327  0.266524  0.266524      0  \n",
       "5128          0.175331  0.183658  0.183658      0  \n",
       "4236          0.424869  0.274391  0.274391      0  \n",
       "\n",
       "[3888 rows x 42 columns]"
      ]
     },
     "execution_count": 83,
     "metadata": {},
     "output_type": "execute_result"
    }
   ],
   "source": [
    "merged3"
   ]
  },
  {
   "cell_type": "code",
   "execution_count": 84,
   "metadata": {},
   "outputs": [],
   "source": [
    "# Split the data into X and y\n",
    "x3 = merged3[model_features]   \n",
    "y3 = merged3['hover']"
   ]
  },
  {
   "cell_type": "code",
   "execution_count": 85,
   "metadata": {},
   "outputs": [],
   "source": [
    "x3_train, x3_test, y3_train, y3_test = train_test_split(x3, y3, test_size = 0.3, random_state = 0)"
   ]
  },
  {
   "cell_type": "code",
   "execution_count": 86,
   "metadata": {},
   "outputs": [
    {
     "name": "stdout",
     "output_type": "stream",
     "text": [
      "1360\n",
      "1361\n",
      "0.5001837559720691\n"
     ]
    }
   ],
   "source": [
    "total = 0\n",
    "h = 0\n",
    "non_h = 0\n",
    "for i in y3_train:\n",
    "    if i == 1:\n",
    "        h += 1\n",
    "    else:\n",
    "        non_h += 1\n",
    "    total += 1\n",
    "    \n",
    "print(h)\n",
    "print(non_h)\n",
    "print(non_h/total)"
   ]
  },
  {
   "cell_type": "code",
   "execution_count": 87,
   "metadata": {},
   "outputs": [
    {
     "name": "stdout",
     "output_type": "stream",
     "text": [
      "Hover Taxi Accuracy =  0.8406169665809768\n",
      "Recall =  0.9571917808219178\n",
      "Precision =  0.7763888888888889\n"
     ]
    }
   ],
   "source": [
    "LR3 = LogisticRegression()\n",
    "LR3.fit(x3_train,y3_train)\n",
    "y3_pred_LR = LR3.predict(x3_test)\n",
    "\n",
    "LR3_accuracy = metrics.accuracy_score(y3_pred_LR,y3_test)\n",
    "print('Hover Taxi Accuracy = ',LR3_accuracy)\n",
    "print('Recall = ',metrics.recall_score(y3_test, y3_pred_LR))\n",
    "print('Precision = ',metrics.precision_score(y3_test, y3_pred_LR))"
   ]
  },
  {
   "cell_type": "code",
   "execution_count": 88,
   "metadata": {},
   "outputs": [
    {
     "data": {
      "image/png": "[encoded data removed]",
      "text/plain": [
       "<Figure size 432x288 with 2 Axes>"
      ]
     },
     "metadata": {
      "needs_background": "light"
     },
     "output_type": "display_data"
    }
   ],
   "source": [
    "cm3 = metrics.confusion_matrix(y3_test, y3_pred_LR)    # Create a confusion matrix from predicted y and original y value.\n",
    "                                                    \n",
    "#sns.heatmap(cm,annot=True,cmap='Reds',fmt='.0f')    # Bring heatmap from seaborn and fit confusion matrix\n",
    "                                                    # annot = True can show the confusion matrix values\n",
    "                                                    # cmap can decide the color of heatmap\n",
    "                                                    # fmt can decide the type of presentation of confusion matrix values\n",
    "            \n",
    "ax3= plt.subplot()\n",
    "sns.heatmap(cm3, annot=True, cmap = 'Reds', fmt='.0f', ax=ax3);  \n",
    "# labels, title and ticks\n",
    "ax3.set_xlabel('Predicted labels');ax3.set_ylabel('True labels'); \n",
    "ax3.set_title('Confusion Matrix for Hover Taxis')\n",
    "ax3.xaxis.set_ticklabels(['Not_Hover_Taxi', 'Hover_Taxi']); ax3.yaxis.set_ticklabels(['Not_Hover_Taxi', 'Hover_Taxi']);"
   ]
  },
  {
   "cell_type": "code",
   "execution_count": 89,
   "metadata": {},
   "outputs": [],
   "source": [
    "y3_pred_proba = LR3.predict_proba(x3_test)   # Get the probability of LR classification (replace with other classifier results as needed)\n",
    "                                          \n",
    "false_positive_rate3, true_positive_rate3, thresholds3 = metrics.roc_curve(y3_test, y3_pred_proba[:,1])     \n",
    "# Orignally predict_proba returned 2 values for both classes. \n",
    "# So, we picked second one which gives the probability of class 1"
   ]
  },
  {
   "cell_type": "code",
   "execution_count": 98,
   "metadata": {},
   "outputs": [
    {
     "data": {
      "text/plain": [
       "[<matplotlib.lines.Line2D at 0x1ba1fbb6c40>]"
      ]
     },
     "execution_count": 98,
     "metadata": {},
     "output_type": "execute_result"
    },
    {
     "data": {
      "image/png": "[encoded data removed]",
      "text/plain": [
       "<Figure size 432x288 with 1 Axes>"
      ]
     },
     "metadata": {
      "needs_background": "light"
     },
     "output_type": "display_data"
    }
   ],
   "source": [
    "# Plot ROC curve \n",
    "%matplotlib inline  \n",
    "plt.ylabel('True Positive Rate')\n",
    "plt.xlabel('False Positive Rate')\n",
    "plt.title('ROC curve for hover taxis')\n",
    "plt.plot(false_positive_rate3, true_positive_rate3)  \n"
   ]
  },
  {
   "cell_type": "code",
   "execution_count": 96,
   "metadata": {
    "scrolled": true
   },
   "outputs": [
    {
     "name": "stdout",
     "output_type": "stream",
     "text": [
      "AUC curve for hover taxis (LR) = 0.8989402946497802\n"
     ]
    }
   ],
   "source": [
    "# Compute AUC\n",
    "auc3 = metrics.auc(false_positive_rate3, true_positive_rate3)   # metrics also provide the auc area\n",
    "print(\"AUC curve for hover taxis (LR) =\", auc3)"
   ]
  },
  {
   "cell_type": "code",
   "execution_count": null,
   "metadata": {},
   "outputs": [],
   "source": []
  }
 ],
 "metadata": {
  "kernelspec": {
   "display_name": "Python 3",
   "language": "python",
   "name": "python3"
  },
  "language_info": {
   "codemirror_mode": {
    "name": "ipython",
    "version": 3
   },
   "file_extension": ".py",
   "mimetype": "text/x-python",
   "name": "python",
   "nbconvert_exporter": "python",
   "pygments_lexer": "ipython3",
   "version": "3.8.5"
  }
 },
 "nbformat": 4,
 "nbformat_minor": 4
}
